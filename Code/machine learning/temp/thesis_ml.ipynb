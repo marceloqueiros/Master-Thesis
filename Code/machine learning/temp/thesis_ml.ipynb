{
 "cells": [
  {
   "cell_type": "markdown",
   "metadata": {
    "_cell_guid": "ea24845a-4a15-4235-9ed2-4823acbf4317",
    "_uuid": "89022d89e1603ef3869a96b9da78da38b0b33b14",
    "slideshow": {
     "slide_type": "slide"
    }
   },
   "source": [
    "# Previsão Crash Risk com 48 medidas de redabilidade\n",
    "\n",
    "* PCA ou outro método para tentar prever com menos carateristicas\n",
    "* Qual o melhor output? NCSKEW, DUVOL ou Crash Count"
   ]
  },
  {
   "cell_type": "markdown",
   "metadata": {
    "_cell_guid": "ef4059c6-9397-4b72-85da-570f51ba139c",
    "_uuid": "f1d8b59b37d2ce04a5396a0ab183dc3000817113",
    "slideshow": {
     "slide_type": "-"
    }
   },
   "source": [
    "# Importar bibliotecas"
   ]
  },
  {
   "cell_type": "code",
   "execution_count": 1,
   "metadata": {
    "_cell_guid": "a33744a8-08c7-4158-a22f-e8f2008a25b0",
    "_kg_hide-input": false,
    "_kg_hide-output": false,
    "_uuid": "412b006d19b0209bd10ee4c6d15fdf59f8d2af38",
    "slideshow": {
     "slide_type": "-"
    }
   },
   "outputs": [],
   "source": [
    "import sys \n",
    "import pandas as pd\n",
    "import matplotlib\n",
    "import numpy as np\n",
    "import IPython\n",
    "from IPython import display\n",
    "import sklearn \n",
    "import random\n",
    "import time\n",
    "import warnings\n",
    "#warnings.filterwarnings('ignore')\n",
    "\n",
    "#import qgrid\n",
    "import _pickle as cPickle\n",
    "#Common Model Algorithms\n",
    "from sklearn import svm, tree, linear_model, neighbors, naive_bayes, ensemble, discriminant_analysis, gaussian_process\n",
    "from xgboost import XGBClassifier\n",
    "\n",
    "#Common Model Helpers\n",
    "from sklearn.preprocessing import OneHotEncoder, LabelEncoder\n",
    "from sklearn import preprocessing\n",
    "from sklearn import feature_selection\n",
    "from sklearn import model_selection\n",
    "from sklearn import metrics\n",
    "from sklearn.decomposition import PCA\n",
    "from sklearn.model_selection import RandomizedSearchCV\n",
    "\n",
    "from imblearn.over_sampling import SMOTE\n",
    "\n",
    "#Visualization\n",
    "import matplotlib as mpl\n",
    "import matplotlib.pyplot as plt\n",
    "import matplotlib.pylab as pylab\n",
    "import seaborn as sns\n",
    "from pandas.tools.plotting import scatter_matrix\n",
    "#Configure Visualization Defaults\n",
    "#%matplotlib inline = show plots in Jupyter Notebook browser\n",
    "%matplotlib inline\n",
    "mpl.style.use('ggplot')\n",
    "sns.set_style('white')\n",
    "pylab.rcParams['figure.figsize'] = 12,8"
   ]
  },
  {
   "cell_type": "markdown",
   "metadata": {
    "_cell_guid": "c6289058-157a-46ba-b5c3-f134b268f5cc",
    "_uuid": "a0fe0965de515e8c82cabd1fbd82cce993279f16",
    "slideshow": {
     "slide_type": "slide"
    }
   },
   "source": [
    "# Preparar e conhecer os dados"
   ]
  },
  {
   "cell_type": "markdown",
   "metadata": {
    "slideshow": {
     "slide_type": "slide"
    }
   },
   "source": [
    "## Carregar dataset\n",
    "\n",
    "* Dividir em (treino + informação histórica) e teste"
   ]
  },
  {
   "cell_type": "code",
   "execution_count": 2,
   "metadata": {
    "slideshow": {
     "slide_type": "subslide"
    }
   },
   "outputs": [
    {
     "name": "stdout",
     "output_type": "stream",
     "text": [
      "<class 'pandas.core.frame.DataFrame'>\n",
      "RangeIndex: 917 entries, 0 to 916\n",
      "Data columns (total 55 columns):\n",
      "cik                      917 non-null int64\n",
      "company                  917 non-null object\n",
      "year                     917 non-null int64\n",
      "date                     917 non-null int64\n",
      "ARI                      917 non-null object\n",
      "ARI.simple               917 non-null object\n",
      "ARI.NRI                  917 non-null object\n",
      "Bormuth.MC               917 non-null object\n",
      "Bormuth.GP               917 non-null object\n",
      "Coleman                  917 non-null object\n",
      "Coleman.C2               917 non-null object\n",
      "Coleman.Liau.ECP         917 non-null object\n",
      "Coleman.Liau.grade       917 non-null object\n",
      "Coleman.Liau.short       917 non-null object\n",
      "Dale.Chall               917 non-null object\n",
      "Dale.Chall.old           917 non-null object\n",
      "Dale.Chall.PSK           917 non-null object\n",
      "Danielson.Bryan          917 non-null object\n",
      "Danielson.Bryan.2        917 non-null object\n",
      "Dickes.Steiwer           917 non-null object\n",
      "DRP                      917 non-null object\n",
      "ELF                      917 non-null object\n",
      "Farr.Jenkins.Paterson    917 non-null object\n",
      "Flesch                   917 non-null object\n",
      "Flesch.PSK               917 non-null object\n",
      "Flesch.Kincaid           917 non-null object\n",
      "FOG                      917 non-null object\n",
      "FOG.PSK                  917 non-null object\n",
      "FOG.NRI                  917 non-null object\n",
      "FORCAST                  917 non-null object\n",
      "FORCAST.RGL              917 non-null object\n",
      "Fucks                    917 non-null object\n",
      "Linsear.Write            917 non-null object\n",
      "LIW                      917 non-null object\n",
      "nWS                      917 non-null object\n",
      "nWS.2                    917 non-null object\n",
      "nWS.3                    917 non-null object\n",
      "nWS.4                    917 non-null object\n",
      "RIX                      917 non-null object\n",
      "Scrabble                 917 non-null object\n",
      "SMOG                     917 non-null object\n",
      "SMOG.C                   917 non-null object\n",
      "SMOG.simple              917 non-null object\n",
      "SMOG.de                  917 non-null object\n",
      "Spache                   917 non-null object\n",
      "Spache.old               917 non-null object\n",
      "Strain                   917 non-null object\n",
      "Traenkle.Bailer          917 non-null object\n",
      "Traenkle.Bailer.2        917 non-null object\n",
      "Wheeler.Smith            917 non-null object\n",
      "meanSentenceLength       917 non-null object\n",
      "meanWordSyllables        917 non-null object\n",
      "NCSKEW                   917 non-null object\n",
      "DUVOL                    917 non-null object\n",
      "CRASH_COUNT              917 non-null int64\n",
      "dtypes: int64(4), object(51)\n",
      "memory usage: 394.1+ KB\n",
      "None\n",
      "----------\n",
      "<class 'pandas.core.frame.DataFrame'>\n",
      "RangeIndex: 917 entries, 0 to 916\n",
      "Data columns (total 55 columns):\n",
      "cik                      917 non-null int64\n",
      "company                  917 non-null object\n",
      "year                     917 non-null int64\n",
      "date                     917 non-null int64\n",
      "ARI                      917 non-null object\n",
      "ARI.simple               917 non-null object\n",
      "ARI.NRI                  917 non-null object\n",
      "Bormuth.MC               917 non-null object\n",
      "Bormuth.GP               917 non-null object\n",
      "Coleman                  917 non-null object\n",
      "Coleman.C2               917 non-null object\n",
      "Coleman.Liau.ECP         917 non-null object\n",
      "Coleman.Liau.grade       917 non-null object\n",
      "Coleman.Liau.short       917 non-null object\n",
      "Dale.Chall               917 non-null object\n",
      "Dale.Chall.old           917 non-null object\n",
      "Dale.Chall.PSK           917 non-null object\n",
      "Danielson.Bryan          917 non-null object\n",
      "Danielson.Bryan.2        917 non-null object\n",
      "Dickes.Steiwer           917 non-null object\n",
      "DRP                      917 non-null object\n",
      "ELF                      917 non-null object\n",
      "Farr.Jenkins.Paterson    917 non-null object\n",
      "Flesch                   917 non-null object\n",
      "Flesch.PSK               917 non-null object\n",
      "Flesch.Kincaid           917 non-null object\n",
      "FOG                      917 non-null object\n",
      "FOG.PSK                  917 non-null object\n",
      "FOG.NRI                  917 non-null object\n",
      "FORCAST                  917 non-null object\n",
      "FORCAST.RGL              917 non-null object\n",
      "Fucks                    917 non-null object\n",
      "Linsear.Write            917 non-null object\n",
      "LIW                      917 non-null object\n",
      "nWS                      917 non-null object\n",
      "nWS.2                    917 non-null object\n",
      "nWS.3                    917 non-null object\n",
      "nWS.4                    917 non-null object\n",
      "RIX                      917 non-null object\n",
      "Scrabble                 917 non-null object\n",
      "SMOG                     917 non-null object\n",
      "SMOG.C                   917 non-null object\n",
      "SMOG.simple              917 non-null object\n",
      "SMOG.de                  917 non-null object\n",
      "Spache                   917 non-null object\n",
      "Spache.old               917 non-null object\n",
      "Strain                   917 non-null object\n",
      "Traenkle.Bailer          917 non-null object\n",
      "Traenkle.Bailer.2        917 non-null object\n",
      "Wheeler.Smith            917 non-null object\n",
      "meanSentenceLength       917 non-null object\n",
      "meanWordSyllables        917 non-null object\n",
      "NCSKEW                   917 non-null object\n",
      "DUVOL                    917 non-null object\n",
      "CRASH_COUNT              917 non-null int64\n",
      "dtypes: int64(4), object(51)\n",
      "memory usage: 394.1+ KB\n",
      "None\n"
     ]
    }
   ],
   "source": [
    "#att means attempts\n",
    "att = pd.read_csv(\"Companies.csv\", sep=';', encoding = \"ISO-8859-1\") # , index_col = 0\n",
    "#attempts1 = attempts.copy(deep = True)\n",
    "#att_train = att.loc[(att['base'] == \"Treino\") | (att['base'] == \"Hist\")]\n",
    "#att_hist = att.loc[att['base'] == \"Hist\"]\n",
    "#att_test = att.loc[att['base'] == \"Teste\"]\n",
    "#att=None\n",
    "\n",
    "#preview info of data\n",
    "print(att.info())\n",
    "print(\"-\"*10)\n",
    "print(att.info())"
   ]
  },
  {
   "cell_type": "markdown",
   "metadata": {
    "_cell_guid": "b575d2d8-b77d-4810-9232-3b2726145ca8",
    "_uuid": "281ad467b485855c1a39116c5ed899ac3018689f",
    "slideshow": {
     "slide_type": "slide"
    }
   },
   "source": [
    "<a id=\"ch5\"></a>\n",
    "## Limpar dados iniciais\n",
    "\n",
    "* Valores nulos"
   ]
  },
  {
   "cell_type": "code",
   "execution_count": 3,
   "metadata": {
    "_cell_guid": "e2181a68-3c33-4040-83a9-99adee8363a0",
    "_kg_hide-input": false,
    "_kg_hide-output": false,
    "_uuid": "9a36681f0eda8ccc6396c64aa6bd6e8288461bcb",
    "scrolled": false,
    "slideshow": {
     "slide_type": "subslide"
    }
   },
   "outputs": [
    {
     "name": "stdout",
     "output_type": "stream",
     "text": [
      "Treino - Total de linhas:  917\n",
      "Treino - linhas com valores nulos / por feature:\n",
      " cik                      0\n",
      "company                  0\n",
      "year                     0\n",
      "date                     0\n",
      "ARI                      0\n",
      "ARI.simple               0\n",
      "ARI.NRI                  0\n",
      "Bormuth.MC               0\n",
      "Bormuth.GP               0\n",
      "Coleman                  0\n",
      "Coleman.C2               0\n",
      "Coleman.Liau.ECP         0\n",
      "Coleman.Liau.grade       0\n",
      "Coleman.Liau.short       0\n",
      "Dale.Chall               0\n",
      "Dale.Chall.old           0\n",
      "Dale.Chall.PSK           0\n",
      "Danielson.Bryan          0\n",
      "Danielson.Bryan.2        0\n",
      "Dickes.Steiwer           0\n",
      "DRP                      0\n",
      "ELF                      0\n",
      "Farr.Jenkins.Paterson    0\n",
      "Flesch                   0\n",
      "Flesch.PSK               0\n",
      "Flesch.Kincaid           0\n",
      "FOG                      0\n",
      "FOG.PSK                  0\n",
      "FOG.NRI                  0\n",
      "FORCAST                  0\n",
      "FORCAST.RGL              0\n",
      "Fucks                    0\n",
      "Linsear.Write            0\n",
      "LIW                      0\n",
      "nWS                      0\n",
      "nWS.2                    0\n",
      "nWS.3                    0\n",
      "nWS.4                    0\n",
      "RIX                      0\n",
      "Scrabble                 0\n",
      "SMOG                     0\n",
      "SMOG.C                   0\n",
      "SMOG.simple              0\n",
      "SMOG.de                  0\n",
      "Spache                   0\n",
      "Spache.old               0\n",
      "Strain                   0\n",
      "Traenkle.Bailer          0\n",
      "Traenkle.Bailer.2        0\n",
      "Wheeler.Smith            0\n",
      "meanSentenceLength       0\n",
      "meanWordSyllables        0\n",
      "NCSKEW                   0\n",
      "DUVOL                    0\n",
      "CRASH_COUNT              0\n",
      "dtype: int64\n",
      "------------------------------\n"
     ]
    }
   ],
   "source": [
    "print(\"Treino - Total de linhas: \", len(att))\n",
    "print('Treino - linhas com valores nulos / por feature:\\n', att.isnull().sum())\n",
    "print(\"-\"*30)\n",
    "\n",
    "#print(\"Hist - Total de linhas: \", len(att_hist))\n",
    "#print('Hist - linhas com valores nulos / por feature:\\n', att_hist.isnull().sum())\n",
    "#print(\"-\"*30)\n",
    "\n",
    "#print(\"Test - Total de linhas: \", len(att_test))\n",
    "#print('Test - linhas com valores nulos / por feature:\\n', att_test.isnull().sum())"
   ]
  },
  {
   "cell_type": "markdown",
   "metadata": {
    "slideshow": {
     "slide_type": "slide"
    }
   },
   "source": [
    "* Coluna base apenas divide o dataset em treino, hist e teste, sem relação com a previsão.\n",
    "* Colunas duracao e tipificacao são preenchidas após o atendimento.\n",
    "\n",
    "* A partir da data da tentativa podemos contruir várias features, pelo que a coluna é essencial, vamos assim eliminar as linhas sem esta coluna."
   ]
  },
  {
   "cell_type": "code",
   "execution_count": 4,
   "metadata": {
    "_cell_guid": "56e3e982-a23a-4c84-b8a1-976adc94aa0b",
    "_uuid": "160dd59e4ebe7a94521c65da2746ca370b4bd694",
    "slideshow": {
     "slide_type": "subslide"
    }
   },
   "outputs": [],
   "source": [
    "###COMPLETING: complete or delete missing values in train and test/validation dataset\n",
    "#att.data_do_lote.unique()\n",
    "#att = [att, att_test] #pointer to all datasets\n",
    "#for dataset in att_pointer:    \n",
    "    #data_do_lote nao interessa\n",
    "    #duracao e tipificaçao já veem depois do outcome\n",
    "#    drop_column = ['base', 'duracao', 'tipificacao']\n",
    "#    if drop_column[0] in dataset.columns: #if one don't exist, the others don't exist too\n",
    "#        dataset.drop(drop_column, axis = 1, inplace = True)\n",
    "#    drop_lines = ['dt_hr_tentativa']\n",
    "#    dataset.dropna(subset=drop_lines, inplace = True)\n",
    "\n",
    "    #eliminar base\n",
    "    \n",
    "#print(\"Treino - Total de linhas: \", len(att))\n",
    "#print('Treino - linhas com valores nulos / por feature:\\n', att.isnull().sum())\n",
    "\n",
    "#att.describe(include = 'all')"
   ]
  },
  {
   "cell_type": "markdown",
   "metadata": {
    "slideshow": {
     "slide_type": "slide"
    }
   },
   "source": [
    "## Feature Engineering\n",
    "\n",
    "* Datas para floats, ex: 33,5 significa dia 33 desde a data minima do dataset, às 12h (0.5).\n",
    "\n",
    "\n",
    "* Criar lista dos feriados em Portugal, para criar a feature ser feriado ou não.\n",
    "\n",
    "\n",
    "* Criar lista das horas de trabalho (9-18h)."
   ]
  },
  {
   "cell_type": "code",
   "execution_count": 5,
   "metadata": {
    "collapsed": true,
    "slideshow": {
     "slide_type": "subslide"
    }
   },
   "outputs": [],
   "source": [
    "# #def is_business_day(row):\n",
    "# #    print(row)\n",
    "# #    return bool(len(pd.bdate_range(row, row)))\n",
    "# #pd.bdate_range() tells us how many business days are in the supplied range of dates\n",
    "# #we can cast this to a bool to determine if a range of a single day is a business day\n",
    "# att_pointer = [att, att_test] #pointer to all datasets\n",
    "# for dataset in att_pointer: \n",
    "#     #convert date to pandas datetime\n",
    "#     dataset['dt_hr_tentativa'] = pd.to_datetime(dataset['dt_hr_tentativa'], format= '%d%b20%y:%H:%M:%S.%f')\n",
    "#     dataset['data_do_lote'] = pd.to_datetime(dataset['data_do_lote'], format='%Y-%m-%d')\n",
    "    \n",
    "# min_date = pd.to_datetime([att['dt_hr_tentativa'].min().date(), att_test['dt_hr_tentativa'].min().date()]).min()\n",
    "\n",
    "# #from pandas.tseries.holiday import USFederalHolidayCalendar as calendar\n",
    "# #cal = calendar()\n",
    "# #holidays = cal.holidays()\n",
    "# #att['working_day'] = ~att['weekday'].isin([\"Saturday\", \"Sunday\"])\n",
    "\n",
    "# pt_holidays = pd.to_datetime([\"2016-01-01\", \"2016-03-25\", \"2016-03-27\", \"2016-04-25\", \"2016-05-01\", \"2016-05-26\", \"2016-06-10\", \"2016-08-15\", \"2016-10-05\", \"2016-11-01\", \"2016-12-01\", \"2016-12-08\", \"2016-12-25\",\n",
    "#                \"2017-01-01\", \"2017-04-14\", \"2017-04-16\", \"2017-04-25\", \"2017-05-01\", \"2017-06-10\", \"2017-06-15\", \"2017-08-15\", \"2017-10-05\", \"2017-11-01\", \"2017-12-01\", \"2017-12-08\", \"2017-12-25\"])\n",
    "\n",
    "# b_hours = pd.to_datetime([9,10,11,12,14,15,16,17], format=\"%H\")\n",
    "# #12 hours finish in 12:59 and 17 hours in 17:59\n",
    "# #9-13 14-18"
   ]
  },
  {
   "cell_type": "markdown",
   "metadata": {
    "slideshow": {
     "slide_type": "subslide"
    }
   },
   "source": [
    "* Hora do dia (em minutos passados, representada em inteiro).\n",
    "\n",
    "* Dia da semana (ex: Segunda).\n",
    "\n",
    "* Variável bool para dia útil.\n",
    "\n",
    "* Saber quantas tentativas já foram feitas para o cliente e para o contacto específico do mesmo.\n",
    "\n",
    "* Saber há quanto tempo foi a última tentativa."
   ]
  },
  {
   "cell_type": "code",
   "execution_count": 6,
   "metadata": {
    "collapsed": true
   },
   "outputs": [],
   "source": [
    "# att_pointer = [att_train, att_test] #pointer to all datasets\n",
    "# for dataset in att_pointer:\n",
    "#     #hours + minutes in minutes\n",
    "#     dataset['time'] = (dataset['dt_hr_tentativa'].dt.hour*60 + dataset['dt_hr_tentativa'].dt.minute)*60\n",
    "#     #easy method to convert date to float, and we can see units as days after min_date\n",
    "#     dataset['day_att'] = (dataset['dt_hr_tentativa'] - min_date)  / np.timedelta64(1,'D')\n",
    "#     dataset['data_do_lote'] =(dataset['data_do_lote'] - min_date)  / np.timedelta64(1,'D')\n",
    "#     dataset['weekday'] = dataset['dt_hr_tentativa'].dt.weekday_name\n",
    "    \n",
    "#     dataset['business_day'] = ~ dataset['weekday'].isin([\"Saturday\", \"Sunday\"]) # ~ not\n",
    "    \n",
    "#     dataset['holiday'] = dataset['dt_hr_tentativa'].dt.date.isin(pt_holidays.date)   \n",
    "    \n",
    "#     dataset['business_hour'] = dataset['dt_hr_tentativa'].dt.hour.isin(b_hours.hour)\n",
    "    \n",
    "#     dataset.sort_values(['id_Cliente_A', 'day_att'], inplace=True)#, ascending=[True, False]\n",
    "    \n",
    "#     dataset['att_count'] = dataset.groupby('id_Cliente_A')['id_Cliente_A'].cumcount()\n",
    "    \n",
    "#     dataset['time_after_last_att'] = dataset.groupby('id_Cliente_A')['day_att'].apply(lambda x: x - x.shift())\n",
    "#     dataset['time_after_last_att'].fillna(0, inplace = True)\n",
    "#     #complete number of client\n",
    "#     dataset['tl_client_temp'] = dataset['indic_tlf_dest_A'].map(str) + dataset['tlf_destino_A'].map(str)\n",
    "    \n",
    "#     #how many tels client have? identify\n",
    "#     #dataset['tl_client'] = dataset.groupby(['id_Cliente_A'])['tl_client'].transform(lambda x: pd.factorize(x)[0])\n",
    "    \n",
    "#     dataset['att_count_per_tl'] = dataset.groupby(['id_Cliente_A', 'tl_client_temp'])['tl_client_temp'].cumcount()\n",
    "#     del dataset['tl_client_temp']\n",
    "#     #tranform \n",
    "#     dataset['tl_type'] = -1 #0-phone 1-mobile\n",
    "#     dataset.loc[dataset['indic_tlf_dest_A'].astype(str).str[0].isin(['9']), 'tl_type'] = 1\n",
    "#     dataset.loc[~dataset['indic_tlf_dest_A'].astype(str).str[0].isin(['9']), 'tl_type'] = 0\n"
   ]
  },
  {
   "cell_type": "markdown",
   "metadata": {
    "_cell_guid": "8a13c80c-9f6b-405a-bba2-d3fb9b1cf19d",
    "_uuid": "d3d49dc8106082d149dc4058b002355fc809726b",
    "slideshow": {
     "slide_type": "slide"
    }
   },
   "source": [
    "<a id=\"ch6\"></a>\n",
    "# Analise exploratória de dados"
   ]
  },
  {
   "cell_type": "code",
   "execution_count": 5,
   "metadata": {
    "_cell_guid": "00d10c37-5d8a-4eaf-8fe8-25a0b58e0bfd",
    "_uuid": "e2ef29db7e31dc83c10238ee33ad4ad0ad426183",
    "scrolled": false
   },
   "outputs": [
    {
     "name": "stdout",
     "output_type": "stream",
     "text": [
      "<class 'pandas.core.frame.DataFrame'>\n",
      "RangeIndex: 917 entries, 0 to 916\n",
      "Data columns (total 55 columns):\n",
      "cik                      917 non-null int64\n",
      "company                  917 non-null object\n",
      "year                     917 non-null int64\n",
      "date                     917 non-null int64\n",
      "ARI                      917 non-null object\n",
      "ARI.simple               917 non-null object\n",
      "ARI.NRI                  917 non-null object\n",
      "Bormuth.MC               917 non-null object\n",
      "Bormuth.GP               917 non-null object\n",
      "Coleman                  917 non-null object\n",
      "Coleman.C2               917 non-null object\n",
      "Coleman.Liau.ECP         917 non-null object\n",
      "Coleman.Liau.grade       917 non-null object\n",
      "Coleman.Liau.short       917 non-null object\n",
      "Dale.Chall               917 non-null object\n",
      "Dale.Chall.old           917 non-null object\n",
      "Dale.Chall.PSK           917 non-null object\n",
      "Danielson.Bryan          917 non-null object\n",
      "Danielson.Bryan.2        917 non-null object\n",
      "Dickes.Steiwer           917 non-null object\n",
      "DRP                      917 non-null object\n",
      "ELF                      917 non-null object\n",
      "Farr.Jenkins.Paterson    917 non-null object\n",
      "Flesch                   917 non-null object\n",
      "Flesch.PSK               917 non-null object\n",
      "Flesch.Kincaid           917 non-null object\n",
      "FOG                      917 non-null object\n",
      "FOG.PSK                  917 non-null object\n",
      "FOG.NRI                  917 non-null object\n",
      "FORCAST                  917 non-null object\n",
      "FORCAST.RGL              917 non-null object\n",
      "Fucks                    917 non-null object\n",
      "Linsear.Write            917 non-null object\n",
      "LIW                      917 non-null object\n",
      "nWS                      917 non-null object\n",
      "nWS.2                    917 non-null object\n",
      "nWS.3                    917 non-null object\n",
      "nWS.4                    917 non-null object\n",
      "RIX                      917 non-null object\n",
      "Scrabble                 917 non-null object\n",
      "SMOG                     917 non-null object\n",
      "SMOG.C                   917 non-null object\n",
      "SMOG.simple              917 non-null object\n",
      "SMOG.de                  917 non-null object\n",
      "Spache                   917 non-null object\n",
      "Spache.old               917 non-null object\n",
      "Strain                   917 non-null object\n",
      "Traenkle.Bailer          917 non-null object\n",
      "Traenkle.Bailer.2        917 non-null object\n",
      "Wheeler.Smith            917 non-null object\n",
      "meanSentenceLength       917 non-null object\n",
      "meanWordSyllables        917 non-null object\n",
      "NCSKEW                   917 non-null object\n",
      "DUVOL                    917 non-null object\n",
      "CRASH_COUNT              917 non-null int64\n",
      "dtypes: int64(4), object(51)\n",
      "memory usage: 394.1+ KB\n",
      "None\n",
      "--------------------\n"
     ]
    },
    {
     "data": {
      "text/html": [
       "<div>\n",
       "<style scoped>\n",
       "    .dataframe tbody tr th:only-of-type {\n",
       "        vertical-align: middle;\n",
       "    }\n",
       "\n",
       "    .dataframe tbody tr th {\n",
       "        vertical-align: top;\n",
       "    }\n",
       "\n",
       "    .dataframe thead th {\n",
       "        text-align: right;\n",
       "    }\n",
       "</style>\n",
       "<table border=\"1\" class=\"dataframe\">\n",
       "  <thead>\n",
       "    <tr style=\"text-align: right;\">\n",
       "      <th></th>\n",
       "      <th>cik</th>\n",
       "      <th>company</th>\n",
       "      <th>year</th>\n",
       "      <th>date</th>\n",
       "      <th>ARI</th>\n",
       "      <th>ARI.simple</th>\n",
       "      <th>ARI.NRI</th>\n",
       "      <th>Bormuth.MC</th>\n",
       "      <th>Bormuth.GP</th>\n",
       "      <th>Coleman</th>\n",
       "      <th>...</th>\n",
       "      <th>Spache.old</th>\n",
       "      <th>Strain</th>\n",
       "      <th>Traenkle.Bailer</th>\n",
       "      <th>Traenkle.Bailer.2</th>\n",
       "      <th>Wheeler.Smith</th>\n",
       "      <th>meanSentenceLength</th>\n",
       "      <th>meanWordSyllables</th>\n",
       "      <th>NCSKEW</th>\n",
       "      <th>DUVOL</th>\n",
       "      <th>CRASH_COUNT</th>\n",
       "    </tr>\n",
       "  </thead>\n",
       "  <tbody>\n",
       "    <tr>\n",
       "      <th>count</th>\n",
       "      <td>9.170000e+02</td>\n",
       "      <td>917</td>\n",
       "      <td>917.000000</td>\n",
       "      <td>9.170000e+02</td>\n",
       "      <td>917</td>\n",
       "      <td>917</td>\n",
       "      <td>917</td>\n",
       "      <td>917</td>\n",
       "      <td>917</td>\n",
       "      <td>917</td>\n",
       "      <td>...</td>\n",
       "      <td>917</td>\n",
       "      <td>917</td>\n",
       "      <td>917</td>\n",
       "      <td>917</td>\n",
       "      <td>917</td>\n",
       "      <td>917</td>\n",
       "      <td>917</td>\n",
       "      <td>917</td>\n",
       "      <td>917</td>\n",
       "      <td>917.000000</td>\n",
       "    </tr>\n",
       "    <tr>\n",
       "      <th>unique</th>\n",
       "      <td>NaN</td>\n",
       "      <td>99</td>\n",
       "      <td>NaN</td>\n",
       "      <td>NaN</td>\n",
       "      <td>915</td>\n",
       "      <td>915</td>\n",
       "      <td>915</td>\n",
       "      <td>915</td>\n",
       "      <td>915</td>\n",
       "      <td>915</td>\n",
       "      <td>...</td>\n",
       "      <td>915</td>\n",
       "      <td>915</td>\n",
       "      <td>915</td>\n",
       "      <td>915</td>\n",
       "      <td>915</td>\n",
       "      <td>915</td>\n",
       "      <td>915</td>\n",
       "      <td>915</td>\n",
       "      <td>915</td>\n",
       "      <td>NaN</td>\n",
       "    </tr>\n",
       "    <tr>\n",
       "      <th>top</th>\n",
       "      <td>NaN</td>\n",
       "      <td>DANAHER</td>\n",
       "      <td>NaN</td>\n",
       "      <td>NaN</td>\n",
       "      <td>17,3279923644657</td>\n",
       "      <td>75,2939704082571</td>\n",
       "      <td>15,4148128528705</td>\n",
       "      <td>-5,13257163656245</td>\n",
       "      <td>355438662,773205</td>\n",
       "      <td>29,3670760445935</td>\n",
       "      <td>...</td>\n",
       "      <td>9,24967952030421</td>\n",
       "      <td>15,1950827897642</td>\n",
       "      <td>-559,661384071349</td>\n",
       "      <td>-317,704276183993</td>\n",
       "      <td>130,432692307692</td>\n",
       "      <td>27,6793778223783</td>\n",
       "      <td>1,85036987222596</td>\n",
       "      <td>1,25272836556086</td>\n",
       "      <td>0,0555459726516905</td>\n",
       "      <td>NaN</td>\n",
       "    </tr>\n",
       "    <tr>\n",
       "      <th>freq</th>\n",
       "      <td>NaN</td>\n",
       "      <td>10</td>\n",
       "      <td>NaN</td>\n",
       "      <td>NaN</td>\n",
       "      <td>2</td>\n",
       "      <td>2</td>\n",
       "      <td>2</td>\n",
       "      <td>2</td>\n",
       "      <td>2</td>\n",
       "      <td>2</td>\n",
       "      <td>...</td>\n",
       "      <td>2</td>\n",
       "      <td>2</td>\n",
       "      <td>2</td>\n",
       "      <td>2</td>\n",
       "      <td>2</td>\n",
       "      <td>2</td>\n",
       "      <td>2</td>\n",
       "      <td>2</td>\n",
       "      <td>2</td>\n",
       "      <td>NaN</td>\n",
       "    </tr>\n",
       "    <tr>\n",
       "      <th>mean</th>\n",
       "      <td>6.039561e+05</td>\n",
       "      <td>NaN</td>\n",
       "      <td>2012.642312</td>\n",
       "      <td>2.012676e+07</td>\n",
       "      <td>NaN</td>\n",
       "      <td>NaN</td>\n",
       "      <td>NaN</td>\n",
       "      <td>NaN</td>\n",
       "      <td>NaN</td>\n",
       "      <td>NaN</td>\n",
       "      <td>...</td>\n",
       "      <td>NaN</td>\n",
       "      <td>NaN</td>\n",
       "      <td>NaN</td>\n",
       "      <td>NaN</td>\n",
       "      <td>NaN</td>\n",
       "      <td>NaN</td>\n",
       "      <td>NaN</td>\n",
       "      <td>NaN</td>\n",
       "      <td>NaN</td>\n",
       "      <td>-0.248637</td>\n",
       "    </tr>\n",
       "    <tr>\n",
       "      <th>std</th>\n",
       "      <td>5.167679e+05</td>\n",
       "      <td>NaN</td>\n",
       "      <td>2.876778</td>\n",
       "      <td>2.876625e+04</td>\n",
       "      <td>NaN</td>\n",
       "      <td>NaN</td>\n",
       "      <td>NaN</td>\n",
       "      <td>NaN</td>\n",
       "      <td>NaN</td>\n",
       "      <td>NaN</td>\n",
       "      <td>...</td>\n",
       "      <td>NaN</td>\n",
       "      <td>NaN</td>\n",
       "      <td>NaN</td>\n",
       "      <td>NaN</td>\n",
       "      <td>NaN</td>\n",
       "      <td>NaN</td>\n",
       "      <td>NaN</td>\n",
       "      <td>NaN</td>\n",
       "      <td>NaN</td>\n",
       "      <td>1.769869</td>\n",
       "    </tr>\n",
       "    <tr>\n",
       "      <th>min</th>\n",
       "      <td>1.800000e+03</td>\n",
       "      <td>NaN</td>\n",
       "      <td>2008.000000</td>\n",
       "      <td>2.008013e+07</td>\n",
       "      <td>NaN</td>\n",
       "      <td>NaN</td>\n",
       "      <td>NaN</td>\n",
       "      <td>NaN</td>\n",
       "      <td>NaN</td>\n",
       "      <td>NaN</td>\n",
       "      <td>...</td>\n",
       "      <td>NaN</td>\n",
       "      <td>NaN</td>\n",
       "      <td>NaN</td>\n",
       "      <td>NaN</td>\n",
       "      <td>NaN</td>\n",
       "      <td>NaN</td>\n",
       "      <td>NaN</td>\n",
       "      <td>NaN</td>\n",
       "      <td>NaN</td>\n",
       "      <td>-5.000000</td>\n",
       "    </tr>\n",
       "    <tr>\n",
       "      <th>25%</th>\n",
       "      <td>6.480300e+04</td>\n",
       "      <td>NaN</td>\n",
       "      <td>2010.000000</td>\n",
       "      <td>2.010023e+07</td>\n",
       "      <td>NaN</td>\n",
       "      <td>NaN</td>\n",
       "      <td>NaN</td>\n",
       "      <td>NaN</td>\n",
       "      <td>NaN</td>\n",
       "      <td>NaN</td>\n",
       "      <td>...</td>\n",
       "      <td>NaN</td>\n",
       "      <td>NaN</td>\n",
       "      <td>NaN</td>\n",
       "      <td>NaN</td>\n",
       "      <td>NaN</td>\n",
       "      <td>NaN</td>\n",
       "      <td>NaN</td>\n",
       "      <td>NaN</td>\n",
       "      <td>NaN</td>\n",
       "      <td>-1.000000</td>\n",
       "    </tr>\n",
       "    <tr>\n",
       "      <th>50%</th>\n",
       "      <td>7.327170e+05</td>\n",
       "      <td>NaN</td>\n",
       "      <td>2013.000000</td>\n",
       "      <td>2.013022e+07</td>\n",
       "      <td>NaN</td>\n",
       "      <td>NaN</td>\n",
       "      <td>NaN</td>\n",
       "      <td>NaN</td>\n",
       "      <td>NaN</td>\n",
       "      <td>NaN</td>\n",
       "      <td>...</td>\n",
       "      <td>NaN</td>\n",
       "      <td>NaN</td>\n",
       "      <td>NaN</td>\n",
       "      <td>NaN</td>\n",
       "      <td>NaN</td>\n",
       "      <td>NaN</td>\n",
       "      <td>NaN</td>\n",
       "      <td>NaN</td>\n",
       "      <td>NaN</td>\n",
       "      <td>0.000000</td>\n",
       "    </tr>\n",
       "    <tr>\n",
       "      <th>75%</th>\n",
       "      <td>1.048911e+06</td>\n",
       "      <td>NaN</td>\n",
       "      <td>2015.000000</td>\n",
       "      <td>2.015023e+07</td>\n",
       "      <td>NaN</td>\n",
       "      <td>NaN</td>\n",
       "      <td>NaN</td>\n",
       "      <td>NaN</td>\n",
       "      <td>NaN</td>\n",
       "      <td>NaN</td>\n",
       "      <td>...</td>\n",
       "      <td>NaN</td>\n",
       "      <td>NaN</td>\n",
       "      <td>NaN</td>\n",
       "      <td>NaN</td>\n",
       "      <td>NaN</td>\n",
       "      <td>NaN</td>\n",
       "      <td>NaN</td>\n",
       "      <td>NaN</td>\n",
       "      <td>NaN</td>\n",
       "      <td>1.000000</td>\n",
       "    </tr>\n",
       "    <tr>\n",
       "      <th>max</th>\n",
       "      <td>1.652044e+06</td>\n",
       "      <td>NaN</td>\n",
       "      <td>2017.000000</td>\n",
       "      <td>2.017112e+07</td>\n",
       "      <td>NaN</td>\n",
       "      <td>NaN</td>\n",
       "      <td>NaN</td>\n",
       "      <td>NaN</td>\n",
       "      <td>NaN</td>\n",
       "      <td>NaN</td>\n",
       "      <td>...</td>\n",
       "      <td>NaN</td>\n",
       "      <td>NaN</td>\n",
       "      <td>NaN</td>\n",
       "      <td>NaN</td>\n",
       "      <td>NaN</td>\n",
       "      <td>NaN</td>\n",
       "      <td>NaN</td>\n",
       "      <td>NaN</td>\n",
       "      <td>NaN</td>\n",
       "      <td>6.000000</td>\n",
       "    </tr>\n",
       "  </tbody>\n",
       "</table>\n",
       "<p>11 rows × 55 columns</p>\n",
       "</div>"
      ],
      "text/plain": [
       "                 cik  company         year          date               ARI  \\\n",
       "count   9.170000e+02      917   917.000000  9.170000e+02               917   \n",
       "unique           NaN       99          NaN           NaN               915   \n",
       "top              NaN  DANAHER          NaN           NaN  17,3279923644657   \n",
       "freq             NaN       10          NaN           NaN                 2   \n",
       "mean    6.039561e+05      NaN  2012.642312  2.012676e+07               NaN   \n",
       "std     5.167679e+05      NaN     2.876778  2.876625e+04               NaN   \n",
       "min     1.800000e+03      NaN  2008.000000  2.008013e+07               NaN   \n",
       "25%     6.480300e+04      NaN  2010.000000  2.010023e+07               NaN   \n",
       "50%     7.327170e+05      NaN  2013.000000  2.013022e+07               NaN   \n",
       "75%     1.048911e+06      NaN  2015.000000  2.015023e+07               NaN   \n",
       "max     1.652044e+06      NaN  2017.000000  2.017112e+07               NaN   \n",
       "\n",
       "              ARI.simple           ARI.NRI         Bormuth.MC  \\\n",
       "count                917               917                917   \n",
       "unique               915               915                915   \n",
       "top     75,2939704082571  15,4148128528705  -5,13257163656245   \n",
       "freq                   2                 2                  2   \n",
       "mean                 NaN               NaN                NaN   \n",
       "std                  NaN               NaN                NaN   \n",
       "min                  NaN               NaN                NaN   \n",
       "25%                  NaN               NaN                NaN   \n",
       "50%                  NaN               NaN                NaN   \n",
       "75%                  NaN               NaN                NaN   \n",
       "max                  NaN               NaN                NaN   \n",
       "\n",
       "              Bormuth.GP           Coleman     ...            Spache.old  \\\n",
       "count                917               917     ...                   917   \n",
       "unique               915               915     ...                   915   \n",
       "top     355438662,773205  29,3670760445935     ...      9,24967952030421   \n",
       "freq                   2                 2     ...                     2   \n",
       "mean                 NaN               NaN     ...                   NaN   \n",
       "std                  NaN               NaN     ...                   NaN   \n",
       "min                  NaN               NaN     ...                   NaN   \n",
       "25%                  NaN               NaN     ...                   NaN   \n",
       "50%                  NaN               NaN     ...                   NaN   \n",
       "75%                  NaN               NaN     ...                   NaN   \n",
       "max                  NaN               NaN     ...                   NaN   \n",
       "\n",
       "                  Strain    Traenkle.Bailer  Traenkle.Bailer.2  \\\n",
       "count                917                917                917   \n",
       "unique               915                915                915   \n",
       "top     15,1950827897642  -559,661384071349  -317,704276183993   \n",
       "freq                   2                  2                  2   \n",
       "mean                 NaN                NaN                NaN   \n",
       "std                  NaN                NaN                NaN   \n",
       "min                  NaN                NaN                NaN   \n",
       "25%                  NaN                NaN                NaN   \n",
       "50%                  NaN                NaN                NaN   \n",
       "75%                  NaN                NaN                NaN   \n",
       "max                  NaN                NaN                NaN   \n",
       "\n",
       "           Wheeler.Smith meanSentenceLength meanWordSyllables  \\\n",
       "count                917                917               917   \n",
       "unique               915                915               915   \n",
       "top     130,432692307692   27,6793778223783  1,85036987222596   \n",
       "freq                   2                  2                 2   \n",
       "mean                 NaN                NaN               NaN   \n",
       "std                  NaN                NaN               NaN   \n",
       "min                  NaN                NaN               NaN   \n",
       "25%                  NaN                NaN               NaN   \n",
       "50%                  NaN                NaN               NaN   \n",
       "75%                  NaN                NaN               NaN   \n",
       "max                  NaN                NaN               NaN   \n",
       "\n",
       "                  NCSKEW               DUVOL CRASH_COUNT  \n",
       "count                917                 917  917.000000  \n",
       "unique               915                 915         NaN  \n",
       "top     1,25272836556086  0,0555459726516905         NaN  \n",
       "freq                   2                   2         NaN  \n",
       "mean                 NaN                 NaN   -0.248637  \n",
       "std                  NaN                 NaN    1.769869  \n",
       "min                  NaN                 NaN   -5.000000  \n",
       "25%                  NaN                 NaN   -1.000000  \n",
       "50%                  NaN                 NaN    0.000000  \n",
       "75%                  NaN                 NaN    1.000000  \n",
       "max                  NaN                 NaN    6.000000  \n",
       "\n",
       "[11 rows x 55 columns]"
      ]
     },
     "execution_count": 5,
     "metadata": {},
     "output_type": "execute_result"
    }
   ],
   "source": [
    "print(att.info())\n",
    "print(\"-\"*20)\n",
    "att.describe(include = 'all')"
   ]
  },
  {
   "cell_type": "markdown",
   "metadata": {
    "slideshow": {
     "slide_type": "subslide"
    }
   },
   "source": [
    "## Transformar outcome"
   ]
  },
  {
   "cell_type": "code",
   "execution_count": 7,
   "metadata": {
    "slideshow": {
     "slide_type": "subslide"
    }
   },
   "outputs": [
    {
     "name": "stdout",
     "output_type": "stream",
     "text": [
      "AxesSubplot(0.125,0.125;0.775x0.755)\n"
     ]
    },
    {
     "data": {
      "image/png": "[encoded data removed]",
      "text/plain": [
       "<matplotlib.figure.Figure at 0x7f508f8dc908>"
      ]
     },
     "metadata": {},
     "output_type": "display_data"
    }
   ],
   "source": [
    "print(att.NCSKEW.value_counts().plot(kind='bar'))\n",
    "#print(\"-\" * 20)\n",
    "#print(att_hist['outcome'].value_counts())\n",
    "#print(\"-\" * 20)"
   ]
  },
  {
   "cell_type": "markdown",
   "metadata": {
    "slideshow": {
     "slide_type": "slide"
    }
   },
   "source": [
    "* No entanto os registos com base = treino têm apenas estes casos:"
   ]
  },
  {
   "cell_type": "code",
   "execution_count": 9,
   "metadata": {
    "slideshow": {
     "slide_type": "subslide"
    }
   },
   "outputs": [
    {
     "name": "stdout",
     "output_type": "stream",
     "text": [
      "AxesSubplot(0.125,0.125;0.775x0.755)\n"
     ]
    },
    {
     "data": {
      "image/png": "[encoded data removed]",
      "text/plain": [
       "<matplotlib.figure.Figure at 0x7fa6740c1c18>"
      ]
     },
     "metadata": {},
     "output_type": "display_data"
    }
   ],
   "source": [
    "print(att.loc[att.day_att > 450]['outcome'].value_counts().plot(kind='bar'))"
   ]
  },
  {
   "cell_type": "markdown",
   "metadata": {
    "slideshow": {
     "slide_type": "subslide"
    }
   },
   "source": [
    "* Não considerar busy e invalid number por terem pouco volume e não significarem que o cliente atenderia ou não.\n",
    "* Handled - **Cliente atende** e chamada é atribuída a agente\n",
    "* Nuisance - **Cliente atende** mas chamada não é atribuida a nenhum agente e cliente acaba por desligar\n",
    "* machine - **Cliente não atende** após máximo de toques e tem voicemail configurado.\n",
    "* no answer - **Cliente não atende** após máximo de toques e não tem voicemail configurado\n",
    "* Rejected - Chamada rejeitada <=> **Cliente não atende**\n",
    "\n",
    "* Transformação binária"
   ]
  },
  {
   "cell_type": "code",
   "execution_count": 7,
   "metadata": {
    "collapsed": true
   },
   "outputs": [],
   "source": [
    "#don't consider busy and invalid number\n",
    "att_train = att_train[att_train.outcome.isin(['machine', 'no answer', 'rejected', 'handled', 'nuisance'])]\n",
    "#att_hist = att_hist[att_hist.outcome.isin(['machine', 'no answer', 'rejected','handled', 'nuisance'])]\n",
    "\n",
    "#0 - not answer   1 - answer\n",
    "att_pointer = [att_train, att_test] #pointer to all datasets\n",
    "for dataset in att_pointer:  \n",
    "    dataset.loc[dataset['outcome'].isin(['machine', 'no answer', 'rejected']), 'outcome'] = 0\n",
    "    dataset.loc[dataset['outcome'].isin(['handled', 'nuisance']), 'outcome'] = 1\n",
    "\n",
    "#print(att_train['outcome'].value_counts().plot(kind='bar'))\n",
    "#print(\"-\" * 20)\n",
    "#print(att_hist['outcome'].value_counts())"
   ]
  },
  {
   "cell_type": "markdown",
   "metadata": {
    "slideshow": {
     "slide_type": "slide"
    }
   },
   "source": [
    "## Eliminar features tlf_origem_A e indic_tlf_ori_A\n",
    "\n",
    "* Indicativo e número do telefone de origem têm o mesmo valor para todos os casos, logo não têm interferência nos modelos\n"
   ]
  },
  {
   "cell_type": "code",
   "execution_count": 8,
   "metadata": {
    "slideshow": {
     "slide_type": "subslide"
    }
   },
   "outputs": [
    {
     "name": "stdout",
     "output_type": "stream",
     "text": [
      "7    1284932\n",
      "Name: tlf_origem_A, dtype: int64\n",
      "22    1284932\n",
      "Name: indic_tlf_ori_A, dtype: int64\n"
     ]
    }
   ],
   "source": [
    "print(att_train['tlf_origem_A'].value_counts())\n",
    "print(att_train['indic_tlf_ori_A'].value_counts())\n",
    "\n",
    "att_pointer = [att_train, att_test]\n",
    "for dataset in att_pointer:   \n",
    "    del dataset['tlf_origem_A']\n",
    "    del dataset['indic_tlf_ori_A']"
   ]
  },
  {
   "cell_type": "markdown",
   "metadata": {
    "slideshow": {
     "slide_type": "slide"
    }
   },
   "source": [
    "## Influência das tentativas e tempo após a última no outcome"
   ]
  },
  {
   "cell_type": "code",
   "execution_count": 12,
   "metadata": {
    "_cell_guid": "ada8f356-f5bf-4629-81c9-b5a95e16a09d",
    "_uuid": "a8485baedcf8d61ab13c1cb19d3654a835ce1765",
    "slideshow": {
     "slide_type": "subslide"
    }
   },
   "outputs": [
    {
     "name": "stderr",
     "output_type": "stream",
     "text": [
      "/home/programs/lib/python3.6/site-packages/numpy/core/fromnumeric.py:52: FutureWarning: reshape is deprecated and will raise in a subsequent release. Please use .values.reshape(...) instead\n",
      "  return getattr(obj, method)(*args, **kwds)\n"
     ]
    },
    {
     "data": {
      "text/plain": [
       "<matplotlib.legend.Legend at 0x7fa673faa080>"
      ]
     },
     "execution_count": 12,
     "metadata": {},
     "output_type": "execute_result"
    },
    {
     "data": {
      "image/png": "[encoded data removed]",
      "text/plain": [
       "<matplotlib.figure.Figure at 0x7fa674005fd0>"
      ]
     },
     "metadata": {},
     "output_type": "display_data"
    }
   ],
   "source": [
    "plt.figure(figsize=[16,22])\n",
    "\n",
    "plt.subplot(311)\n",
    "plt.xscale('log')\n",
    "plt.hist(x = [att_train[att_train['outcome']==1]['att_count'], att_train[att_train['outcome']==0]['att_count']], \n",
    "         bins = 100, stacked=True, color = ['g','r'],label = ['Atendeu','Não atendeu'])\n",
    "plt.title('Tentativas vs outcome')\n",
    "plt.xlabel('Tentativas')\n",
    "plt.ylabel('# casos')\n",
    "plt.legend()\n",
    "\n",
    "plt.subplot(312)\n",
    "plt.xscale('log')\n",
    "plt.hist(x = [att_train[att_train['outcome']==1]['att_count_per_tl'], att_train[att_train['outcome']==0]['att_count_per_tl']], \n",
    "         bins = 100,stacked=True, color = ['g','r'],label = ['Atendeu','Não atendeu'])\n",
    "plt.title('Tentativas por tl vs outcome')\n",
    "plt.xlabel('Tentativas por tl')\n",
    "plt.ylabel('# casos')\n",
    "plt.legend()\n",
    "\n",
    "plt.subplot(313)\n",
    "plt.hist(x = [att_train[att_train['outcome']==1]['time_after_last_att'], att_train[att_train['outcome']==0]['time_after_last_att']], \n",
    "         bins = 100,stacked=True, color = ['g','r'],label = ['Atendeu','Não atendeu'])\n",
    "plt.title('Tempo após ultima tentativa vs outcome')\n",
    "plt.xlabel('Tempo após ultima tentativa')\n",
    "plt.ylabel('# casos')\n",
    "plt.legend()"
   ]
  },
  {
   "cell_type": "code",
   "execution_count": 13,
   "metadata": {
    "_cell_guid": "be8b849a-fdf8-4491-b5e2-e70fee8856c3",
    "_uuid": "e8da47b89495ad91f35daab26c153d90099afe7e",
    "slideshow": {
     "slide_type": "slide"
    }
   },
   "outputs": [
    {
     "data": {
      "text/plain": [
       "<matplotlib.axes._subplots.AxesSubplot at 0x7fa674021160>"
      ]
     },
     "execution_count": 13,
     "metadata": {},
     "output_type": "execute_result"
    },
    {
     "data": {
      "image/png": "[encoded data removed]",
      "text/plain": [
       "<matplotlib.figure.Figure at 0x7fa672662828>"
      ]
     },
     "metadata": {},
     "output_type": "display_data"
    }
   ],
   "source": [
    "#we will use seaborn graphics for multi-variable comparison: https://seaborn.pydata.org/api.html\n",
    "\n",
    "#graph individual features by survival\n",
    "fig, saxis = plt.subplots(3,figsize=(16,12))\n",
    "\n",
    "a = pd.cut(att_train['att_count'], [0,2,4,10,15,25,30])\n",
    "sns.barplot(x = a, y = 'outcome', data=att_train, ax = saxis[0])\n",
    "\n",
    "a = pd.cut(att_train['att_count_per_tl'], [0,2,4,10,15,25,30])\n",
    "sns.barplot(x = a, y = 'outcome', data=att_train, ax = saxis[1])\n",
    "\n",
    "a = pd.cut(att_train['time_after_last_att'], [0,1,3,5,10,20,30])\n",
    "sns.barplot(x = a, y = 'outcome', data=att_train, ax = saxis[2])"
   ]
  },
  {
   "cell_type": "markdown",
   "metadata": {
    "slideshow": {
     "slide_type": "slide"
    }
   },
   "source": [
    "## Influência da hora da chamada no outcome"
   ]
  },
  {
   "cell_type": "code",
   "execution_count": 14,
   "metadata": {
    "slideshow": {
     "slide_type": "subslide"
    }
   },
   "outputs": [
    {
     "name": "stderr",
     "output_type": "stream",
     "text": [
      "/home/programs/lib/python3.6/site-packages/numpy/core/fromnumeric.py:52: FutureWarning: reshape is deprecated and will raise in a subsequent release. Please use .values.reshape(...) instead\n",
      "  return getattr(obj, method)(*args, **kwds)\n",
      "/home/programs/lib/python3.6/site-packages/ipykernel_launcher.py:21: UserWarning: Boolean Series key will be reindexed to match DataFrame index.\n",
      "/home/programs/lib/python3.6/site-packages/ipykernel_launcher.py:22: UserWarning: Boolean Series key will be reindexed to match DataFrame index.\n",
      "No handles with labels found to put in legend.\n"
     ]
    },
    {
     "data": {
      "text/plain": [
       "<matplotlib.legend.Legend at 0x7fa672ef5128>"
      ]
     },
     "execution_count": 14,
     "metadata": {},
     "output_type": "execute_result"
    },
    {
     "data": {
      "image/png": "[encoded data removed]",
      "text/plain": [
       "<matplotlib.figure.Figure at 0x7fa66f0f5198>"
      ]
     },
     "metadata": {},
     "output_type": "display_data"
    }
   ],
   "source": [
    "plt.figure(figsize=[16,12])\n",
    "\n",
    "plt.subplot(231)\n",
    "plt.boxplot(x=att_train['time']/3600, showmeans = True, meanline = True)\n",
    "plt.title('Hours Boxplot')\n",
    "plt.ylabel('Hour')\n",
    "\n",
    "plt.subplot(232)\n",
    "plt.hist(x = [att_train[att_train['outcome']==1]['time']/3600, att_train[att_train['outcome']==0]['time']/3600], \n",
    "          bins = 50, stacked=True, color = ['g','r'],label = ['Atendeu','Não atendeu'])\n",
    "plt.title('Histograma de horas por outcome')\n",
    "plt.xlabel('Hora')\n",
    "plt.ylabel('# casos')\n",
    "plt.legend()\n",
    "\n",
    "\n",
    "plt.subplot(233)\n",
    "h = np.arange(10, 22,0.1)\n",
    "list_perc = []\n",
    "for i in range(0,len(h)):\n",
    "    a = att_train[att_train['outcome']==1][att_train['time']/3600 > h[i]][att_train['time']/3600 < h[i]+0.1]['time'].count()\n",
    "    b = att_train[att_train['time']/3600 > h[i]][att_train['time']/3600 < h[i] +2]['time'].count()\n",
    "    list_perc.append(a/b * 100)\n",
    "plt.plot(h, list_perc)\n",
    "plt.title('Percentagem de atendimento - horas')\n",
    "plt.xlabel('Percentagem')\n",
    "plt.ylabel('Hora')\n",
    "plt.legend()"
   ]
  },
  {
   "cell_type": "markdown",
   "metadata": {
    "slideshow": {
     "slide_type": "subslide"
    }
   },
   "source": [
    "* Como vemos, a feature Business_hour não tem exata com a percentagem de atendimento\n",
    "* Business hour e time têm grande correlação porque uma é obtida de outra, logo terá de se escolher uma\n",
    "* Business hour é menos especifica e por isso vai ser eliminada - a partir do time o modelo pode prever mais exatamente as horas de atendimento"
   ]
  },
  {
   "cell_type": "code",
   "execution_count": 9,
   "metadata": {
    "collapsed": true
   },
   "outputs": [],
   "source": [
    "att_pointer = [att_train, att_test]\n",
    "for dataset in att_pointer:   \n",
    "    del dataset['business_hour']"
   ]
  },
  {
   "cell_type": "markdown",
   "metadata": {
    "slideshow": {
     "slide_type": "slide"
    }
   },
   "source": [
    "## Influência do dia da semana no outcome"
   ]
  },
  {
   "cell_type": "code",
   "execution_count": 16,
   "metadata": {
    "slideshow": {
     "slide_type": "fragment"
    }
   },
   "outputs": [
    {
     "data": {
      "text/plain": [
       "Text(0.5,1,'Número de chamadas atendidas vs não atendidas por dias da semana')"
      ]
     },
     "execution_count": 16,
     "metadata": {},
     "output_type": "execute_result"
    },
    {
     "data": {
      "image/png": "[encoded data removed]",
      "text/plain": [
       "<matplotlib.figure.Figure at 0x7fa675418898>"
      ]
     },
     "metadata": {},
     "output_type": "display_data"
    }
   ],
   "source": [
    "centers = [1,2,3,4,5,6]\n",
    "plt.bar(centers, att_train[att_train['outcome']==0]['weekday'].value_counts(), align='center', tick_label=['Monday', \"Tuesday\", \"Wednesday\", \"Thursday\", \"Friday\", \"Saturday\"],color = ['r'],label = ['Não atendeu'])\n",
    "plt.bar(centers, att_train[att_train['outcome']==1]['weekday'].value_counts(), align='center', tick_label=['Monday', \"Tuesday\", \"Wednesday\", \"Thursday\", \"Friday\", \"Saturday\"],color = ['g'],label = ['Atendeu'])\n",
    "plt.title('Número de chamadas atendidas vs não atendidas por dias da semana')"
   ]
  },
  {
   "cell_type": "markdown",
   "metadata": {
    "slideshow": {
     "slide_type": "slide"
    }
   },
   "source": [
    "## Correlação de features"
   ]
  },
  {
   "cell_type": "code",
   "execution_count": 17,
   "metadata": {
    "_cell_guid": "fbfaf416-4eb7-45fc-8ee2-123852ee6a7d",
    "_uuid": "d599e6d35f40e66f3f2bd162b2d9087d10ed443d",
    "slideshow": {
     "slide_type": "fragment"
    }
   },
   "outputs": [
    {
     "data": {
      "image/png": "[encoded data removed]",
      "text/plain": [
       "<matplotlib.figure.Figure at 0x7fa6740057f0>"
      ]
     },
     "metadata": {},
     "output_type": "display_data"
    }
   ],
   "source": [
    "#correlation heatmap of dataset\n",
    "def correlation_heatmap(df):\n",
    "    _ , ax = plt.subplots(figsize =(14, 12))\n",
    "    colormap = sns.diverging_palette(220, 10, as_cmap = True)\n",
    "    \n",
    "    _ = sns.heatmap(\n",
    "        df.corr(), \n",
    "        cmap = colormap,\n",
    "        square=True, \n",
    "        cbar_kws={'shrink':.9 }, \n",
    "        ax=ax,\n",
    "        annot=True, \n",
    "        linewidths=0.1,vmax=1.0, linecolor='white',\n",
    "        annot_kws={'fontsize':12 }\n",
    "    )\n",
    "    \n",
    "    plt.title('Pearson Correlation of Features', y=1.05, size=15)\n",
    "\n",
    "correlation_heatmap(att_train)"
   ]
  },
  {
   "cell_type": "markdown",
   "metadata": {
    "slideshow": {
     "slide_type": "fragment"
    }
   },
   "source": [
    "* O **id_Cliente_A**, **data_do_lote** e **day_att** são, em conjunto, identificadores e por isso não têm valor de previsão.\n",
    "* As variáveis **indic_tlf_dest_A** e **tl_type** têm correlação 1, uma delas deve ser eliminada.\n",
    "* Apesar de o **att_count_per_tl** e **att_count** tem correlação alta, têm significado diferente."
   ]
  },
  {
   "cell_type": "code",
   "execution_count": 10,
   "metadata": {
    "collapsed": true
   },
   "outputs": [],
   "source": [
    "att_pointer = [att_train, att_test]\n",
    "for dataset in att_pointer:   \n",
    "    del dataset['id_Cliente_A']\n",
    "    del dataset['day_att']\n",
    "    del dataset['data_do_lote']"
   ]
  },
  {
   "cell_type": "code",
   "execution_count": null,
   "metadata": {
    "collapsed": true
   },
   "outputs": [],
   "source": []
  },
  {
   "cell_type": "markdown",
   "metadata": {},
   "source": [
    "## Telefone de destino e indicativo"
   ]
  },
  {
   "cell_type": "code",
   "execution_count": 19,
   "metadata": {
    "slideshow": {
     "slide_type": "slide"
    }
   },
   "outputs": [
    {
     "name": "stderr",
     "output_type": "stream",
     "text": [
      "/home/programs/lib/python3.6/site-packages/numpy/core/fromnumeric.py:52: FutureWarning: reshape is deprecated and will raise in a subsequent release. Please use .values.reshape(...) instead\n",
      "  return getattr(obj, method)(*args, **kwds)\n"
     ]
    },
    {
     "data": {
      "text/plain": [
       "<matplotlib.legend.Legend at 0x7fa6767687f0>"
      ]
     },
     "execution_count": 19,
     "metadata": {},
     "output_type": "execute_result"
    },
    {
     "data": {
      "image/png": "[encoded data removed]",
      "text/plain": [
       "<matplotlib.figure.Figure at 0x7fa670a027b8>"
      ]
     },
     "metadata": {},
     "output_type": "display_data"
    }
   ],
   "source": [
    "plt.figure(figsize=[16,12])\n",
    "\n",
    "plt.subplot(221)\n",
    "plt.hist(x = [att_train[att_train['outcome']==1]['tlf_destino_A'], att_train[att_train['outcome']==0]['tlf_destino_A']], \n",
    "         bins = 100,stacked=True, color = ['g','r'],label = ['Atendeu','Não atendeu'])\n",
    "plt.title('Telefone de destino vs outcome')\n",
    "plt.xlabel('Telefones')\n",
    "plt.ylabel('# casos')\n",
    "plt.legend()\n",
    "\n",
    "plt.subplot(222)\n",
    "plt.hist(x = [att_train[att_train['outcome']==1]['indic_tlf_dest_A'], att_train[att_train['outcome']==0]['indic_tlf_dest_A']], \n",
    "         bins = 100,stacked=True, color = ['g','r'],label = ['Atendeu','Não atendeu'])\n",
    "plt.title('Indicativo do telefone de destino vs outcome')\n",
    "plt.xlabel('Indicativos')\n",
    "plt.ylabel('# casos')\n",
    "plt.legend()"
   ]
  },
  {
   "cell_type": "markdown",
   "metadata": {
    "slideshow": {
     "slide_type": "fragment"
    }
   },
   "source": [
    "* Indicativo e telefone foram usados para as features tlf_type e att_count_per_tl.\n",
    "* O telefone tem distribuição de uma variável aleatória. \n",
    "* O indicativo, neste caso, serviu apenas para saber se estão a ligar para casa ou tlm. móvel."
   ]
  },
  {
   "cell_type": "code",
   "execution_count": 11,
   "metadata": {
    "collapsed": true
   },
   "outputs": [],
   "source": [
    "att_pointer = [att_train, att_test]\n",
    "for dataset in att_pointer:   \n",
    "    del dataset['indic_tlf_dest_A']\n",
    "    del dataset['tlf_destino_A']"
   ]
  },
  {
   "cell_type": "markdown",
   "metadata": {
    "slideshow": {
     "slide_type": "slide"
    }
   },
   "source": [
    "## Influência das features business_day e holiday no outcome"
   ]
  },
  {
   "cell_type": "code",
   "execution_count": 21,
   "metadata": {
    "slideshow": {
     "slide_type": "fragment"
    }
   },
   "outputs": [
    {
     "data": {
      "text/plain": [
       "<matplotlib.axes._subplots.AxesSubplot at 0x7fa670aeb358>"
      ]
     },
     "execution_count": 21,
     "metadata": {},
     "output_type": "execute_result"
    },
    {
     "data": {
      "image/png": "[encoded data removed]",
      "text/plain": [
       "<matplotlib.figure.Figure at 0x7fa676749438>"
      ]
     },
     "metadata": {},
     "output_type": "display_data"
    }
   ],
   "source": [
    "fig, saxis = plt.subplots(2,figsize=(16,12))\n",
    "sns.pointplot(x = 'business_day', y = 'outcome',  data=att_train, ax = saxis[0])\n",
    "sns.pointplot(x = 'holiday', y = 'outcome',  data=att_train, ax = saxis[1])"
   ]
  },
  {
   "cell_type": "markdown",
   "metadata": {
    "slideshow": {
     "slide_type": "-"
    }
   },
   "source": [
    "## Visualizar"
   ]
  },
  {
   "cell_type": "code",
   "execution_count": 12,
   "metadata": {
    "collapsed": true
   },
   "outputs": [],
   "source": [
    "c = ['att_count', 'att_count_per_tl', 'tl_type', 'time_after_last_att', 'weekday', 'business_day', 'holiday', 'time', 'outcome']\n",
    "att_train = att_train[c]\n",
    "att_test = att_test[c]\n",
    "#att_hist = att_hist[['att_count', 'att_count_per_tl', 'tl_type', 'time_after_last_att', 'weekday', 'business_day', 'holiday', 'business_hour', 'time', 'day_att', 'id_Cliente_A', 'tlf_destino_A', 'indic_tlf_dest_A', 'outcome']]"
   ]
  },
  {
   "cell_type": "code",
   "execution_count": 23,
   "metadata": {},
   "outputs": [
    {
     "data": {
      "application/vnd.jupyter.widget-view+json": {
       "model_id": "0c6be0fdf9934a728d1ef28ff1e59e7d",
       "version_major": 2,
       "version_minor": 0
      },
      "text/html": [
       "<p>Failed to display Jupyter Widget of type <code>QgridWidget</code>.</p>\n",
       "<p>\n",
       "  If you're reading this message in the Jupyter Notebook or JupyterLab Notebook, it may mean\n",
       "  that the widgets JavaScript is still loading. If this message persists, it\n",
       "  likely means that the widgets JavaScript library is either not installed or\n",
       "  not enabled. See the <a href=\"https://ipywidgets.readthedocs.io/en/stable/user_install.html\">Jupyter\n",
       "  Widgets Documentation</a> for setup instructions.\n",
       "</p>\n",
       "<p>\n",
       "  If you're reading this message in another frontend (for example, a static\n",
       "  rendering on GitHub or <a href=\"https://nbviewer.jupyter.org/\">NBViewer</a>),\n",
       "  it may mean that your frontend doesn't currently support widgets.\n",
       "</p>\n"
      ],
      "text/plain": [
       "QgridWidget(grid_options={'fullWidthRows': True, 'syncColumnCellResize': True, 'forceFitColumns': True, 'defaultColumnWidth': 150, 'rowHeight': 28, 'enableColumnReorder': False, 'enableTextSelectionOnCells': True, 'editable': True, 'autoEdit': False, 'explicitInitialization': True, 'maxVisibleRows': 15, 'minVisibleRows': 8, 'sortable': True, 'filterable': True, 'highlightSelectedCell': False, 'highlightSelectedRow': True, 'boldIndex': True}, id='712d8f05-5352-4a59-a07d-821eb91ad574', precision=5, show_toolbar=True)"
      ]
     },
     "metadata": {},
     "output_type": "display_data"
    }
   ],
   "source": [
    "q = qgrid.show_grid(att_train, show_toolbar= True)\n",
    "q"
   ]
  },
  {
   "cell_type": "markdown",
   "metadata": {
    "_cell_guid": "079d255c-e55e-482b-be9f-ae6b23015790",
    "_uuid": "1f4f5f75093fdcec864a835d94cd5d9a05b591c5"
   },
   "source": [
    "<a id=\"ch7\"></a>\n",
    "# Preparar dados para Machine Learning"
   ]
  },
  {
   "cell_type": "markdown",
   "metadata": {
    "_cell_guid": "f7972928-84b5-47b1-98b6-3e47bc7ddb17",
    "_uuid": "eb0a15c2065a827c3c5431622c04707f3e9d2e52",
    "slideshow": {
     "slide_type": "slide"
    }
   },
   "source": [
    "## Convert Formats\n",
    "\n",
    "* Label encoding na varíavel weekday para transformar em valor sequencial\n",
    "* Os valores que variam entre 0 e 255 inteiros foram passados para uint (cálculos mais fáceis)\n",
    "* Passar para one hot encoding"
   ]
  },
  {
   "cell_type": "code",
   "execution_count": 13,
   "metadata": {
    "_cell_guid": "95f9a05d-9f6e-46b3-8a3c-95a78f0c0834",
    "_uuid": "7f746d8c6f7d0214253919185fa16f2f6a447a15",
    "collapsed": true,
    "scrolled": true,
    "slideshow": {
     "slide_type": "-"
    }
   },
   "outputs": [],
   "source": [
    "att_pointer = [att_train, att_test]\n",
    "for dataset in att_pointer:\n",
    "    dataset['weekday'] = LabelEncoder().fit_transform(dataset['weekday'].astype(str)).astype('uint64')\n",
    "    dataset['business_day'] = dataset['business_day'].astype('uint64')\n",
    "    dataset['holiday'] = dataset['holiday'].astype('uint64')\n",
    "    \n",
    "att_train['outcome'] = att_train['outcome'].astype(\"uint64\")\n",
    "#att_hist['outcome'] = att_hist['outcome'].astype(\"uint64\")\n",
    "\n",
    "att_train = pd.get_dummies(att_train)\n",
    "\n",
    "#att_train_x = att_train[['att_count', 'att_count_per_tl', 'tl_type', 'time_after_last_att', 'weekday', 'business_day', 'holiday', 'time']]\n",
    "#att_train_y = att_train[['outcome']]"
   ]
  },
  {
   "cell_type": "markdown",
   "metadata": {
    "slideshow": {
     "slide_type": "fragment"
    }
   },
   "source": [
    "## Scale\n",
    "\n",
    "* Dimensionar dados na mesma escala de modo a uma variável não ter mais peso que outra."
   ]
  },
  {
   "cell_type": "code",
   "execution_count": 14,
   "metadata": {
    "collapsed": true,
    "slideshow": {
     "slide_type": "-"
    }
   },
   "outputs": [],
   "source": [
    "c = ['att_count', 'att_count_per_tl', 'tl_type', 'time_after_last_att',\n",
    "       'weekday', 'business_day', 'holiday', 'time']\n",
    "c_base = ['att_count', 'att_count_per_tl', 'tl_type', 'time_after_last_att',\n",
    "       'weekday', 'business_day', 'holiday', 'time', 'base']\n",
    "\n",
    "att_train[\"base\"] = \"t\"\n",
    "#att_hist[\"base\"] = \"h\"\n",
    "att_test[\"base\"] = \"te\"\n",
    "\n",
    "dt = pd.concat([att_train[c_base], att_test[c_base]])\n",
    "new_data = ((dt[c]-dt[c].min())/(dt[c].max()-dt[c].min()))\n",
    "new_data = pd.DataFrame(new_data)\n",
    "new_data[\"base\"] = dt[\"base\"]\n",
    "dt = None\n",
    "att_train[c_base] = new_data.loc[new_data['base'] == \"t\"]\n",
    "att_test[c_base] = new_data.loc[new_data['base'] == \"te\"]\n",
    "#att_hist[c_base] = new_data.loc[new_data['base'] == \"h\"] \n",
    "\n",
    "del att_train['base']\n",
    "del att_test['base']\n",
    "#del att_hist['base']"
   ]
  },
  {
   "cell_type": "markdown",
   "metadata": {
    "slideshow": {
     "slide_type": "fragment"
    }
   },
   "source": [
    "## Filtro de variância\n",
    "\n",
    "* Variância é boa mas em excesso prejudica a performance dos modelos.\n",
    "* Foram eliminados os outliers que subtraindo a média ainda são 5x maiores que o desvio padrão (normal é 1x).\n",
    "* Foram eliminados cerca de 40 mil outliers."
   ]
  },
  {
   "cell_type": "code",
   "execution_count": 15,
   "metadata": {},
   "outputs": [
    {
     "name": "stdout",
     "output_type": "stream",
     "text": [
      "len(att_train):  1284932\n",
      "len(att_test):  342104\n",
      "total:  1627036\n",
      "------------------------------\n",
      "len(att_train):  1222461\n",
      "len(att_test):  330849\n",
      "total:  1553310\n"
     ]
    }
   ],
   "source": [
    "print('len(att_train): ', len(att_train))\n",
    "#print('len(att_hist): ', len(att_hist))\n",
    "print('len(att_test): ', len(att_test))\n",
    "print('total: ', len(att_train) + len(att_test))\n",
    "\n",
    "dt = pd.concat([att_train[c], att_test[c]])\n",
    "\n",
    "att_train[c] = att_train[c].mask((att_train[c] - dt.mean()).abs() > 5 * dt.std()).dropna()\n",
    "att_test[c] = att_test[c].mask((att_test[c] - dt.mean()).abs() > 5 * dt.std()).dropna()\n",
    "#att_hist[c] = att_hist[c].mask((att_hist[c] - dt.mean()).abs() > 5 * dt.std()).dropna()\n",
    "att_train.dropna(subset=c, inplace = True)\n",
    "att_test.dropna(subset=c, inplace = True)\n",
    "#att_hist.dropna(subset=c, inplace = True)\n",
    "print('-'* 30)\n",
    "print('len(att_train): ', len(att_train))\n",
    "#print('len(att_hist): ', len(att_hist))\n",
    "print('len(att_test): ', len(att_test))\n",
    "print('total: ', len(att_train) + len(att_test))"
   ]
  },
  {
   "cell_type": "markdown",
   "metadata": {
    "slideshow": {
     "slide_type": "slide"
    }
   },
   "source": [
    "## Estratégia para lidar com classes não balanceadas"
   ]
  },
  {
   "cell_type": "code",
   "execution_count": 16,
   "metadata": {
    "slideshow": {
     "slide_type": "fragment"
    }
   },
   "outputs": [
    {
     "data": {
      "image/png": "[encoded data removed]",
      "text/plain": [
       "<matplotlib.figure.Figure at 0x7f42a8327b70>"
      ]
     },
     "metadata": {},
     "output_type": "display_data"
    }
   ],
   "source": [
    "att_train.outcome.value_counts().plot(kind='bar', title='Count (target)');"
   ]
  },
  {
   "cell_type": "markdown",
   "metadata": {
    "slideshow": {
     "slide_type": "slide"
    }
   },
   "source": [
    "### Over-Sampling"
   ]
  },
  {
   "cell_type": "code",
   "execution_count": 17,
   "metadata": {
    "slideshow": {
     "slide_type": "fragment"
    }
   },
   "outputs": [
    {
     "name": "stdout",
     "output_type": "stream",
     "text": [
      "Random over-sampling:\n",
      "1    1032634\n",
      "0    1032634\n",
      "Name: outcome, dtype: int64\n"
     ]
    },
    {
     "data": {
      "image/png": "[encoded data removed]",
      "text/plain": [
       "<matplotlib.figure.Figure at 0x7f42a8860860>"
      ]
     },
     "metadata": {},
     "output_type": "display_data"
    }
   ],
   "source": [
    "# Class count\n",
    "count_class_0, count_class_1 = att_train.outcome.value_counts()\n",
    "\n",
    "# Divide by class\n",
    "att_train_0 = att_train[att_train['outcome'] == 0]\n",
    "att_train_1 = att_train[att_train['outcome'] == 1]\n",
    "\n",
    "att_train_1_over = att_train_1.sample(count_class_0, replace=True)\n",
    "att_train_over = pd.concat([att_train_0, att_train_1_over], axis=0)\n",
    "\n",
    "print('Random over-sampling:')\n",
    "print(att_train_over.outcome.value_counts())\n",
    "\n",
    "att_train_over.outcome.value_counts().plot(kind='bar', title='Count (target)');"
   ]
  },
  {
   "cell_type": "markdown",
   "metadata": {
    "slideshow": {
     "slide_type": "slide"
    }
   },
   "source": [
    "### SMOTE"
   ]
  },
  {
   "cell_type": "code",
   "execution_count": 18,
   "metadata": {
    "collapsed": true,
    "slideshow": {
     "slide_type": "-"
    }
   },
   "outputs": [],
   "source": [
    "smote = SMOTE(ratio='minority')\n",
    "\n",
    "X_sm, y_sm = smote.fit_sample(att_train[c], att_train['outcome'])"
   ]
  },
  {
   "cell_type": "code",
   "execution_count": 19,
   "metadata": {
    "slideshow": {
     "slide_type": "fragment"
    }
   },
   "outputs": [
    {
     "data": {
      "text/plain": [
       "<matplotlib.axes._subplots.AxesSubplot at 0x7f42a53de7b8>"
      ]
     },
     "execution_count": 19,
     "metadata": {},
     "output_type": "execute_result"
    },
    {
     "data": {
      "image/png": "[encoded data removed]",
      "text/plain": [
       "<matplotlib.figure.Figure at 0x7f42a31c22e8>"
      ]
     },
     "metadata": {},
     "output_type": "display_data"
    }
   ],
   "source": [
    "outcome_pd = pd.DataFrame(y_sm, columns = [\"outcome\"])\n",
    "SMOTE_att_train = pd.DataFrame(X_sm, columns = c)\n",
    "SMOTE_att_train[\"outcome\"] = outcome_pd\n",
    "SMOTE_att_train.outcome.value_counts().plot(kind='bar', title='Count (target)')"
   ]
  },
  {
   "cell_type": "markdown",
   "metadata": {
    "_cell_guid": "e1ffcb68-17a5-43e0-b7e1-4a0b9d33dbdd",
    "_uuid": "9b4b6e1f40e310274447c880760b87ec6a0c7c77",
    "slideshow": {
     "slide_type": "-"
    }
   },
   "source": [
    "# Dividir dados"
   ]
  },
  {
   "cell_type": "code",
   "execution_count": 20,
   "metadata": {
    "collapsed": true
   },
   "outputs": [],
   "source": [
    "input_columns = ['att_count', 'att_count_per_tl', 'tl_type', 'time_after_last_att',\n",
    "       'weekday', 'business_day', 'holiday', 'time']\n",
    "Target = 'outcome'\n",
    "#data1 = att_train.sample(100000, random_state=1)\n",
    "\n",
    "SMOTE_att_train = SMOTE_att_train.sample(n = len(SMOTE_att_train), random_state=1)#len(SMOTE_att_train)\n",
    "data1 = SMOTE_att_train[0:int(len(SMOTE_att_train)*0.95)]\n",
    "data_test = SMOTE_att_train[int(len(SMOTE_att_train)*0.95):len(SMOTE_att_train)]\n",
    "#data1 = att_train_over.sample(100000, random_state=1)\n",
    "\n",
    "#Machine Learning Algorithm (MLA) Selection and Initialization"
   ]
  },
  {
   "cell_type": "code",
   "execution_count": null,
   "metadata": {
    "collapsed": true
   },
   "outputs": [],
   "source": [
    "## Guardar dados\n",
    "\n",
    "print(data1.shape)\n",
    "print(data_test.shape)\n",
    "print(att_test.shape)\n",
    "\n",
    "with open('data1' + '.pkl', 'wb') as f:\n",
    "    cPickle.dump(data1, f)\n",
    "\n",
    "with open('data_test' + '.pkl', 'wb') as f:\n",
    "    cPickle.dump(data_test, f)\n",
    "    \n",
    "with open('att_test' + '.pkl', 'wb') as f:\n",
    "    cPickle.dump(att_test, f)"
   ]
  },
  {
   "cell_type": "markdown",
   "metadata": {
    "slideshow": {
     "slide_type": "slide"
    }
   },
   "source": [
    "# Feature Selection"
   ]
  },
  {
   "cell_type": "markdown",
   "metadata": {
    "slideshow": {
     "slide_type": "fragment"
    }
   },
   "source": [
    "## PCA (Principal Component Analysis)"
   ]
  },
  {
   "cell_type": "code",
   "execution_count": 46,
   "metadata": {
    "slideshow": {
     "slide_type": "fragment"
    }
   },
   "outputs": [
    {
     "data": {
      "image/png": "[encoded data removed]",
      "text/plain": [
       "<matplotlib.figure.Figure at 0x7fd52ce545c0>"
      ]
     },
     "metadata": {},
     "output_type": "display_data"
    }
   ],
   "source": [
    "n_features = 9\n",
    "\n",
    "pca=PCA(n_components=n_features)\n",
    "X_r=pca.fit(data1).transform(data1)\n",
    "#print('Variabilidade explicada: %s'% str(pca.explained_variance_ratio_))\n",
    "\n",
    "values=pca.explained_variance_ratio_\n",
    "var_exp=[(i)*100 for i in sorted(values, reverse=True)]\n",
    "cum_var_exp=np.cumsum(var_exp)\n",
    "\n",
    "with plt.style.context('seaborn-whitegrid'):\n",
    "    plt.figure(figsize=(6, 4))\n",
    "    plt.bar(range(n_features), var_exp, alpha=0.6, align='center',color='#0086b3', label='Variância Individual Explicada')\n",
    "    plt.step(range(n_features), cum_var_exp, where='mid', color='#00334d', label='Variância Explicada Cumulativa')\n",
    "    plt.ylabel('Rácio da Variância Explicada')\n",
    "    plt.xlabel('Componentes Principais')\n",
    "    plt.legend(loc='best')\n",
    "    plt.tight_layout()"
   ]
  },
  {
   "cell_type": "markdown",
   "metadata": {
    "slideshow": {
     "slide_type": "fragment"
    }
   },
   "source": [
    "## RFE (Recursive Feature Elimination)"
   ]
  },
  {
   "cell_type": "code",
   "execution_count": 8,
   "metadata": {
    "_cell_guid": "df54f00c-e5a2-4994-aab8-f5b19961eafb",
    "_uuid": "d35bf5c10d2dc9c582e5fea4956942182c6fd206",
    "slideshow": {
     "slide_type": "fragment"
    }
   },
   "outputs": [
    {
     "name": "stdout",
     "output_type": "stream",
     "text": [
      "base_results\n"
     ]
    },
    {
     "name": "stderr",
     "output_type": "stream",
     "text": [
      "/home/programs/lib/python3.6/site-packages/sklearn/ensemble/forest.py:246: FutureWarning: The default value of n_estimators will change from 10 in version 0.20 to 100 in 0.22.\n",
      "  \"10 in version 0.20 to 100 in 0.22.\", FutureWarning)\n"
     ]
    },
    {
     "name": "stdout",
     "output_type": "stream",
     "text": [
      "BEFORE DT RFE Training Shape Old:  (490501, 8)\n",
      "BEFORE DT RFE Training Columns Old:  ['att_count' 'att_count_per_tl' 'tl_type' 'time_after_last_att' 'weekday'\n",
      " 'business_day' 'holiday' 'time']\n",
      "BEFORE DT RFE Training score mean: 95.35\n",
      "BEFORE DT RFE Test score mean: 77.81\n",
      "BEFORE DT RFE Test score 3*std: +/- 0.00\n",
      "----------\n",
      "start fit\n"
     ]
    },
    {
     "name": "stderr",
     "output_type": "stream",
     "text": [
      "/home/programs/lib/python3.6/site-packages/sklearn/utils/deprecation.py:125: FutureWarning: You are accessing a training score ('train_score'), which will not be available by default any more in 0.21. If you need training scores, please set return_train_score=True\n",
      "  warnings.warn(*warn_args, **warn_kwargs)\n",
      "/home/programs/lib/python3.6/site-packages/sklearn/ensemble/forest.py:246: FutureWarning: The default value of n_estimators will change from 10 in version 0.20 to 100 in 0.22.\n",
      "  \"10 in version 0.20 to 100 in 0.22.\", FutureWarning)\n"
     ]
    },
    {
     "name": "stdout",
     "output_type": "stream",
     "text": [
      "end fit\n",
      "rfe_results\n",
      "start fit\n",
      "end fit\n",
      "AFTER DT RFE Training Shape New:  (490501, 5)\n",
      "AFTER DT RFE Training Columns New:  ['att_count' 'att_count_per_tl' 'time_after_last_att' 'weekday' 'time']\n",
      "AFTER DT RFE Training score mean: 94.89\n",
      "AFTER DT RFE Test score mean: 78.94\n",
      "AFTER DT RFE Test score 3*std: +/- 0.00\n"
     ]
    },
    {
     "name": "stderr",
     "output_type": "stream",
     "text": [
      "/home/programs/lib/python3.6/site-packages/sklearn/utils/deprecation.py:125: FutureWarning: You are accessing a training score ('train_score'), which will not be available by default any more in 0.21. If you need training scores, please set return_train_score=True\n",
      "  warnings.warn(*warn_args, **warn_kwargs)\n"
     ]
    }
   ],
   "source": [
    "cv_split2 = model_selection.ShuffleSplit(n_splits = 1, test_size = .2, train_size = .8, random_state = 0 )\n",
    "model_to_fselection = ensemble.RandomForestClassifier()\n",
    "\n",
    "data_rfe = data1.sample(int(len(data1)/4))\n",
    "print(\"base_results\")\n",
    "base_results = model_selection.cross_validate(model_to_fselection, data_rfe[input_columns], data_rfe[Target], cv  = cv_split2)\n",
    "\n",
    "\n",
    "#base model\n",
    "print('BEFORE DT RFE Training Shape Old: ', data_rfe[input_columns].shape) \n",
    "print('BEFORE DT RFE Training Columns Old: ', data_rfe[input_columns].columns.values)\n",
    "\n",
    "print(\"BEFORE DT RFE Training score mean: {:.2f}\". format(base_results['train_score'].mean()*100)) \n",
    "print(\"BEFORE DT RFE Test score mean: {:.2f}\". format(base_results['test_score'].mean()*100))\n",
    "print(\"BEFORE DT RFE Test score 3*std: +/- {:.2f}\". format(base_results['test_score'].std()*100*3))\n",
    "print('-'*10)\n",
    "\n",
    "print(\"start fit\")\n",
    "model_to_fselection.fit(data_rfe[input_columns], data_rfe[Target])\n",
    "print(\"end fit\")\n",
    "\n",
    "#feature selection\n",
    "print(\"rfe_results\")\n",
    "model_rfe = feature_selection.RFECV(model_to_fselection, step = 1, scoring = 'accuracy', cv = cv_split2)\n",
    "print(\"start fit\")\n",
    "model_rfe.fit(data_rfe[input_columns], data_rfe[Target])\n",
    "print(\"end fit\")\n",
    "\n",
    "#transform x&y to reduced features and fit new model\n",
    "#alternative: can use pipeline to reduce fit and transform steps: http://scikit-learn.org/stable/modules/generated/sklearn.pipeline.Pipeline.html\n",
    "X_rfe = data_rfe[input_columns].columns.values[model_rfe.get_support()]\n",
    "rfe_results = model_selection.cross_validate(model_to_fselection, data_rfe[X_rfe], data_rfe[Target], cv  = cv_split2)\n",
    "\n",
    "#print(model_rfe.grid_scores_)\n",
    "print('AFTER DT RFE Training Shape New: ', data_rfe[X_rfe].shape) \n",
    "print('AFTER DT RFE Training Columns New: ', X_rfe)\n",
    "\n",
    "print(\"AFTER DT RFE Training score mean: {:.2f}\". format(rfe_results['train_score'].mean()*100)) \n",
    "print(\"AFTER DT RFE Test score mean: {:.2f}\". format(rfe_results['test_score'].mean()*100))\n",
    "print(\"AFTER DT RFE Test score 3*std: +/- {:.2f}\". format(rfe_results['test_score'].std()*100*3))"
   ]
  },
  {
   "cell_type": "code",
   "execution_count": null,
   "metadata": {
    "collapsed": true
   },
   "outputs": [],
   "source": [
    "#ignorado porque se verificou melhores resultados com o bagging\n",
    "input_columns2 = ['att_count', 'att_count_per_tl', 'time_after_last_att', 'weekday', 'time']"
   ]
  },
  {
   "cell_type": "markdown",
   "metadata": {
    "slideshow": {
     "slide_type": "slide"
    }
   },
   "source": [
    "# Algoritmos de ML\n",
    "* Assim como explicado no artigo [No Free Lunch Theorem (NFLT)](http://robertmarks.org/Classes/ENGR5358/Papers/NFL_4_Dummies.pdf) não existe um super algoritmo.\n",
    "* \"2 algoritmos de otimização têm performance equivalente quando testados em todos os problemas possíveis\".\n",
    "* Assim, testa-se os algoritmos mais conhecidos:"
   ]
  },
  {
   "cell_type": "code",
   "execution_count": 25,
   "metadata": {
    "collapsed": true,
    "slideshow": {
     "slide_type": "fragment"
    }
   },
   "outputs": [],
   "source": [
    "MLA = [\n",
    "    #Ensemble Methods\n",
    "    ensemble.AdaBoostClassifier(),\n",
    "    ensemble.BaggingClassifier(),\n",
    "    ensemble.ExtraTreesClassifier(),\n",
    "    ensemble.GradientBoostingClassifier(),\n",
    "    ensemble.RandomForestClassifier(),\n",
    "    \n",
    "    #GLM\n",
    "    linear_model.LogisticRegressionCV(),\n",
    "    linear_model.PassiveAggressiveClassifier(),\n",
    "    linear_model.RidgeClassifierCV(),\n",
    "    linear_model.SGDClassifier(),\n",
    "    linear_model.Perceptron(),\n",
    "    \n",
    "    #Navies Bayes\n",
    "    naive_bayes.BernoulliNB(),\n",
    "    naive_bayes.GaussianNB(),\n",
    "    \n",
    "    #SVM\n",
    "    svm.LinearSVC(),\n",
    "    \n",
    "    #Trees    \n",
    "    tree.DecisionTreeClassifier(),\n",
    "    tree.ExtraTreeClassifier(),\n",
    "   \n",
    "    #Discriminant Analysis\n",
    "    discriminant_analysis.LinearDiscriminantAnalysis(),\n",
    "    discriminant_analysis.QuadraticDiscriminantAnalysis(),\n",
    "    \n",
    "    #xgboost: http://xgboost.readthedocs.io/en/latest/model.html\n",
    "    XGBClassifier()   \n",
    "]"
   ]
  },
  {
   "cell_type": "markdown",
   "metadata": {
    "slideshow": {
     "slide_type": "slide"
    }
   },
   "source": [
    "## Avaliar modelos com Cross Validation\n",
    "\n",
    "* 80% treino e 20% teste, 5 splits.\n",
    "* Antes dos da divisão 80/20, foram deixados 5% dos dados para validação no fim.\n",
    "* Selecionar os melhores algoritmos."
   ]
  },
  {
   "cell_type": "code",
   "execution_count": 22,
   "metadata": {
    "slideshow": {
     "slide_type": "fragment"
    }
   },
   "outputs": [
    {
     "data": {
      "text/html": [
       "<div>\n",
       "<style scoped>\n",
       "    .dataframe tbody tr th:only-of-type {\n",
       "        vertical-align: middle;\n",
       "    }\n",
       "\n",
       "    .dataframe tbody tr th {\n",
       "        vertical-align: top;\n",
       "    }\n",
       "\n",
       "    .dataframe thead th {\n",
       "        text-align: right;\n",
       "    }\n",
       "</style>\n",
       "<table border=\"1\" class=\"dataframe\">\n",
       "  <thead>\n",
       "    <tr style=\"text-align: right;\">\n",
       "      <th></th>\n",
       "      <th>MLA Name</th>\n",
       "      <th>MLA Parameters</th>\n",
       "      <th>MLA Train Accuracy Mean</th>\n",
       "      <th>MLA Test Accuracy Mean</th>\n",
       "      <th>MLA Test Accuracy 3*STD</th>\n",
       "      <th>MLA Time</th>\n",
       "    </tr>\n",
       "  </thead>\n",
       "  <tbody>\n",
       "    <tr>\n",
       "      <th>1</th>\n",
       "      <td>BaggingClassifier</td>\n",
       "      <td>{'base_estimator': None, 'bootstrap': True, 'b...</td>\n",
       "      <td>0.947286</td>\n",
       "      <td>0.838472</td>\n",
       "      <td>0.00162358</td>\n",
       "      <td>152.354</td>\n",
       "    </tr>\n",
       "    <tr>\n",
       "      <th>2</th>\n",
       "      <td>ExtraTreesClassifier</td>\n",
       "      <td>{'bootstrap': False, 'class_weight': None, 'cr...</td>\n",
       "      <td>0.96364</td>\n",
       "      <td>0.837699</td>\n",
       "      <td>0.0014581</td>\n",
       "      <td>23.4263</td>\n",
       "    </tr>\n",
       "    <tr>\n",
       "      <th>4</th>\n",
       "      <td>RandomForestClassifier</td>\n",
       "      <td>{'bootstrap': True, 'class_weight': None, 'cri...</td>\n",
       "      <td>0.947956</td>\n",
       "      <td>0.830541</td>\n",
       "      <td>0.00182718</td>\n",
       "      <td>57.8013</td>\n",
       "    </tr>\n",
       "    <tr>\n",
       "      <th>13</th>\n",
       "      <td>DecisionTreeClassifier</td>\n",
       "      <td>{'class_weight': None, 'criterion': 'gini', 'm...</td>\n",
       "      <td>0.957739</td>\n",
       "      <td>0.809038</td>\n",
       "      <td>0.0048349</td>\n",
       "      <td>16.0194</td>\n",
       "    </tr>\n",
       "    <tr>\n",
       "      <th>14</th>\n",
       "      <td>ExtraTreeClassifier</td>\n",
       "      <td>{'class_weight': None, 'criterion': 'gini', 'm...</td>\n",
       "      <td>0.960801</td>\n",
       "      <td>0.779328</td>\n",
       "      <td>0.0145076</td>\n",
       "      <td>2.19175</td>\n",
       "    </tr>\n",
       "    <tr>\n",
       "      <th>17</th>\n",
       "      <td>XGBClassifier</td>\n",
       "      <td>{'base_score': 0.5, 'booster': 'gbtree', 'cols...</td>\n",
       "      <td>0.744625</td>\n",
       "      <td>0.744967</td>\n",
       "      <td>0.00457813</td>\n",
       "      <td>94.3382</td>\n",
       "    </tr>\n",
       "    <tr>\n",
       "      <th>3</th>\n",
       "      <td>GradientBoostingClassifier</td>\n",
       "      <td>{'criterion': 'friedman_mse', 'init': None, 'l...</td>\n",
       "      <td>0.742256</td>\n",
       "      <td>0.742623</td>\n",
       "      <td>0.00255096</td>\n",
       "      <td>202.678</td>\n",
       "    </tr>\n",
       "    <tr>\n",
       "      <th>0</th>\n",
       "      <td>AdaBoostClassifier</td>\n",
       "      <td>{'algorithm': 'SAMME.R', 'base_estimator': Non...</td>\n",
       "      <td>0.635583</td>\n",
       "      <td>0.635811</td>\n",
       "      <td>0.0112723</td>\n",
       "      <td>100.225</td>\n",
       "    </tr>\n",
       "    <tr>\n",
       "      <th>5</th>\n",
       "      <td>LogisticRegressionCV</td>\n",
       "      <td>{'Cs': 10, 'class_weight': None, 'cv': 'warn',...</td>\n",
       "      <td>0.583701</td>\n",
       "      <td>0.583759</td>\n",
       "      <td>0.00259982</td>\n",
       "      <td>112.747</td>\n",
       "    </tr>\n",
       "    <tr>\n",
       "      <th>12</th>\n",
       "      <td>LinearSVC</td>\n",
       "      <td>{'C': 1.0, 'class_weight': None, 'dual': True,...</td>\n",
       "      <td>0.583032</td>\n",
       "      <td>0.583105</td>\n",
       "      <td>0.00273581</td>\n",
       "      <td>40.7482</td>\n",
       "    </tr>\n",
       "    <tr>\n",
       "      <th>7</th>\n",
       "      <td>RidgeClassifierCV</td>\n",
       "      <td>{'alphas': array([ 0.1,  1. , 10. ]), 'class_w...</td>\n",
       "      <td>0.583021</td>\n",
       "      <td>0.58309</td>\n",
       "      <td>0.00274561</td>\n",
       "      <td>2.13468</td>\n",
       "    </tr>\n",
       "    <tr>\n",
       "      <th>15</th>\n",
       "      <td>LinearDiscriminantAnalysis</td>\n",
       "      <td>{'n_components': None, 'priors': None, 'shrink...</td>\n",
       "      <td>0.583018</td>\n",
       "      <td>0.583087</td>\n",
       "      <td>0.00274139</td>\n",
       "      <td>2.22481</td>\n",
       "    </tr>\n",
       "    <tr>\n",
       "      <th>11</th>\n",
       "      <td>GaussianNB</td>\n",
       "      <td>{'priors': None, 'var_smoothing': 1e-09}</td>\n",
       "      <td>0.5684</td>\n",
       "      <td>0.568957</td>\n",
       "      <td>0.00312133</td>\n",
       "      <td>0.594693</td>\n",
       "    </tr>\n",
       "    <tr>\n",
       "      <th>8</th>\n",
       "      <td>SGDClassifier</td>\n",
       "      <td>{'alpha': 0.0001, 'average': False, 'class_wei...</td>\n",
       "      <td>0.554713</td>\n",
       "      <td>0.555306</td>\n",
       "      <td>0.00712095</td>\n",
       "      <td>1.68971</td>\n",
       "    </tr>\n",
       "    <tr>\n",
       "      <th>10</th>\n",
       "      <td>BernoulliNB</td>\n",
       "      <td>{'alpha': 1.0, 'binarize': 0.0, 'class_prior':...</td>\n",
       "      <td>0.530244</td>\n",
       "      <td>0.53001</td>\n",
       "      <td>0.0014568</td>\n",
       "      <td>0.609182</td>\n",
       "    </tr>\n",
       "    <tr>\n",
       "      <th>6</th>\n",
       "      <td>PassiveAggressiveClassifier</td>\n",
       "      <td>{'C': 1.0, 'average': False, 'class_weight': N...</td>\n",
       "      <td>0.524083</td>\n",
       "      <td>0.524629</td>\n",
       "      <td>0.02297</td>\n",
       "      <td>1.93684</td>\n",
       "    </tr>\n",
       "    <tr>\n",
       "      <th>9</th>\n",
       "      <td>Perceptron</td>\n",
       "      <td>{'alpha': 0.0001, 'class_weight': None, 'early...</td>\n",
       "      <td>0.504903</td>\n",
       "      <td>0.504425</td>\n",
       "      <td>0.013888</td>\n",
       "      <td>1.60471</td>\n",
       "    </tr>\n",
       "    <tr>\n",
       "      <th>16</th>\n",
       "      <td>QuadraticDiscriminantAnalysis</td>\n",
       "      <td>{'priors': None, 'reg_param': 0.0, 'store_cova...</td>\n",
       "      <td>0.500207</td>\n",
       "      <td>0.499963</td>\n",
       "      <td>0.00245828</td>\n",
       "      <td>0.901102</td>\n",
       "    </tr>\n",
       "  </tbody>\n",
       "</table>\n",
       "</div>"
      ],
      "text/plain": [
       "                         MLA Name  \\\n",
       "1               BaggingClassifier   \n",
       "2            ExtraTreesClassifier   \n",
       "4          RandomForestClassifier   \n",
       "13         DecisionTreeClassifier   \n",
       "14            ExtraTreeClassifier   \n",
       "17                  XGBClassifier   \n",
       "3      GradientBoostingClassifier   \n",
       "0              AdaBoostClassifier   \n",
       "5            LogisticRegressionCV   \n",
       "12                      LinearSVC   \n",
       "7               RidgeClassifierCV   \n",
       "15     LinearDiscriminantAnalysis   \n",
       "11                     GaussianNB   \n",
       "8                   SGDClassifier   \n",
       "10                    BernoulliNB   \n",
       "6     PassiveAggressiveClassifier   \n",
       "9                      Perceptron   \n",
       "16  QuadraticDiscriminantAnalysis   \n",
       "\n",
       "                                       MLA Parameters MLA Train Accuracy Mean  \\\n",
       "1   {'base_estimator': None, 'bootstrap': True, 'b...                0.947286   \n",
       "2   {'bootstrap': False, 'class_weight': None, 'cr...                 0.96364   \n",
       "4   {'bootstrap': True, 'class_weight': None, 'cri...                0.947956   \n",
       "13  {'class_weight': None, 'criterion': 'gini', 'm...                0.957739   \n",
       "14  {'class_weight': None, 'criterion': 'gini', 'm...                0.960801   \n",
       "17  {'base_score': 0.5, 'booster': 'gbtree', 'cols...                0.744625   \n",
       "3   {'criterion': 'friedman_mse', 'init': None, 'l...                0.742256   \n",
       "0   {'algorithm': 'SAMME.R', 'base_estimator': Non...                0.635583   \n",
       "5   {'Cs': 10, 'class_weight': None, 'cv': 'warn',...                0.583701   \n",
       "12  {'C': 1.0, 'class_weight': None, 'dual': True,...                0.583032   \n",
       "7   {'alphas': array([ 0.1,  1. , 10. ]), 'class_w...                0.583021   \n",
       "15  {'n_components': None, 'priors': None, 'shrink...                0.583018   \n",
       "11           {'priors': None, 'var_smoothing': 1e-09}                  0.5684   \n",
       "8   {'alpha': 0.0001, 'average': False, 'class_wei...                0.554713   \n",
       "10  {'alpha': 1.0, 'binarize': 0.0, 'class_prior':...                0.530244   \n",
       "6   {'C': 1.0, 'average': False, 'class_weight': N...                0.524083   \n",
       "9   {'alpha': 0.0001, 'class_weight': None, 'early...                0.504903   \n",
       "16  {'priors': None, 'reg_param': 0.0, 'store_cova...                0.500207   \n",
       "\n",
       "   MLA Test Accuracy Mean MLA Test Accuracy 3*STD  MLA Time  \n",
       "1                0.838472              0.00162358   152.354  \n",
       "2                0.837699               0.0014581   23.4263  \n",
       "4                0.830541              0.00182718   57.8013  \n",
       "13               0.809038               0.0048349   16.0194  \n",
       "14               0.779328               0.0145076   2.19175  \n",
       "17               0.744967              0.00457813   94.3382  \n",
       "3                0.742623              0.00255096   202.678  \n",
       "0                0.635811               0.0112723   100.225  \n",
       "5                0.583759              0.00259982   112.747  \n",
       "12               0.583105              0.00273581   40.7482  \n",
       "7                 0.58309              0.00274561   2.13468  \n",
       "15               0.583087              0.00274139   2.22481  \n",
       "11               0.568957              0.00312133  0.594693  \n",
       "8                0.555306              0.00712095   1.68971  \n",
       "10                0.53001               0.0014568  0.609182  \n",
       "6                0.524629                 0.02297   1.93684  \n",
       "9                0.504425                0.013888   1.60471  \n",
       "16               0.499963              0.00245828  0.901102  "
      ]
     },
     "execution_count": 22,
     "metadata": {},
     "output_type": "execute_result"
    }
   ],
   "source": [
    "cv_split = model_selection.ShuffleSplit(n_splits = 5, test_size = .2, train_size = .8, random_state = 0 )\n",
    "\n",
    "#create table to compare MLA metrics\n",
    "MLA_columns = ['MLA Name', 'MLA Parameters','MLA Train Accuracy Mean', 'MLA Test Accuracy Mean', 'MLA Test Accuracy 3*STD' ,'MLA Time']\n",
    "MLA_compare = pd.DataFrame(columns = MLA_columns)\n",
    "\n",
    "#create table to compare MLA predictions\n",
    "#MLA_predict = data1[Target].copy(deep=True)\n",
    "MLA_predict = {}\n",
    "MLA_predict[\"True Labels\"] = np.array(data1[Target].copy(deep=True)) \n",
    "#index through MLA and save performance to table\n",
    "row_index = 0\n",
    "for alg in MLA:\n",
    "    print(alg)\n",
    "    #set name and parameters\n",
    "    MLA_name = alg.__class__.__name__\n",
    "    MLA_compare.loc[row_index, 'MLA Name'] = MLA_name\n",
    "    MLA_compare.loc[row_index, 'MLA Parameters'] = str(alg.get_params())\n",
    "    \n",
    "    #scoring=('r2', 'neg_mean_squared_error') scoring = scoring\n",
    "    #score model with cross validation: http://scikit-learn.org/stable/modules/generated/sklearn.model_selection.cross_validate.html#sklearn.model_selection.cross_validate\n",
    "    cv_results = model_selection.cross_validate(alg, data1[input_columns], data1[Target], cv  = cv_split)\n",
    "\n",
    "    MLA_compare.loc[row_index, 'MLA Time'] = cv_results['fit_time'].mean()\n",
    "    MLA_compare.loc[row_index, 'MLA Train Accuracy Mean'] = cv_results['train_score'].mean()\n",
    "    MLA_compare.loc[row_index, 'MLA Test Accuracy Mean'] = cv_results['test_score'].mean()   \n",
    "    #if this is a non-bias random sample, then +/-3 standard deviations (std) from the mean, should statistically capture 99.7% of the subsets\n",
    "    MLA_compare.loc[row_index, 'MLA Test Accuracy 3*STD'] = cv_results['test_score'].std()*3   #let's know the worst that can happen!\n",
    "    \n",
    "\n",
    "    #save MLA predictions - see section 6 for usage\n",
    "    #alg.fit(data1[input_columns], data1[Target])\n",
    "    #MLA_predict[MLA_name] = alg.predict(data1[input_columns])\n",
    "    \n",
    "    # save the classifier\n",
    "    with open('models/' + MLA_name + '.pkl', 'wb') as f:\n",
    "        cPickle.dump(alg, f)    \n",
    "    \n",
    "    row_index+=1\n",
    "\n",
    "#save MLA_compare and cv_results\n",
    "\n",
    "with open('models/MLA_compare.pkl', 'wb') as f:\n",
    "    cPickle.dump(MLA_compare, f)\n",
    "    \n",
    "with open('models/' + 'cv_results' + '.pkl', 'wb') as f:\n",
    "    cPickle.dump(cv_results, f)\n",
    "    \n",
    "#print and sort table: https://pandas.pydata.org/pandas-docs/stable/generated/pandas.DataFrame.sort_values.html\n",
    "MLA_compare.sort_values(by = ['MLA Test Accuracy Mean'], ascending = False, inplace = True)\n",
    "MLA_compare\n",
    "#MLA_predict"
   ]
  },
  {
   "cell_type": "code",
   "execution_count": 23,
   "metadata": {
    "_cell_guid": "b9653051-8e79-4ae3-ac31-497bf0a5caed",
    "_uuid": "b7acbf3f7ad6e812a2b5d60794bc3c5ad7d3fd0c",
    "slideshow": {
     "slide_type": "fragment"
    }
   },
   "outputs": [
    {
     "data": {
      "text/plain": [
       "Text(0,0.5,'Algorithm')"
      ]
     },
     "execution_count": 23,
     "metadata": {},
     "output_type": "execute_result"
    },
    {
     "data": {
      "image/png": "[encoded data removed]",
      "text/plain": [
       "<matplotlib.figure.Figure at 0x7f1197d82128>"
      ]
     },
     "metadata": {},
     "output_type": "display_data"
    }
   ],
   "source": [
    "#barplot using https://seaborn.pydata.org/generated/seaborn.barplot.html\n",
    "fig, saxis = plt.subplots(1,figsize=(16,12))\n",
    "sns.barplot(x='MLA Test Accuracy Mean', y = 'MLA Name', data = MLA_compare, color = 'm', ax = saxis)\n",
    "\n",
    "#prettify using pyplot: https://matplotlib.org/api/pyplot_api.html\n",
    "plt.title('Machine Learning Algorithm Accuracy Score \\n')\n",
    "plt.xlabel('Accuracy Score (%)')\n",
    "plt.ylabel('Algorithm')"
   ]
  },
  {
   "cell_type": "markdown",
   "metadata": {
    "slideshow": {
     "slide_type": "slide"
    }
   },
   "source": [
    "## Tune Model - Hyper-Parameters\n",
    "* Escolheu-se os 2 primeiros algoritmos (no caso ideal testaria-se todos)."
   ]
  },
  {
   "cell_type": "code",
   "execution_count": 16,
   "metadata": {},
   "outputs": [
    {
     "name": "stdout",
     "output_type": "stream",
     "text": [
      "BaggingClassifier(base_estimator=None, bootstrap=True,\n",
      "         bootstrap_features=False, max_features=1.0, max_samples=0.25,\n",
      "         n_estimators=300, n_jobs=None, oob_score=True, random_state=0,\n",
      "         verbose=0, warm_start=False)\n",
      "ExtraTreesClassifier(bootstrap=False, class_weight=None, criterion='gini',\n",
      "           max_depth=None, max_features='auto', max_leaf_nodes=None,\n",
      "           min_impurity_decrease=0.0, min_impurity_split=None,\n",
      "           min_samples_leaf=1, min_samples_split=2,\n",
      "           min_weight_fraction_leaf=0.0, n_estimators=50, n_jobs=None,\n",
      "           oob_score=False, random_state=0, verbose=0, warm_start=False)\n"
     ]
    }
   ],
   "source": [
    "#escolher parametros\n",
    "\n",
    "grid_n_estimator = [50,100,300]\n",
    "grid_ratio = [.1,.25,.5,.75,1.0]\n",
    "grid_learn = [.01,.03,.05,.1,.25]\n",
    "grid_max_depth = [2,4,6,None]\n",
    "grid_min_samples = [5,10,.03,.05,.10]\n",
    "grid_criterion = ['gini', 'entropy']\n",
    "grid_bool = [True, False]\n",
    "grid_seed = [0]\n",
    "\n",
    "param_BaggingClassifier = {\n",
    "                #http://scikit-learn.org/stable/modules/generated/sklearn.ensemble.BaggingClassifier.html#sklearn.ensemble.BaggingClassifier\n",
    "                'n_estimators': grid_n_estimator,\n",
    "                'max_samples': grid_ratio,\n",
    "                'oob_score': grid_bool, \n",
    "                'random_state': grid_seed\n",
    "}\n",
    "\n",
    "param_ExtraTreesClassifier = {\n",
    "                #http://scikit-learn.org/stable/modules/generated/sklearn.ensemble.ExtraTreesClassifier.html#sklearn.ensemble.ExtraTreesClassifier\n",
    "                'n_estimators': grid_n_estimator,\n",
    "                'criterion': grid_criterion,\n",
    "                'max_depth': grid_max_depth,\n",
    "                'random_state': grid_seed\n",
    "}\n",
    "\n",
    "param_RandomForestClassifier = {\n",
    "                #http://scikit-learn.org/stable/modules/generated/sklearn.ensemble.RandomForestClassifier.html#sklearn.ensemble.RandomForestClassifier\n",
    "                'n_estimators': grid_n_estimator,\n",
    "                'criterion': grid_criterion,\n",
    "                'max_depth': grid_max_depth,\n",
    "                'min_samples_split': grid_min_samples,\n",
    "                'min_samples_leaf': grid_min_samples,  \n",
    "                'oob_score': grid_bool, \n",
    "                'random_state': grid_seed\n",
    "}\n",
    "\n",
    "param = [\n",
    "    param_BaggingClassifier,\n",
    "    param_ExtraTreesClassifier,\n",
    "    param_RandomForestClassifier,\n",
    "]\n",
    "\n",
    "BaggingClassifier = ensemble.BaggingClassifier()\n",
    "ExtraTreesClassifier = ensemble.ExtraTreesClassifier()\n",
    "RandomForestClassifier = ensemble.RandomForestClassifier()\n",
    "\n",
    "MLA_bests = [\n",
    "    BaggingClassifier,\n",
    "    ExtraTreesClassifier,\n",
    "    RandomForestClassifier,\n",
    "]\n",
    "\n",
    "data_hp = data1.sample(100000)\n",
    "save_params = [{},{},{}]\n",
    "for i in range(0, len(MLA_bests)):\n",
    "    #print(MLA_bests[i].__class__.__name__ )\n",
    "    search = RandomizedSearchCV(MLA_bests[i], scoring = 'roc_auc', cv=5,#scoring='average_precision'\n",
    "                                n_iter=5, param_distributions= param[i],\n",
    "                                refit=True, n_jobs=-1)\n",
    "    search.fit(data_hp[input_columns], data_hp[Target])\n",
    "    MLA_bests[i] = search.best_estimator_\n",
    "    save_params[i] = search.best_params_\n",
    "    # save the classifier\n",
    "    print(MLA_bests[i])\n",
    "    with open('models/Tuned_'+ MLA_bests[i].__class__.__name__ +'.pkl', 'wb') as f:\n",
    "        cPickle.dump(MLA_bests[i], f) "
   ]
  },
  {
   "cell_type": "code",
   "execution_count": 69,
   "metadata": {},
   "outputs": [
    {
     "data": {
      "text/html": [
       "<div>\n",
       "<style scoped>\n",
       "    .dataframe tbody tr th:only-of-type {\n",
       "        vertical-align: middle;\n",
       "    }\n",
       "\n",
       "    .dataframe tbody tr th {\n",
       "        vertical-align: top;\n",
       "    }\n",
       "\n",
       "    .dataframe thead th {\n",
       "        text-align: right;\n",
       "    }\n",
       "</style>\n",
       "<table border=\"1\" class=\"dataframe\">\n",
       "  <thead>\n",
       "    <tr style=\"text-align: right;\">\n",
       "      <th></th>\n",
       "      <th>MLA Name</th>\n",
       "      <th>MLA Parameters</th>\n",
       "      <th>MLA Train Accuracy Mean</th>\n",
       "      <th>MLA Test Accuracy Mean</th>\n",
       "      <th>MLA Test Accuracy 3*STD</th>\n",
       "      <th>MLA Time</th>\n",
       "    </tr>\n",
       "  </thead>\n",
       "  <tbody>\n",
       "    <tr>\n",
       "      <th>0</th>\n",
       "      <td>BaggingClassifier</td>\n",
       "      <td>{'base_estimator': None, 'bootstrap': True, 'b...</td>\n",
       "      <td>0.948369</td>\n",
       "      <td>0.847543</td>\n",
       "      <td>0.00184376</td>\n",
       "      <td>182.135</td>\n",
       "    </tr>\n",
       "    <tr>\n",
       "      <th>1</th>\n",
       "      <td>ExtraTreesClassifier</td>\n",
       "      <td>{'bootstrap': False, 'class_weight': None, 'cr...</td>\n",
       "      <td>0.967543</td>\n",
       "      <td>0.859487</td>\n",
       "      <td>0.0015346</td>\n",
       "      <td>40.3245</td>\n",
       "    </tr>\n",
       "  </tbody>\n",
       "</table>\n",
       "</div>"
      ],
      "text/plain": [
       "               MLA Name                                     MLA Parameters  \\\n",
       "0     BaggingClassifier  {'base_estimator': None, 'bootstrap': True, 'b...   \n",
       "1  ExtraTreesClassifier  {'bootstrap': False, 'class_weight': None, 'cr...   \n",
       "\n",
       "  MLA Train Accuracy Mean MLA Test Accuracy Mean MLA Test Accuracy 3*STD  \\\n",
       "0                0.948369               0.847543              0.00184376   \n",
       "1                0.967543               0.859487               0.0015346   \n",
       "\n",
       "  MLA Time  \n",
       "0  182.135  \n",
       "1  40.3245  "
      ]
     },
     "execution_count": 69,
     "metadata": {},
     "output_type": "execute_result"
    }
   ],
   "source": [
    "#treinar com parametros certos\n",
    "\n",
    "BaggingClassifier = ensemble.BaggingClassifier(base_estimator=None, bootstrap=True,\n",
    "         bootstrap_features=False, max_features=1.0, max_samples=0.25,\n",
    "         n_estimators=300, n_jobs=None, oob_score=True, random_state=0,\n",
    "         verbose=0, warm_start=False)\n",
    "\n",
    "ExtraTreesClassifier = ensemble.ExtraTreesClassifier(bootstrap=False, class_weight=None, criterion='gini',\n",
    "           max_depth=None, max_features='auto', max_leaf_nodes=None,\n",
    "           min_impurity_decrease=0.0, min_impurity_split=None,\n",
    "           min_samples_leaf=1, min_samples_split=2,\n",
    "           min_weight_fraction_leaf=0.0, n_estimators=50, n_jobs=None,\n",
    "           oob_score=False, random_state=0, verbose=0, warm_start=False)\n",
    "\n",
    "MLA_bests = [\n",
    "    BaggingClassifier,\n",
    "    ExtraTreesClassifier,\n",
    "]\n",
    "\n",
    "data_after_tune = data1\n",
    "cv_split = model_selection.ShuffleSplit(n_splits = 5, test_size = .2, train_size = .8, random_state = 0 )\n",
    "\n",
    "MLA_columns = ['MLA Name', 'MLA Parameters','MLA Train Accuracy Mean', 'MLA Test Accuracy Mean', 'MLA Test Accuracy 3*STD' ,'MLA Time']\n",
    "MLA_compare = pd.DataFrame(columns = MLA_columns)\n",
    "\n",
    "#index through MLA and save performance to table\n",
    "row_index = 0\n",
    "for alg in MLA_bests:\n",
    "    #print(alg)\n",
    "    #set name and parameters\n",
    "    MLA_name = alg.__class__.__name__\n",
    "    MLA_compare.loc[row_index, 'MLA Name'] = MLA_name\n",
    "    MLA_compare.loc[row_index, 'MLA Parameters'] = str(alg.get_params())\n",
    "    \n",
    "    cv_results = model_selection.cross_validate(alg, data_after_tune[input_columns], data_after_tune[Target], cv  = cv_split)\n",
    "\n",
    "    MLA_compare.loc[row_index, 'MLA Time'] = cv_results['fit_time'].mean()\n",
    "    MLA_compare.loc[row_index, 'MLA Train Accuracy Mean'] = cv_results['train_score'].mean()\n",
    "    MLA_compare.loc[row_index, 'MLA Test Accuracy Mean'] = cv_results['test_score'].mean()   \n",
    "    \n",
    "    MLA_compare.loc[row_index, 'MLA Test Accuracy 3*STD'] = cv_results['test_score'].std()*3   #let's know the worst that can happen!\n",
    "\n",
    "    alg.fit(data_after_tune[input_columns], data_after_tune[Target])\n",
    "    \n",
    "    row_index+=1\n",
    "\n",
    "#save classifiers    \n",
    "for alg in MLA_bests:    \n",
    "    # save the classifiers\n",
    "    MLA_name = alg.__class__.__name__\n",
    "    with open('models/after_tune_' + MLA_name + '.pkl', 'wb') as f:\n",
    "        cPickle.dump(alg, f)    \n",
    "\n",
    "#save MLA_compare and cv_results\n",
    "with open('models/after_tune_MLA_compare.pkl', 'wb') as f:\n",
    "    cPickle.dump(MLA_compare, f)\n",
    "    \n",
    "with open('models/after_tune_' + 'cv_results' + '.pkl', 'wb') as f:\n",
    "    cPickle.dump(cv_results, f)\n",
    "     \n",
    "#print and sort table: https://pandas.pydata.org/pandas-docs/stable/generated/pandas.DataFrame.sort_values.html\n",
    "MLA_compare.sort_values(by = ['MLA Test Accuracy Mean'], ascending = False, inplace = True)\n",
    "MLA_compare"
   ]
  },
  {
   "cell_type": "code",
   "execution_count": 72,
   "metadata": {
    "slideshow": {
     "slide_type": "fragment"
    }
   },
   "outputs": [
    {
     "data": {
      "text/plain": [
       "Text(0,0.5,'Algorithm')"
      ]
     },
     "execution_count": 72,
     "metadata": {},
     "output_type": "execute_result"
    },
    {
     "data": {
      "image/png": "[encoded data removed]",
      "text/plain": [
       "<matplotlib.figure.Figure at 0x7f52bba52da0>"
      ]
     },
     "metadata": {},
     "output_type": "display_data"
    }
   ],
   "source": [
    "#with open('models/guardar2/after_tune_MLA_compare.pkl', 'rb') as f:\n",
    "#    MLA_compare = cPickle.load(f)\n",
    "\n",
    "#barplot using https://seaborn.pydata.org/generated/seaborn.barplot.html\n",
    "fig, saxis = plt.subplots(1,figsize=(16,12))\n",
    "sns.barplot(x='MLA Test Accuracy Mean', y = 'MLA Name', data = MLA_compare, color = 'm', ax = saxis)\n",
    "\n",
    "#prettify using pyplot: https://matplotlib.org/api/pyplot_api.html\n",
    "plt.title('Machine Learning Algorithm Accuracy Score \\n')\n",
    "plt.xlabel('Accuracy Score (%)')\n",
    "plt.ylabel('Algorithm')"
   ]
  },
  {
   "cell_type": "code",
   "execution_count": null,
   "metadata": {
    "collapsed": true
   },
   "outputs": [],
   "source": [
    "# Predict in validation data\n",
    "\n",
    "MLA_predict = {}\n",
    "MLA_predict[\"True Labels\"] = np.array(data_test[Target].copy(deep=True)) \n",
    "\n",
    "MLA_predict_prob = {}\n",
    "MLA_predict_prob[\"True Labels\"] = np.array(data_test[Target].copy(deep=True)) \n",
    "\n",
    "for alg in MLA_bests:\n",
    "    MLA_predict[alg.__class__.__name__] = alg.predict(data_test[input_columns])\n",
    "    MLA_predict_prob[alg.__class__.__name__] = alg.predict_proba(data_test[input_columns])"
   ]
  },
  {
   "cell_type": "markdown",
   "metadata": {},
   "source": [
    "# Carregar dados e modelos (em vez de treinar)"
   ]
  },
  {
   "cell_type": "code",
   "execution_count": 2,
   "metadata": {
    "collapsed": true
   },
   "outputs": [],
   "source": [
    "input_columns = ['att_count', 'att_count_per_tl', 'tl_type', 'time_after_last_att',\n",
    "       'weekday', 'business_day', 'holiday', 'time']\n",
    "Target = 'outcome'"
   ]
  },
  {
   "cell_type": "code",
   "execution_count": 3,
   "metadata": {},
   "outputs": [
    {
     "name": "stdout",
     "output_type": "stream",
     "text": [
      "(1962004, 9)\n",
      "(103264, 9)\n",
      "(330849, 9)\n"
     ]
    }
   ],
   "source": [
    "with open('data1.pkl', 'rb') as f:\n",
    "    data1 = cPickle.load(f)\n",
    "\n",
    "with open('data_test.pkl', 'rb') as f:\n",
    "    data_test = cPickle.load(f)\n",
    "    \n",
    "with open('att_test.pkl', 'rb') as f:\n",
    "    att_test = cPickle.load(f)\n",
    "    \n",
    "print(data1.shape)\n",
    "print(data_test.shape)\n",
    "print(att_test.shape)"
   ]
  },
  {
   "cell_type": "code",
   "execution_count": 10,
   "metadata": {},
   "outputs": [
    {
     "name": "stdout",
     "output_type": "stream",
     "text": [
      "BaggingClassifier\n",
      "Carregar modelo\n",
      "Previsão nos dados de validação\n",
      "ExtraTreesClassifier\n",
      "Carregar modelo\n",
      "Previsão nos dados de validação\n",
      "RandomForestClassifier\n",
      "Carregar modelo\n",
      "Previsão nos dados de validação\n"
     ]
    }
   ],
   "source": [
    "#carregar modelo 1 a 1 e fazer precict porque a ram não é suficiente\n",
    "\n",
    "BaggingClassifier = ensemble.BaggingClassifier()\n",
    "ExtraTreesClassifier = ensemble.ExtraTreesClassifier()\n",
    "RandomForestClassifier = ensemble.RandomForestClassifier()\n",
    "\n",
    "MLA_bests = [\n",
    "    BaggingClassifier,\n",
    "    ExtraTreesClassifier,\n",
    "    RandomForestClassifier,\n",
    "]\n",
    "\n",
    "# Predict in validation data\n",
    "\n",
    "MLA_predict = {}\n",
    "MLA_predict[\"True Labels\"] = np.array(data_test[Target].copy(deep=True)) \n",
    "\n",
    "MLA_predict_prob = {}\n",
    "MLA_predict_prob[\"True Labels\"] = np.array(data_test[Target].copy(deep=True)) \n",
    "\n",
    "#MLA_predict\n",
    "import gc \n",
    "# I delete the model after the prediction because of RAM space\n",
    "\n",
    "def load_predict(model):\n",
    "    print(MLA_name)\n",
    "    print(\"Carregar modelo\")\n",
    "    with open('models/after_tune_'+ MLA_name +'.pkl', 'rb') as f:\n",
    "        alg_ml = cPickle.load(f)\n",
    "    print(\"Previsão nos dados de validação\")    \n",
    "    MLA_predict[MLA_name] = alg_ml.predict(data_test[input_columns])\n",
    "    MLA_predict_prob[MLA_name] = alg_ml.predict_proba(data_test[input_columns])\n",
    "    \n",
    "    del alg_ml\n",
    "    gc.enable()\n",
    "    gc.collect()\n",
    "    gc.collect(0)\n",
    "    gc.collect(1)\n",
    "    gc.collect(2)\n",
    "    \n",
    "for alg in MLA_bests:   \n",
    "    MLA_name = alg.__class__.__name__\n",
    "    load_predict(MLA_name)\n",
    "    gc.enable()\n",
    "    gc.collect()\n",
    "    gc.collect(0)\n",
    "    gc.collect(1)\n",
    "    gc.collect(2)"
   ]
  },
  {
   "cell_type": "markdown",
   "metadata": {
    "_cell_guid": "c90ba48e-3c44-47c8-9bd2-d46187efb9d8",
    "_uuid": "9e3ac7492a21e7f60b0656008f7873cab882f196",
    "slideshow": {
     "slide_type": "slide"
    }
   },
   "source": [
    "<a id=\"ch8\"></a>\n",
    "# Avaliar performance dos modelos"
   ]
  },
  {
   "cell_type": "markdown",
   "metadata": {
    "slideshow": {
     "slide_type": "fragment"
    }
   },
   "source": [
    "## Validation Accuracy"
   ]
  },
  {
   "cell_type": "code",
   "execution_count": 90,
   "metadata": {
    "collapsed": true
   },
   "outputs": [],
   "source": [
    "with open('models/imp_MLA_predict.pkl', 'rb') as f:\n",
    "        MLA_predict = cPickle.load(f)\n",
    "        \n",
    "with open('models/imp_MLA_predict_pob.pkl', 'rb') as f:\n",
    "        MLA_predict_prob = cPickle.load(f)"
   ]
  },
  {
   "cell_type": "code",
   "execution_count": 73,
   "metadata": {},
   "outputs": [
    {
     "name": "stdout",
     "output_type": "stream",
     "text": [
      "0.8468101177564301\n",
      "0.8582758754260923\n"
     ]
    }
   ],
   "source": [
    "acc =[]\n",
    "names = []\n",
    "i=0\n",
    "for alg in MLA_bests:\n",
    "    print(metrics.accuracy_score(MLA_predict[\"True Labels\"], MLA_predict[alg.__class__.__name__]))\n",
    "    acc.append(metrics.accuracy_score(MLA_predict[\"True Labels\"], MLA_predict[alg.__class__.__name__]))\n",
    "    names.append(alg.__class__.__name__)\n",
    "    \n",
    "acc_compare = pd.DataFrame()\n",
    "acc_compare[\"MLA Val Accuracy Mean\"] = acc\n",
    "acc_compare['MLA Name'] = names\n",
    "acc_compare.sort_values(by = ['MLA Val Accuracy Mean'], ascending = False, inplace = True)"
   ]
  },
  {
   "cell_type": "code",
   "execution_count": 74,
   "metadata": {
    "slideshow": {
     "slide_type": "fragment"
    }
   },
   "outputs": [
    {
     "data": {
      "text/html": [
       "<div>\n",
       "<style scoped>\n",
       "    .dataframe tbody tr th:only-of-type {\n",
       "        vertical-align: middle;\n",
       "    }\n",
       "\n",
       "    .dataframe tbody tr th {\n",
       "        vertical-align: top;\n",
       "    }\n",
       "\n",
       "    .dataframe thead th {\n",
       "        text-align: right;\n",
       "    }\n",
       "</style>\n",
       "<table border=\"1\" class=\"dataframe\">\n",
       "  <thead>\n",
       "    <tr style=\"text-align: right;\">\n",
       "      <th></th>\n",
       "      <th>MLA Val Accuracy Mean</th>\n",
       "      <th>MLA Name</th>\n",
       "    </tr>\n",
       "  </thead>\n",
       "  <tbody>\n",
       "    <tr>\n",
       "      <th>1</th>\n",
       "      <td>0.858276</td>\n",
       "      <td>ExtraTreesClassifier</td>\n",
       "    </tr>\n",
       "    <tr>\n",
       "      <th>0</th>\n",
       "      <td>0.846810</td>\n",
       "      <td>BaggingClassifier</td>\n",
       "    </tr>\n",
       "  </tbody>\n",
       "</table>\n",
       "</div>"
      ],
      "text/plain": [
       "   MLA Val Accuracy Mean              MLA Name\n",
       "1               0.858276  ExtraTreesClassifier\n",
       "0               0.846810     BaggingClassifier"
      ]
     },
     "execution_count": 74,
     "metadata": {},
     "output_type": "execute_result"
    },
    {
     "data": {
      "image/png": "[encoded data removed]",
      "text/plain": [
       "<matplotlib.figure.Figure at 0x7f52b90aa6d8>"
      ]
     },
     "metadata": {},
     "output_type": "display_data"
    }
   ],
   "source": [
    "#barplot using https://seaborn.pydata.org/generated/seaborn.barplot.html\n",
    "fig, saxis = plt.subplots(1,figsize=(16,12))\n",
    "sns.barplot(x='MLA Val Accuracy Mean', y = 'MLA Name', data = acc_compare, color = 'm', ax = saxis)\n",
    "\n",
    "#prettify using pyplot: https://matplotlib.org/api/pyplot_api.html\n",
    "plt.title('Machine Learning Algorithm Accuracy Score \\n')\n",
    "plt.xlabel('Accuracy Score (%)')\n",
    "plt.ylabel('Algorithm')\n",
    "acc_compare"
   ]
  },
  {
   "cell_type": "markdown",
   "metadata": {
    "slideshow": {
     "slide_type": "slide"
    }
   },
   "source": [
    "## Matriz da confusão"
   ]
  },
  {
   "cell_type": "code",
   "execution_count": 75,
   "metadata": {
    "_cell_guid": "12c7bfa9-6876-4df7-adf9-147eac1bd43c",
    "_uuid": "22413208c3179422ff603c059c695d78b4dd0db1",
    "slideshow": {
     "slide_type": "fragment"
    }
   },
   "outputs": [
    {
     "name": "stdout",
     "output_type": "stream",
     "text": [
      "BaggingClassifier\n",
      "Normalized confusion matrix\n",
      "[[0.88 0.12]\n",
      " [0.19 0.81]]\n",
      "ExtraTreesClassifier\n",
      "Normalized confusion matrix\n",
      "[[0.85 0.15]\n",
      " [0.14 0.86]]\n"
     ]
    },
    {
     "data": {
      "image/png": "[encoded data removed]",
      "text/plain": [
       "<matplotlib.figure.Figure at 0x7f52b90b2860>"
      ]
     },
     "metadata": {},
     "output_type": "display_data"
    },
    {
     "data": {
      "image/png": "[encoded data removed]",
      "text/plain": [
       "<matplotlib.figure.Figure at 0x7f52b91a9748>"
      ]
     },
     "metadata": {},
     "output_type": "display_data"
    }
   ],
   "source": [
    "BaggingClassifier = ensemble.BaggingClassifier()\n",
    "ExtraTreesClassifier = ensemble.ExtraTreesClassifier()\n",
    "RandomForestClassifier = ensemble.RandomForestClassifier()\n",
    "\n",
    "MLA_bests = [\n",
    "    BaggingClassifier,\n",
    "    ExtraTreesClassifier,\n",
    "]\n",
    "\n",
    "#Plot Accuracy Summary\n",
    "#Credit: http://scikit-learn.org/stable/auto_examples/model_selection/plot_confusion_matrix.html\n",
    "import itertools\n",
    "def plot_confusion_matrix(cm, classes,\n",
    "                          normalize=False,\n",
    "                          title='Confusion matrix',\n",
    "                          cmap=plt.cm.Blues):\n",
    "    \"\"\"\n",
    "    This function prints and plots the confusion matrix.\n",
    "    Normalization can be applied by setting `normalize=True`.\n",
    "    \"\"\"\n",
    "    if normalize:\n",
    "        cm = cm.astype('float') / cm.sum(axis=1)[:, np.newaxis]\n",
    "        print(\"Normalized confusion matrix\")\n",
    "    else:\n",
    "        print('Confusion matrix, without normalization')\n",
    "\n",
    "    print(cm)\n",
    "\n",
    "    plt.imshow(cm, interpolation='nearest', cmap=cmap)\n",
    "    plt.title(title)\n",
    "    plt.colorbar()\n",
    "    tick_marks = np.arange(len(classes))\n",
    "    plt.xticks(tick_marks, classes, rotation=45)\n",
    "    plt.yticks(tick_marks, classes)\n",
    "\n",
    "    fmt = '.2f' if normalize else 'd'\n",
    "    thresh = cm.max() / 2.\n",
    "    for i, j in itertools.product(range(cm.shape[0]), range(cm.shape[1])):\n",
    "        plt.text(j, i, format(cm[i, j], fmt),\n",
    "                 horizontalalignment=\"center\",\n",
    "                 color=\"white\" if cm[i, j] > thresh else \"black\")\n",
    "\n",
    "    plt.tight_layout()\n",
    "    plt.ylabel('True label')\n",
    "    plt.xlabel('Predicted label')\n",
    "\n",
    "###############3\n",
    "#CODIGO PARA ESCOLHER MELHOR ALGORITMO\n",
    "################\n",
    "i=0\n",
    "for alg in MLA_bests:\n",
    "    # Compute confusion matrix\n",
    "    cnf_matrix = metrics.confusion_matrix(data_test['outcome'], MLA_predict[alg.__class__.__name__])\n",
    "    np.set_printoptions(precision=2)\n",
    "\n",
    "    class_names = ['Não atendeu', 'Atendeu']\n",
    "\n",
    "    # Plot normalized confusion matrix\n",
    "    plt.figure()\n",
    "    print(alg.__class__.__name__)\n",
    "    plot_confusion_matrix(cnf_matrix, classes=class_names, normalize=True, \n",
    "                          title='Confusion matrix ' + alg.__class__.__name__)\n",
    "\n"
   ]
  },
  {
   "cell_type": "markdown",
   "metadata": {
    "slideshow": {
     "slide_type": "slide"
    }
   },
   "source": [
    "## ROC Curves"
   ]
  },
  {
   "cell_type": "code",
   "execution_count": 76,
   "metadata": {
    "slideshow": {
     "slide_type": "fragment"
    }
   },
   "outputs": [
    {
     "name": "stdout",
     "output_type": "stream",
     "text": [
      "BaggingClassifier\n",
      "Accuracy 0.8468101177564301\n"
     ]
    },
    {
     "data": {
      "image/png": "[encoded data removed]",
      "text/plain": [
       "<matplotlib.figure.Figure at 0x7f52b9570748>"
      ]
     },
     "metadata": {},
     "output_type": "display_data"
    },
    {
     "name": "stdout",
     "output_type": "stream",
     "text": [
      "ExtraTreesClassifier\n",
      "Accuracy 0.8582758754260923\n"
     ]
    },
    {
     "data": {
      "image/png": "[encoded data removed]",
      "text/plain": [
       "<matplotlib.figure.Figure at 0x7f52b9259c50>"
      ]
     },
     "metadata": {},
     "output_type": "display_data"
    }
   ],
   "source": [
    "#import scikitplot as skplt\n",
    "for alg in MLA_bests:\n",
    "    print(alg.__class__.__name__)\n",
    "    print(\"Accuracy\", metrics.accuracy_score(MLA_predict_prob[\"True Labels\"], MLA_predict[alg.__class__.__name__]))\n",
    "\n",
    "    y_true = MLA_predict_prob[\"True Labels\"]# ground truth labels\n",
    "    y_probas = MLA_predict_prob[alg.__class__.__name__][::,1] # predicted probabilities generated by sklearn classifier\n",
    "\n",
    "    plt.title(\"ROC Curve\")\n",
    "    plt.ylabel(\"True Positive Rate\")\n",
    "    plt.xlabel(\"False Positive Rate\")\n",
    "    fpr, tpr, _ = metrics.roc_curve(y_true,  y_probas)\n",
    "    auc = metrics.roc_auc_score(y_true, y_probas)\n",
    "    plt.plot(fpr,tpr,label=\"data 1, auc=\"+str(auc))\n",
    "\n",
    "\n",
    "    plt.legend(loc=4)\n",
    "    plt.show()"
   ]
  },
  {
   "cell_type": "markdown",
   "metadata": {},
   "source": [
    "# Voting Classifier"
   ]
  },
  {
   "cell_type": "code",
   "execution_count": 93,
   "metadata": {
    "_cell_guid": "336c5075-9077-479d-9d95-38b6c9b7b0c8",
    "_uuid": "3648c38f48305bacd85ee8ee3048404631a03ad5"
   },
   "outputs": [
    {
     "data": {
      "image/png": "[encoded data removed]",
      "text/plain": [
       "<matplotlib.figure.Figure at 0x7f52b7d1c0b8>"
      ]
     },
     "metadata": {},
     "output_type": "display_data"
    }
   ],
   "source": [
    "#correlation heatmap of dataset\n",
    "def correlation_heatmap(df):\n",
    "    _ , ax = plt.subplots(figsize =(14, 12))\n",
    "    colormap = sns.diverging_palette(220, 10, as_cmap = True)\n",
    "    \n",
    "    _ = sns.heatmap(\n",
    "        df.corr(), \n",
    "        cmap = colormap,\n",
    "        square=True, \n",
    "        cbar_kws={'shrink':.9 }, \n",
    "        ax=ax,\n",
    "        annot=True, \n",
    "        linewidths=0.1,vmax=1.0, linecolor='white',\n",
    "        annot_kws={'fontsize':12 }\n",
    "    )\n",
    "    \n",
    "    plt.title('Pearson Correlation of Features', y=1.05, size=15)\n",
    "\n",
    "#compare algorithm predictions with each other, where 1 = exactly similar and 0 = exactly opposite\n",
    "#there are some 1's, but enough blues and light reds to create a \"super algorithm\" by combining them\n",
    "correlation_heatmap(pd.DataFrame(MLA_predict))"
   ]
  },
  {
   "cell_type": "code",
   "execution_count": 9,
   "metadata": {
    "_cell_guid": "82d84146-6a2a-4b61-be81-922b3f35542f",
    "_uuid": "80c3637e384b48e64f00462eb8931196457716d2"
   },
   "outputs": [
    {
     "name": "stderr",
     "output_type": "stream",
     "text": [
      "/home/programs/lib/python3.6/site-packages/sklearn/ensemble/forest.py:246: FutureWarning: The default value of n_estimators will change from 10 in version 0.20 to 100 in 0.22.\n",
      "  \"10 in version 0.20 to 100 in 0.22.\", FutureWarning)\n",
      "/home/programs/lib/python3.6/site-packages/sklearn/ensemble/forest.py:246: FutureWarning: The default value of n_estimators will change from 10 in version 0.20 to 100 in 0.22.\n",
      "  \"10 in version 0.20 to 100 in 0.22.\", FutureWarning)\n",
      "/home/programs/lib/python3.6/site-packages/sklearn/ensemble/forest.py:246: FutureWarning: The default value of n_estimators will change from 10 in version 0.20 to 100 in 0.22.\n",
      "  \"10 in version 0.20 to 100 in 0.22.\", FutureWarning)\n",
      "/home/programs/lib/python3.6/site-packages/sklearn/ensemble/forest.py:246: FutureWarning: The default value of n_estimators will change from 10 in version 0.20 to 100 in 0.22.\n",
      "  \"10 in version 0.20 to 100 in 0.22.\", FutureWarning)\n",
      "/home/programs/lib/python3.6/site-packages/sklearn/ensemble/forest.py:246: FutureWarning: The default value of n_estimators will change from 10 in version 0.20 to 100 in 0.22.\n",
      "  \"10 in version 0.20 to 100 in 0.22.\", FutureWarning)\n",
      "/home/programs/lib/python3.6/site-packages/sklearn/ensemble/forest.py:246: FutureWarning: The default value of n_estimators will change from 10 in version 0.20 to 100 in 0.22.\n",
      "  \"10 in version 0.20 to 100 in 0.22.\", FutureWarning)\n",
      "/home/programs/lib/python3.6/site-packages/sklearn/utils/deprecation.py:125: FutureWarning: You are accessing a training score ('train_score'), which will not be available by default any more in 0.21. If you need training scores, please set return_train_score=True\n",
      "  warnings.warn(*warn_args, **warn_kwargs)\n"
     ]
    },
    {
     "name": "stdout",
     "output_type": "stream",
     "text": [
      "Hard Voting Training score mean: 95.14\n",
      "Hard Voting Test score mean: 83.22\n",
      "Hard Voting Test score 3*std: +/- 0.23\n",
      "----------\n"
     ]
    },
    {
     "name": "stderr",
     "output_type": "stream",
     "text": [
      "/home/programs/lib/python3.6/site-packages/sklearn/ensemble/forest.py:246: FutureWarning: The default value of n_estimators will change from 10 in version 0.20 to 100 in 0.22.\n",
      "  \"10 in version 0.20 to 100 in 0.22.\", FutureWarning)\n",
      "/home/programs/lib/python3.6/site-packages/sklearn/ensemble/forest.py:246: FutureWarning: The default value of n_estimators will change from 10 in version 0.20 to 100 in 0.22.\n",
      "  \"10 in version 0.20 to 100 in 0.22.\", FutureWarning)\n",
      "/home/programs/lib/python3.6/site-packages/sklearn/ensemble/forest.py:246: FutureWarning: The default value of n_estimators will change from 10 in version 0.20 to 100 in 0.22.\n",
      "  \"10 in version 0.20 to 100 in 0.22.\", FutureWarning)\n",
      "/home/programs/lib/python3.6/site-packages/sklearn/ensemble/forest.py:246: FutureWarning: The default value of n_estimators will change from 10 in version 0.20 to 100 in 0.22.\n",
      "  \"10 in version 0.20 to 100 in 0.22.\", FutureWarning)\n",
      "/home/programs/lib/python3.6/site-packages/sklearn/ensemble/forest.py:246: FutureWarning: The default value of n_estimators will change from 10 in version 0.20 to 100 in 0.22.\n",
      "  \"10 in version 0.20 to 100 in 0.22.\", FutureWarning)\n",
      "/home/programs/lib/python3.6/site-packages/sklearn/ensemble/forest.py:246: FutureWarning: The default value of n_estimators will change from 10 in version 0.20 to 100 in 0.22.\n",
      "  \"10 in version 0.20 to 100 in 0.22.\", FutureWarning)\n",
      "/home/programs/lib/python3.6/site-packages/sklearn/utils/deprecation.py:125: FutureWarning: You are accessing a training score ('train_score'), which will not be available by default any more in 0.21. If you need training scores, please set return_train_score=True\n",
      "  warnings.warn(*warn_args, **warn_kwargs)\n"
     ]
    },
    {
     "name": "stdout",
     "output_type": "stream",
     "text": [
      "Soft Voting Training score mean: 96.15\n",
      "Soft Voting Test score mean: 85.10\n",
      "Soft Voting Test score 3*std: +/- 0.07\n",
      "----------\n"
     ]
    }
   ],
   "source": [
    "#why choose one model, when you can pick them all with voting classifier\n",
    "#http://scikit-learn.org/stable/modules/generated/sklearn.ensemble.VotingClassifier.html\n",
    "#removed models w/o attribute 'predict_proba' required for vote classifier and models with a 1.0 correlation to another model\n",
    "vote_est = [\n",
    "    #Ensemble Methods: http://scikit-learn.org/stable/modules/ensemble.html\n",
    "    #('ada', ensemble.AdaBoostClassifier()),\n",
    "    ('bc', ensemble.BaggingClassifier()),\n",
    "    ('etc', ensemble.ExtraTreesClassifier()),\n",
    "\n",
    "]\n",
    "cv_split = model_selection.ShuffleSplit(n_splits = 5, test_size = .2, train_size = .8, random_state = 0 )\n",
    "\n",
    "data2 = data1\n",
    "#Hard Vote or majority rules\n",
    "vote_hard = ensemble.VotingClassifier(estimators = vote_est , voting = 'hard')\n",
    "vote_hard_cv = model_selection.cross_validate(vote_hard, data2[input_columns], data2[Target], cv  = cv_split)\n",
    "vote_hard.fit(data2[input_columns], data2[Target])\n",
    "\n",
    "print(\"Hard Voting Training score mean: {:.2f}\". format(vote_hard_cv['train_score'].mean()*100)) \n",
    "print(\"Hard Voting Test score mean: {:.2f}\". format(vote_hard_cv['test_score'].mean()*100))\n",
    "print(\"Hard Voting Test score 3*std: +/- {:.2f}\". format(vote_hard_cv['test_score'].std()*100*3))\n",
    "print('-'*10)\n",
    "\n",
    "\n",
    "#Soft Vote or weighted probabilities\n",
    "vote_soft = ensemble.VotingClassifier(estimators = vote_est , voting = 'soft')\n",
    "vote_soft_cv = model_selection.cross_validate(vote_soft, data2[input_columns], data2[Target], cv  = cv_split)\n",
    "vote_soft.fit(data2[input_columns], data2[Target])\n",
    "\n",
    "print(\"Soft Voting Training score mean: {:.2f}\". format(vote_soft_cv['train_score'].mean()*100)) \n",
    "print(\"Soft Voting Test score mean: {:.2f}\". format(vote_soft_cv['test_score'].mean()*100))\n",
    "print(\"Soft Voting Test score 3*std: +/- {:.2f}\". format(vote_soft_cv['test_score'].std()*100*3))\n",
    "print('-'*10)\n"
   ]
  },
  {
   "cell_type": "code",
   "execution_count": 104,
   "metadata": {
    "collapsed": true
   },
   "outputs": [],
   "source": [
    "# Predict in validation data\n",
    "\n",
    "MLA_predict1 = {}\n",
    "MLA_predict1[\"True Labels\"] = np.array(data_test[Target].copy(deep=True)) \n",
    "\n",
    "alg = vote_hard\n",
    "MLA_predict1['vote_hard'] = alg.predict(data_test[input_columns])\n",
    "alg = vote_soft\n",
    "MLA_predict1['vote_soft'] = alg.predict(data_test[input_columns])"
   ]
  },
  {
   "cell_type": "code",
   "execution_count": 105,
   "metadata": {},
   "outputs": [
    {
     "name": "stdout",
     "output_type": "stream",
     "text": [
      "vote_hard\n",
      "Normalized confusion matrix\n",
      "[[0.9  0.1 ]\n",
      " [0.21 0.79]]\n",
      "vote_soft\n",
      "Normalized confusion matrix\n",
      "[[0.86 0.14]\n",
      " [0.15 0.85]]\n"
     ]
    },
    {
     "data": {
      "image/png": "[encoded data removed]",
      "text/plain": [
       "<matplotlib.figure.Figure at 0x7f52b7c78860>"
      ]
     },
     "metadata": {},
     "output_type": "display_data"
    },
    {
     "data": {
      "image/png": "[encoded data removed]",
      "text/plain": [
       "<matplotlib.figure.Figure at 0x7f52b7d970f0>"
      ]
     },
     "metadata": {},
     "output_type": "display_data"
    }
   ],
   "source": [
    "# Compute confusion matrix\n",
    "cnf_matrix = metrics.confusion_matrix(data_test['outcome'], MLA_predict1['vote_hard'])\n",
    "np.set_printoptions(precision=2)\n",
    "\n",
    "class_names = ['Não atendeu', 'Atendeu']\n",
    "\n",
    "# Plot normalized confusion matrix\n",
    "plt.figure()\n",
    "print('vote_hard')\n",
    "plot_confusion_matrix(cnf_matrix, classes=class_names, normalize=True, \n",
    "                      title='Confusion matrix ' + alg.__class__.__name__)\n",
    "\n",
    "# Compute confusion matrix\n",
    "cnf_matrix = metrics.confusion_matrix(data_test['outcome'], MLA_predict1['vote_soft'])\n",
    "np.set_printoptions(precision=2)\n",
    "\n",
    "class_names = ['Não atendeu', 'Atendeu']\n",
    "\n",
    "# Plot normalized confusion matrix\n",
    "plt.figure()\n",
    "print('vote_soft')\n",
    "plot_confusion_matrix(cnf_matrix, classes=class_names, normalize=True, \n",
    "                      title='Confusion matrix ' + alg.__class__.__name__)"
   ]
  },
  {
   "cell_type": "markdown",
   "metadata": {},
   "source": [
    "# Implementar"
   ]
  },
  {
   "cell_type": "code",
   "execution_count": 14,
   "metadata": {},
   "outputs": [
    {
     "name": "stdout",
     "output_type": "stream",
     "text": [
      "Numero da tentativa?2\n",
      "Numero da tentativa para este telemovel?2\n",
      "Telefone de casa? 1 - sim; 0 - não1\n",
      "Tempo apos ultima tentativa?2\n",
      "dia da semana? 1 - Segunda; 7 - Domingo1\n",
      "dia de trabalho? 1 - sim; 0 - não1\n",
      "Feriado? 1 - sim; 0 - não1\n",
      "Horas?20\n",
      "Probabilidade de atender:  52 %\n"
     ]
    }
   ],
   "source": [
    "import pandas as pd\n",
    "import numpy as np\n",
    "import _pickle as cPickle\n",
    "\n",
    "with open('models/200k_after_tune_ExtraTreesClassifier.pkl', 'rb') as f:\n",
    "        alg = cPickle.load(f)\n",
    "\n",
    "input_columns = ['att_count', 'att_count_per_tl', 'tl_type', 'time_after_last_att',\n",
    "       'weekday', 'business_day', 'holiday', '']\n",
    "\n",
    "rows_list = []\n",
    "dict1 = {}\n",
    "# get input row in dictionary format\n",
    "# key = col_name\n",
    "dict1.update({'att_count': int(input(\"Numero da tentativa?\"))}) \n",
    "dict1.update({'att_count_per_tl': int(input(\"Numero da tentativa para este telemovel?\"))}) \n",
    "dict1.update({'tl_type': int(input(\"Telefone de casa? 1 - sim; 0 - não\"))}) \n",
    "dict1.update({'time_after_last_att': float(input(\"Tempo apos ultima tentativa?\"))}) \n",
    "dict1.update({'weekday': int(input(\"dia da semana? 1 - Segunda; 7 - Domingo\"))}) \n",
    "dict1.update({'business_day': int(input(\"dia de trabalho? 1 - sim; 0 - não\"))}) \n",
    "dict1.update({'holiday': int(input(\"Feriado? 1 - sim; 0 - não\"))}) \n",
    "dict1.update({'time': int(input(\"Horas?\"))*60}) \n",
    "\n",
    "rows_list.append(dict1)\n",
    "dict1 = {}\n",
    "#to scale\n",
    "dict1.update({'att_count': 0}) \n",
    "dict1.update({'att_count_per_tl': 0}) \n",
    "dict1.update({'tl_type': 0}) \n",
    "dict1.update({'time_after_last_att': 0}) \n",
    "dict1.update({'weekday': 0}) \n",
    "dict1.update({'business_day': 0}) \n",
    "dict1.update({'holiday': 0}) \n",
    "dict1.update({'time': 0}) \n",
    "\n",
    "rows_list.append(dict1)\n",
    "dict1 = {}\n",
    "#to scale\n",
    "dict1.update({'att_count': 250}) \n",
    "dict1.update({'att_count_per_tl': 259}) \n",
    "dict1.update({'tl_type': 1}) \n",
    "dict1.update({'time_after_last_att': 52}) \n",
    "dict1.update({'weekday': 7}) \n",
    "dict1.update({'business_day': 1}) \n",
    "dict1.update({'holiday': 1}) \n",
    "dict1.update({'time': 1440}) \n",
    "\n",
    "\n",
    "rows_list.append(dict1)\n",
    "\n",
    "predic = pd.DataFrame(rows_list)  \n",
    "\n",
    "predic['weekday'] = predic['weekday'].astype('uint64')\n",
    "predic['business_day'] = predic['business_day'].astype('uint64')\n",
    "predic['holiday'] = predic['holiday'].astype('uint64')\n",
    "\n",
    "#scale\n",
    "predic = ((predic-predic.min())/(predic.max()-predic.min()))\n",
    "p = alg.predict_proba(predic.head(1))\n",
    "\n",
    "print(\"Probabilidade de atender: \", int(p[::,1][0]*100), \"%\")"
   ]
  },
  {
   "cell_type": "markdown",
   "metadata": {},
   "source": [
    "# Teste com Deep Learning - Tensorflow e Keras "
   ]
  },
  {
   "cell_type": "markdown",
   "metadata": {},
   "source": [
    "# Guardar probabilidades dos casos de teste em ficheiro"
   ]
  },
  {
   "cell_type": "code",
   "execution_count": 11,
   "metadata": {
    "collapsed": true
   },
   "outputs": [],
   "source": [
    "with open('models/modelos_finais/after_tune_'+ 'ExtraTreesClassifier' +'.pkl', 'rb') as f:\n",
    "        alg = cPickle.load(f)"
   ]
  },
  {
   "cell_type": "code",
   "execution_count": 20,
   "metadata": {},
   "outputs": [
    {
     "name": "stderr",
     "output_type": "stream",
     "text": [
      "/home/programs/lib/python3.6/site-packages/IPython/core/interactiveshell.py:2728: DtypeWarning: Columns (7) have mixed types. Specify dtype option on import or set low_memory=False.\n",
      "  interactivity=interactivity, compiler=compiler, result=result)\n"
     ]
    }
   ],
   "source": [
    "att = pd.read_csv(\"DESAFIO_ML_1.txt\", sep=';', encoding = \"ISO-8859-1\") # , index_col = 0\n",
    "orig = att.loc[att['base'] == \"Teste\"]\n",
    "del orig[\"outcome\"]"
   ]
  },
  {
   "cell_type": "code",
   "execution_count": 12,
   "metadata": {
    "collapsed": true
   },
   "outputs": [],
   "source": [
    "att_test[\"outcome\"] = alg.predict(att_test[input_columns])\n",
    "att_test[\"outcome_prob\"] = alg.predict_proba(att_test[input_columns])[::,1]\n",
    "#MLA_predict"
   ]
  },
  {
   "cell_type": "code",
   "execution_count": 34,
   "metadata": {},
   "outputs": [
    {
     "data": {
      "text/plain": [
       "(330849, 12)"
      ]
     },
     "execution_count": 34,
     "metadata": {},
     "output_type": "execute_result"
    }
   ],
   "source": [
    "print(att_test.shape)\n",
    "c = ['att_count', 'att_count_per_tl', 'tl_type', 'time_after_last_att',\n",
    "       'weekday', 'business_day', 'holiday', 'time']\n",
    "guardar = pd.merge(orig, att_test, left_index=True, right_index=True, how='left').drop(c, axis=1).dropna(subset=[\"outcome\"], axis=0)\n",
    "guardar.shape\n",
    "#.drop('id1', axis=1)"
   ]
  },
  {
   "cell_type": "code",
   "execution_count": 35,
   "metadata": {
    "collapsed": true
   },
   "outputs": [],
   "source": [
    "guardar.to_csv('teste_output_model.csv', sep=';')\n",
    "\n",
    "with open('guardar' + '.pkl', 'wb') as f:\n",
    "    cPickle.dump(guardar, f)"
   ]
  },
  {
   "cell_type": "markdown",
   "metadata": {
    "_cell_guid": "a6d34edc-1265-41e8-b163-0b817cd3b6a5",
    "_uuid": "c476df95925d67809975caca4ea4dcb4b2a0b277"
   },
   "source": [
    "<a id=\"ch12\"></a>\n",
    "# Optimize and Strategize\n",
    "## Conclusion\n",
    "Iteration one of the Data Science Framework, seems to converge on 0.77990 submission accuracy. Using the same dataset and different implementation of a decision tree (adaboost, random forest, gradient boost, xgboost, etc.) with tuning does not exceed the 0.77990 submission accuracy. Interesting for this dataset, the simple decision tree algorithm had the best default submission score and with tuning achieved the same best accuracy score.\n",
    "\n",
    "While no general conclusions can be made from testing a handful of algorithms on a single dataset, there are several observations on the mentioned dataset. \n",
    "1. The train dataset has a different distribution than the test/validation dataset and population. This created wide margins between the cross validation (CV) accuracy score and Kaggle submission accuracy score.\n",
    "2. Given the same dataset, decision tree based algorithms, seemed to converge on the same accuracy score after proper tuning.\n",
    "3. Despite tuning, no machine learning algorithm, exceeded the homemade algorithm. The author will theorize, that for small datasets, a manmade algorithm is the bar to beat. \n",
    "\n",
    "With that in mind, for iteration two, I would spend more time on preprocessing and feature engineering. In order to better align the CV score and Kaggle score and improve the overall accuracy.\n",
    "\n"
   ]
  },
  {
   "cell_type": "code",
   "execution_count": null,
   "metadata": {
    "collapsed": true
   },
   "outputs": [],
   "source": []
  }
 ],
 "metadata": {
  "kernelspec": {
   "display_name": "Python 3",
   "language": "python",
   "name": "python3"
  },
  "language_info": {
   "codemirror_mode": {
    "name": "ipython",
    "version": 3
   },
   "file_extension": ".py",
   "mimetype": "text/x-python",
   "name": "python",
   "nbconvert_exporter": "python",
   "pygments_lexer": "ipython3",
   "version": "3.6.4"
  },
  "toc": {
   "base_numbering": 1,
   "nav_menu": {},
   "number_sections": true,
   "sideBar": true,
   "skip_h1_title": false,
   "title_cell": "Table of Contents",
   "title_sidebar": "Contents",
   "toc_cell": false,
   "toc_position": {
    "height": "460px",
    "left": "33px",
    "top": "139px",
    "width": "182px"
   },
   "toc_section_display": true,
   "toc_window_display": true
  },
  "varInspector": {
   "cols": {
    "lenName": 16,
    "lenType": 16,
    "lenVar": 40
   },
   "kernels_config": {
    "python": {
     "delete_cmd_postfix": "",
     "delete_cmd_prefix": "del ",
     "library": "var_list.py",
     "varRefreshCmd": "print(var_dic_list())"
    },
    "r": {
     "delete_cmd_postfix": ") ",
     "delete_cmd_prefix": "rm(",
     "library": "var_list.r",
     "varRefreshCmd": "cat(var_dic_list()) "
    }
   },
   "types_to_exclude": [
    "module",
    "function",
    "builtin_function_or_method",
    "instance",
    "_Feature"
   ],
   "window_display": false
  }
 },
 "nbformat": 4,
 "nbformat_minor": 1
}
