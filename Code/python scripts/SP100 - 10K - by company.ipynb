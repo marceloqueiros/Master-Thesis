{
 "cells": [
  {
   "cell_type": "code",
   "execution_count": 1,
   "metadata": {
    "collapsed": true
   },
   "outputs": [],
   "source": [
    "import os\n",
    "import pandas as pd\n",
    "from os import listdir\n",
    "from os.path import isfile, join\n",
    "from shutil import copyfile\n",
    "path = \"C:\\\\Users\\\\Marcelo Queirós\\\\Documents\\\\MIEI\\\\Ano 2\\\\Tese\\\\dataset\\\\\" # nao é preciso pq o código já está neste caminho\n",
    "direc = 'informações_empresas\\\\'\n",
    "file_name ='20181019-sp-100.csv'\n",
    "dataset = pd.read_csv(path + direc + file_name, sep = ';', header=0, engine = \"python\")"
   ]
  },
  {
   "cell_type": "code",
   "execution_count": 2,
   "metadata": {
    "scrolled": false
   },
   "outputs": [
    {
     "ename": "KeyboardInterrupt",
     "evalue": "",
     "output_type": "error",
     "traceback": [
      "\u001b[1;31m---------------------------------------------------------------------------\u001b[0m",
      "\u001b[1;31mKeyboardInterrupt\u001b[0m                         Traceback (most recent call last)",
      "\u001b[1;32m<ipython-input-2-56253ab6e4dc>\u001b[0m in \u001b[0;36m<module>\u001b[1;34m()\u001b[0m\n\u001b[0;32m     26\u001b[0m             \u001b[0mcik_file\u001b[0m \u001b[1;33m=\u001b[0m \u001b[0mint\u001b[0m\u001b[1;33m(\u001b[0m\u001b[0mname_file\u001b[0m\u001b[1;33m.\u001b[0m\u001b[0msplit\u001b[0m\u001b[1;33m(\u001b[0m\u001b[1;34m'_'\u001b[0m\u001b[1;33m)\u001b[0m\u001b[1;33m[\u001b[0m\u001b[1;36m4\u001b[0m\u001b[1;33m]\u001b[0m\u001b[1;33m)\u001b[0m\u001b[1;33m\u001b[0m\u001b[0m\n\u001b[0;32m     27\u001b[0m             \u001b[1;32mfor\u001b[0m \u001b[0mi\u001b[0m \u001b[1;32min\u001b[0m \u001b[0mrange\u001b[0m\u001b[1;33m(\u001b[0m\u001b[0mlen\u001b[0m\u001b[1;33m(\u001b[0m\u001b[0mdataset\u001b[0m\u001b[1;33m[\u001b[0m\u001b[1;34m'CIK'\u001b[0m\u001b[1;33m]\u001b[0m\u001b[1;33m)\u001b[0m\u001b[1;33m)\u001b[0m\u001b[1;33m:\u001b[0m\u001b[1;33m\u001b[0m\u001b[0m\n\u001b[1;32m---> 28\u001b[1;33m                 \u001b[1;32mif\u001b[0m \u001b[0mcik_file\u001b[0m \u001b[1;33m==\u001b[0m \u001b[0mdataset\u001b[0m\u001b[1;33m[\u001b[0m\u001b[1;34m'CIK'\u001b[0m\u001b[1;33m]\u001b[0m\u001b[1;33m[\u001b[0m\u001b[0mi\u001b[0m\u001b[1;33m]\u001b[0m\u001b[1;33m:\u001b[0m\u001b[1;33m\u001b[0m\u001b[0m\n\u001b[0m\u001b[0;32m     29\u001b[0m                     \u001b[0mten\u001b[0m \u001b[1;33m=\u001b[0m \u001b[0mname_file\u001b[0m\u001b[1;33m.\u001b[0m\u001b[0msplit\u001b[0m\u001b[1;33m(\u001b[0m\u001b[1;34m'_'\u001b[0m\u001b[1;33m)\u001b[0m\u001b[1;33m[\u001b[0m\u001b[1;36m1\u001b[0m\u001b[1;33m]\u001b[0m\u001b[1;33m\u001b[0m\u001b[0m\n\u001b[0;32m     30\u001b[0m                     \u001b[1;32mif\u001b[0m \u001b[0mten\u001b[0m \u001b[1;33m==\u001b[0m \u001b[1;34m\"10-K\"\u001b[0m\u001b[1;33m:\u001b[0m\u001b[1;33m\u001b[0m\u001b[0m\n",
      "\u001b[1;32mC:\\Programas\\Anaconda3\\lib\\site-packages\\pandas\\core\\series.py\u001b[0m in \u001b[0;36m__getitem__\u001b[1;34m(self, key)\u001b[0m\n\u001b[0;32m    599\u001b[0m         \u001b[0mkey\u001b[0m \u001b[1;33m=\u001b[0m \u001b[0mcom\u001b[0m\u001b[1;33m.\u001b[0m\u001b[0m_apply_if_callable\u001b[0m\u001b[1;33m(\u001b[0m\u001b[0mkey\u001b[0m\u001b[1;33m,\u001b[0m \u001b[0mself\u001b[0m\u001b[1;33m)\u001b[0m\u001b[1;33m\u001b[0m\u001b[0m\n\u001b[0;32m    600\u001b[0m         \u001b[1;32mtry\u001b[0m\u001b[1;33m:\u001b[0m\u001b[1;33m\u001b[0m\u001b[0m\n\u001b[1;32m--> 601\u001b[1;33m             \u001b[0mresult\u001b[0m \u001b[1;33m=\u001b[0m \u001b[0mself\u001b[0m\u001b[1;33m.\u001b[0m\u001b[0mindex\u001b[0m\u001b[1;33m.\u001b[0m\u001b[0mget_value\u001b[0m\u001b[1;33m(\u001b[0m\u001b[0mself\u001b[0m\u001b[1;33m,\u001b[0m \u001b[0mkey\u001b[0m\u001b[1;33m)\u001b[0m\u001b[1;33m\u001b[0m\u001b[0m\n\u001b[0m\u001b[0;32m    602\u001b[0m \u001b[1;33m\u001b[0m\u001b[0m\n\u001b[0;32m    603\u001b[0m             \u001b[1;32mif\u001b[0m \u001b[1;32mnot\u001b[0m \u001b[0mis_scalar\u001b[0m\u001b[1;33m(\u001b[0m\u001b[0mresult\u001b[0m\u001b[1;33m)\u001b[0m\u001b[1;33m:\u001b[0m\u001b[1;33m\u001b[0m\u001b[0m\n",
      "\u001b[1;32mC:\\Programas\\Anaconda3\\lib\\site-packages\\pandas\\core\\indexes\\base.py\u001b[0m in \u001b[0;36mget_value\u001b[1;34m(self, series, key)\u001b[0m\n\u001b[0;32m   2472\u001b[0m         \u001b[0mk\u001b[0m \u001b[1;33m=\u001b[0m \u001b[0m_values_from_object\u001b[0m\u001b[1;33m(\u001b[0m\u001b[0mkey\u001b[0m\u001b[1;33m)\u001b[0m\u001b[1;33m\u001b[0m\u001b[0m\n\u001b[0;32m   2473\u001b[0m \u001b[1;33m\u001b[0m\u001b[0m\n\u001b[1;32m-> 2474\u001b[1;33m         \u001b[0mk\u001b[0m \u001b[1;33m=\u001b[0m \u001b[0mself\u001b[0m\u001b[1;33m.\u001b[0m\u001b[0m_convert_scalar_indexer\u001b[0m\u001b[1;33m(\u001b[0m\u001b[0mk\u001b[0m\u001b[1;33m,\u001b[0m \u001b[0mkind\u001b[0m\u001b[1;33m=\u001b[0m\u001b[1;34m'getitem'\u001b[0m\u001b[1;33m)\u001b[0m\u001b[1;33m\u001b[0m\u001b[0m\n\u001b[0m\u001b[0;32m   2475\u001b[0m         \u001b[1;32mtry\u001b[0m\u001b[1;33m:\u001b[0m\u001b[1;33m\u001b[0m\u001b[0m\n\u001b[0;32m   2476\u001b[0m             return self._engine.get_value(s, k,\n",
      "\u001b[1;32mC:\\Programas\\Anaconda3\\lib\\site-packages\\pandas\\core\\indexes\\numeric.py\u001b[0m in \u001b[0;36m_convert_scalar_indexer\u001b[1;34m(self, key, kind)\u001b[0m\n\u001b[0;32m    140\u001b[0m             \u001b[0mkey\u001b[0m \u001b[1;33m=\u001b[0m \u001b[0mself\u001b[0m\u001b[1;33m.\u001b[0m\u001b[0m_maybe_cast_indexer\u001b[0m\u001b[1;33m(\u001b[0m\u001b[0mkey\u001b[0m\u001b[1;33m)\u001b[0m\u001b[1;33m\u001b[0m\u001b[0m\n\u001b[0;32m    141\u001b[0m         return (super(Int64Index, self)\n\u001b[1;32m--> 142\u001b[1;33m                 ._convert_scalar_indexer(key, kind=kind))\n\u001b[0m\u001b[0;32m    143\u001b[0m \u001b[1;33m\u001b[0m\u001b[0m\n\u001b[0;32m    144\u001b[0m     \u001b[1;32mdef\u001b[0m \u001b[0m_wrap_joined_index\u001b[0m\u001b[1;33m(\u001b[0m\u001b[0mself\u001b[0m\u001b[1;33m,\u001b[0m \u001b[0mjoined\u001b[0m\u001b[1;33m,\u001b[0m \u001b[0mother\u001b[0m\u001b[1;33m)\u001b[0m\u001b[1;33m:\u001b[0m\u001b[1;33m\u001b[0m\u001b[0m\n",
      "\u001b[1;32mC:\\Programas\\Anaconda3\\lib\\site-packages\\pandas\\core\\indexes\\base.py\u001b[0m in \u001b[0;36m_convert_scalar_indexer\u001b[1;34m(self, key, kind)\u001b[0m\n\u001b[0;32m   1308\u001b[0m             \u001b[1;32mreturn\u001b[0m \u001b[0mself\u001b[0m\u001b[1;33m.\u001b[0m\u001b[0m_validate_indexer\u001b[0m\u001b[1;33m(\u001b[0m\u001b[1;34m'positional'\u001b[0m\u001b[1;33m,\u001b[0m \u001b[0mkey\u001b[0m\u001b[1;33m,\u001b[0m \u001b[0mkind\u001b[0m\u001b[1;33m)\u001b[0m\u001b[1;33m\u001b[0m\u001b[0m\n\u001b[0;32m   1309\u001b[0m \u001b[1;33m\u001b[0m\u001b[0m\n\u001b[1;32m-> 1310\u001b[1;33m         \u001b[1;32mif\u001b[0m \u001b[0mlen\u001b[0m\u001b[1;33m(\u001b[0m\u001b[0mself\u001b[0m\u001b[1;33m)\u001b[0m \u001b[1;32mand\u001b[0m \u001b[1;32mnot\u001b[0m \u001b[0misinstance\u001b[0m\u001b[1;33m(\u001b[0m\u001b[0mself\u001b[0m\u001b[1;33m,\u001b[0m \u001b[0mABCMultiIndex\u001b[0m\u001b[1;33m,\u001b[0m\u001b[1;33m)\u001b[0m\u001b[1;33m:\u001b[0m\u001b[1;33m\u001b[0m\u001b[0m\n\u001b[0m\u001b[0;32m   1311\u001b[0m \u001b[1;33m\u001b[0m\u001b[0m\n\u001b[0;32m   1312\u001b[0m             \u001b[1;31m# we can raise here if we are definitive that this\u001b[0m\u001b[1;33m\u001b[0m\u001b[1;33m\u001b[0m\u001b[0m\n",
      "\u001b[1;32mC:\\Programas\\Anaconda3\\lib\\site-packages\\pandas\\core\\indexes\\range.py\u001b[0m in \u001b[0;36m__len__\u001b[1;34m(self)\u001b[0m\n\u001b[0;32m    444\u001b[0m                                             sort)\n\u001b[0;32m    445\u001b[0m \u001b[1;33m\u001b[0m\u001b[0m\n\u001b[1;32m--> 446\u001b[1;33m     \u001b[1;32mdef\u001b[0m \u001b[0m__len__\u001b[0m\u001b[1;33m(\u001b[0m\u001b[0mself\u001b[0m\u001b[1;33m)\u001b[0m\u001b[1;33m:\u001b[0m\u001b[1;33m\u001b[0m\u001b[0m\n\u001b[0m\u001b[0;32m    447\u001b[0m         \"\"\"\n\u001b[0;32m    448\u001b[0m         \u001b[1;32mreturn\u001b[0m \u001b[0mthe\u001b[0m \u001b[0mlength\u001b[0m \u001b[0mof\u001b[0m \u001b[0mthe\u001b[0m \u001b[0mRangeIndex\u001b[0m\u001b[1;33m\u001b[0m\u001b[0m\n",
      "\u001b[1;31mKeyboardInterrupt\u001b[0m: "
     ]
    }
   ],
   "source": [
    "df = pd.DataFrame(dataset['CIK'])\n",
    "line = pd.DataFrame({\"CIK\": -1}, index=[-1])\n",
    "df = df.append(line, ignore_index=False)\n",
    "df = df.sort_index().reset_index(drop=True)\n",
    "\n",
    "ini = 2008\n",
    "end = 2018\n",
    "\n",
    "for ano in range(ini, end):\n",
    "    df[str(ano)] = 0\n",
    "    \n",
    "p_empresa = path + \"SP100_10K_\"+ str(ini) + \"-\" + str(end) + \"_company\\\\\"\n",
    "folder_company = 'NAME'\n",
    "\n",
    "for i in range(len(dataset['TICKER SYMBOL'])):\n",
    "    if not os.path.exists(p_empresa + dataset[folder_company][i]):\n",
    "        os.makedirs(p_empresa + dataset[folder_company][i])\n",
    "        \n",
    "\n",
    "for ano in range(ini, end):\n",
    "    for qtr in range(1, 5):\n",
    "        mypath = path + \"10-X_C_2006-2018\\\\\" + str(ano) + \"\\\\QTR\" + str(qtr) + \"\\\\\" #nao é caminho completo\n",
    "        onlyfiles = [f for f in listdir(mypath) if isfile(join(mypath, f))]\n",
    "        for name_file in onlyfiles:\n",
    "            # 20060117_10QSB_edgar_data_1039757_0001169232-06-000143_1.txt\n",
    "            cik_file = int(name_file.split('_')[4])\n",
    "            for i in range(len(dataset['CIK'])): \n",
    "                if cik_file == dataset['CIK'][i]:\n",
    "                    ten = name_file.split('_')[1]\n",
    "                    if ten == \"10-K\":\n",
    "                        #if not os.path.exists(p_empresa + dataset[folder_company][i] + \"\\\\\"):\n",
    "                            #os.makedirs(p_empresa + dataset[folder_company][i] + \"\\\\\")\n",
    "                        copyfile(mypath + name_file, p_empresa + dataset[folder_company][i] + \"\\\\\" + name_file)\n",
    "                        df[str(ano)][0]+=1\n",
    "                        df[str(ano)][i+1]+=1\n",
    "                        \n",
    "df.to_csv('emp.csv', sep = \";\")"
   ]
  },
  {
   "cell_type": "code",
   "execution_count": 4,
   "metadata": {},
   "outputs": [],
   "source": [
    "#end"
   ]
  },
  {
   "cell_type": "code",
   "execution_count": 5,
   "metadata": {},
   "outputs": [
    {
     "name": "stderr",
     "output_type": "stream",
     "text": [
      "C:\\Programas\\Anaconda3\\lib\\site-packages\\ipykernel_launcher.py:34: SettingWithCopyWarning: \n",
      "A value is trying to be set on a copy of a slice from a DataFrame\n",
      "\n",
      "See the caveats in the documentation: http://pandas.pydata.org/pandas-docs/stable/indexing.html#indexing-view-versus-copy\n",
      "C:\\Programas\\Anaconda3\\lib\\site-packages\\ipykernel_launcher.py:35: SettingWithCopyWarning: \n",
      "A value is trying to be set on a copy of a slice from a DataFrame\n",
      "\n",
      "See the caveats in the documentation: http://pandas.pydata.org/pandas-docs/stable/indexing.html#indexing-view-versus-copy\n"
     ]
    },
    {
     "ename": "PermissionError",
     "evalue": "[Errno 13] Permission denied: 'emp.csv'",
     "output_type": "error",
     "traceback": [
      "\u001b[1;31m---------------------------------------------------------------------------\u001b[0m",
      "\u001b[1;31mPermissionError\u001b[0m                           Traceback (most recent call last)",
      "\u001b[1;32m<ipython-input-5-2442e0602c3c>\u001b[0m in \u001b[0;36m<module>\u001b[1;34m()\u001b[0m\n\u001b[0;32m     35\u001b[0m                         \u001b[0mdf\u001b[0m\u001b[1;33m[\u001b[0m\u001b[0mstr\u001b[0m\u001b[1;33m(\u001b[0m\u001b[0mano\u001b[0m\u001b[1;33m)\u001b[0m\u001b[1;33m]\u001b[0m\u001b[1;33m[\u001b[0m\u001b[0mi\u001b[0m\u001b[1;33m+\u001b[0m\u001b[1;36m1\u001b[0m\u001b[1;33m]\u001b[0m\u001b[1;33m+=\u001b[0m\u001b[1;36m1\u001b[0m\u001b[1;33m\u001b[0m\u001b[0m\n\u001b[0;32m     36\u001b[0m \u001b[1;33m\u001b[0m\u001b[0m\n\u001b[1;32m---> 37\u001b[1;33m \u001b[0mdf\u001b[0m\u001b[1;33m.\u001b[0m\u001b[0mto_csv\u001b[0m\u001b[1;33m(\u001b[0m\u001b[1;34m'emp.csv'\u001b[0m\u001b[1;33m,\u001b[0m \u001b[0msep\u001b[0m \u001b[1;33m=\u001b[0m \u001b[1;34m\";\"\u001b[0m\u001b[1;33m)\u001b[0m\u001b[1;33m\u001b[0m\u001b[0m\n\u001b[0m",
      "\u001b[1;32mC:\\Programas\\Anaconda3\\lib\\site-packages\\pandas\\core\\frame.py\u001b[0m in \u001b[0;36mto_csv\u001b[1;34m(self, path_or_buf, sep, na_rep, float_format, columns, header, index, index_label, mode, encoding, compression, quoting, quotechar, line_terminator, chunksize, tupleize_cols, date_format, doublequote, escapechar, decimal)\u001b[0m\n\u001b[0;32m   1401\u001b[0m                                      \u001b[0mdoublequote\u001b[0m\u001b[1;33m=\u001b[0m\u001b[0mdoublequote\u001b[0m\u001b[1;33m,\u001b[0m\u001b[1;33m\u001b[0m\u001b[0m\n\u001b[0;32m   1402\u001b[0m                                      escapechar=escapechar, decimal=decimal)\n\u001b[1;32m-> 1403\u001b[1;33m         \u001b[0mformatter\u001b[0m\u001b[1;33m.\u001b[0m\u001b[0msave\u001b[0m\u001b[1;33m(\u001b[0m\u001b[1;33m)\u001b[0m\u001b[1;33m\u001b[0m\u001b[0m\n\u001b[0m\u001b[0;32m   1404\u001b[0m \u001b[1;33m\u001b[0m\u001b[0m\n\u001b[0;32m   1405\u001b[0m         \u001b[1;32mif\u001b[0m \u001b[0mpath_or_buf\u001b[0m \u001b[1;32mis\u001b[0m \u001b[1;32mNone\u001b[0m\u001b[1;33m:\u001b[0m\u001b[1;33m\u001b[0m\u001b[0m\n",
      "\u001b[1;32mC:\\Programas\\Anaconda3\\lib\\site-packages\\pandas\\io\\formats\\format.py\u001b[0m in \u001b[0;36msave\u001b[1;34m(self)\u001b[0m\n\u001b[0;32m   1575\u001b[0m             f, handles = _get_handle(self.path_or_buf, self.mode,\n\u001b[0;32m   1576\u001b[0m                                      \u001b[0mencoding\u001b[0m\u001b[1;33m=\u001b[0m\u001b[0mself\u001b[0m\u001b[1;33m.\u001b[0m\u001b[0mencoding\u001b[0m\u001b[1;33m,\u001b[0m\u001b[1;33m\u001b[0m\u001b[0m\n\u001b[1;32m-> 1577\u001b[1;33m                                      compression=self.compression)\n\u001b[0m\u001b[0;32m   1578\u001b[0m             \u001b[0mclose\u001b[0m \u001b[1;33m=\u001b[0m \u001b[1;32mTrue\u001b[0m\u001b[1;33m\u001b[0m\u001b[0m\n\u001b[0;32m   1579\u001b[0m \u001b[1;33m\u001b[0m\u001b[0m\n",
      "\u001b[1;32mC:\\Programas\\Anaconda3\\lib\\site-packages\\pandas\\io\\common.py\u001b[0m in \u001b[0;36m_get_handle\u001b[1;34m(path_or_buf, mode, encoding, compression, memory_map, is_text)\u001b[0m\n\u001b[0;32m    383\u001b[0m         \u001b[1;32melif\u001b[0m \u001b[0mis_text\u001b[0m\u001b[1;33m:\u001b[0m\u001b[1;33m\u001b[0m\u001b[0m\n\u001b[0;32m    384\u001b[0m             \u001b[1;31m# Python 3 and no explicit encoding\u001b[0m\u001b[1;33m\u001b[0m\u001b[1;33m\u001b[0m\u001b[0m\n\u001b[1;32m--> 385\u001b[1;33m             \u001b[0mf\u001b[0m \u001b[1;33m=\u001b[0m \u001b[0mopen\u001b[0m\u001b[1;33m(\u001b[0m\u001b[0mpath_or_buf\u001b[0m\u001b[1;33m,\u001b[0m \u001b[0mmode\u001b[0m\u001b[1;33m,\u001b[0m \u001b[0merrors\u001b[0m\u001b[1;33m=\u001b[0m\u001b[1;34m'replace'\u001b[0m\u001b[1;33m)\u001b[0m\u001b[1;33m\u001b[0m\u001b[0m\n\u001b[0m\u001b[0;32m    386\u001b[0m         \u001b[1;32melse\u001b[0m\u001b[1;33m:\u001b[0m\u001b[1;33m\u001b[0m\u001b[0m\n\u001b[0;32m    387\u001b[0m             \u001b[1;31m# Python 3 and binary mode\u001b[0m\u001b[1;33m\u001b[0m\u001b[1;33m\u001b[0m\u001b[0m\n",
      "\u001b[1;31mPermissionError\u001b[0m: [Errno 13] Permission denied: 'emp.csv'"
     ]
    }
   ],
   "source": [
    "df = pd.DataFrame(dataset['NAME'])\n",
    "line = pd.DataFrame({\"NAME\": -1}, index=[-1])\n",
    "df = df.append(line, ignore_index=False)\n",
    "df = df.sort_index().reset_index(drop=True)\n",
    "\n",
    "ini = 2008\n",
    "end = 2018\n",
    "\n",
    "for ano in range(ini, end):\n",
    "    df[str(ano)] = 0\n",
    "    \n",
    "p_empresa = path + \"SP100_10K_\"+ str(ini) + \"-\" + str(end) + \"_company\\\\\"\n",
    "folder_company = 'NAME'\n",
    "\n",
    "for i in range(len(dataset['TICKER SYMBOL'])):\n",
    "    if not os.path.exists(p_empresa + dataset[folder_company][i]):\n",
    "        os.makedirs(p_empresa + dataset[folder_company][i])\n",
    "        \n",
    "\n",
    "for ano in range(ini, end):\n",
    "    for qtr in range(1, 5):\n",
    "        mypath = path + \"10-X_C_2006-2018\\\\\" + str(ano) + \"\\\\QTR\" + str(qtr) + \"\\\\\" #nao é caminho completo\n",
    "        onlyfiles = [f for f in listdir(mypath) if isfile(join(mypath, f))]\n",
    "        for name_file in onlyfiles:\n",
    "            # 20060117_10QSB_edgar_data_1039757_0001169232-06-000143_1.txt\n",
    "            cik_file = int(name_file.split('_')[4])\n",
    "            for i in range(len(dataset['CIK'])): \n",
    "                if cik_file == dataset['CIK'][i]:\n",
    "                    ten = name_file.split('_')[1]\n",
    "                    if ten == \"10-K\":\n",
    "                        #if not os.path.exists(p_empresa + dataset[folder_company][i] + \"\\\\\"):\n",
    "                            #os.makedirs(p_empresa + dataset[folder_company][i] + \"\\\\\")\n",
    "                        #copyfile(mypath + name_file, p_empresa + dataset[folder_company][i] + \"\\\\\" + name_file)\n",
    "                        df[str(ano)][0]+=1\n",
    "                        df[str(ano)][i+1]+=1\n",
    "                        \n",
    "df.to_csv('emp.csv', sep = \";\")"
   ]
  },
  {
   "cell_type": "code",
   "execution_count": 6,
   "metadata": {
    "collapsed": true
   },
   "outputs": [],
   "source": [
    "df.to_csv('emp2.csv', sep = \";\")"
   ]
  },
  {
   "cell_type": "code",
   "execution_count": null,
   "metadata": {
    "collapsed": true
   },
   "outputs": [],
   "source": [
    "\n",
    "'''\n",
    "                    else:\n",
    "                        if ten[0] == '1' and ten[1] == '0' and ten[2] == '-' and ten[3] == 'K':\n",
    "                            if not os.path.exists(\"SP100_10K_2009-18_company\\\\\" + dataset[folder_company][i] + \"\\\\other\"):\n",
    "                                os.makedirs(\"SP100_10K_2009-18_company\\\\\" + dataset[folder_company][i] + \"\\\\other\")\n",
    "                            copyfile(mypath + name_file, path + \"\\\\SP100_10K_2009-18_company\\\\\" + dataset[folder_company][i] + \"\\\\other\\\\\" + name_file)\n",
    "\n",
    "                        if ten[0] == '1' and ten[1] == '0' and ten[2] == 'K':\n",
    "                            if not os.path.exists(\"SP100_10K_2009-18_company\\\\\" + dataset[folder_company][i] + \"\\\\other\"):\n",
    "                                os.makedirs(\"SP100_10K_2009-18_company\\\\\" + dataset[folder_company][i] + \"\\\\other\")\n",
    "                            copyfile(mypath + name_file, path + \"\\\\SP100_10K_2009-18_company\\\\\" + dataset[folder_company][i] + \"\\\\other\\\\\" + name_file) \n",
    "''' "
   ]
  },
  {
   "cell_type": "code",
   "execution_count": 102,
   "metadata": {
    "collapsed": true
   },
   "outputs": [],
   "source": [
    "contadorSB=0\n",
    "\n",
    "df = pd.DataFrame(dataset['CIK'])\n",
    "line = pd.DataFrame({\"CIK\": -1}, index=[-1])\n",
    "df = df.append(line, ignore_index=False)\n",
    "df = df.sort_index().reset_index(drop=True)\n",
    "\n",
    "\n",
    "for ano in range(2009, 2019):\n",
    "    df[str(ano)] = 0\n",
    "\n",
    "\n",
    "for ano in range(2009, 2019):\n",
    "    for qtr in range(1, 5):\n",
    "        mypath = \"10-X_C_2006-2018\\\\\" + str(ano) + \"\\\\QTR\" + str(qtr) + \"\\\\\" #nao é caminho completo\n",
    "        onlyfiles = [f for f in listdir(mypath) if isfile(join(mypath, f))]\n",
    "        for name_file in onlyfiles:\n",
    "            # 20060117_10QSB_edgar_data_1039757_0001169232-06-000143_1.txt\n",
    "            ten = name_file.split('_')[1]\n",
    "            if ten[0] == '1' and ten[1] == '0' and ten[2] == '-' and ten[3] == 'K':\n",
    "                cik_file = int(name_file.split('_')[4])\n",
    "                for i in range(len(dataset['CIK'])):\n",
    "                    if cik_file == dataset['CIK'][i]:\n",
    "                        df[str(ano)][0]+=1\n",
    "                        df[str(ano)][i+1]+=1\n",
    "                        \n",
    "                        \n",
    "            if ten[0] == '1' and ten[1] == '0' and ten[2] == 'K':\n",
    "                cik_file = int(name_file.split('_')[4])\n",
    "                for i in range(len(dataset['CIK'])):\n",
    "                    if cik_file == dataset['CIK'][i]:\n",
    "                        contadorSB+=1\n",
    "                        df[str(ano)][0]+=1\n",
    "                        df[str(ano)][i+1]+=1"
   ]
  },
  {
   "cell_type": "code",
   "execution_count": 101,
   "metadata": {},
   "outputs": [
    {
     "data": {
      "text/plain": [
       "0"
      ]
     },
     "execution_count": 101,
     "metadata": {},
     "output_type": "execute_result"
    }
   ],
   "source": [
    "contadorSB"
   ]
  },
  {
   "cell_type": "code",
   "execution_count": 108,
   "metadata": {
    "collapsed": true
   },
   "outputs": [],
   "source": [
    "df.to_csv('out.csv', sep = \";\")"
   ]
  },
  {
   "cell_type": "code",
   "execution_count": 20,
   "metadata": {},
   "outputs": [
    {
     "data": {
      "text/plain": [
       "1528930"
      ]
     },
     "execution_count": 20,
     "metadata": {},
     "output_type": "execute_result"
    }
   ],
   "source": [
    "import pandas as pd\n",
    "from shutil import copyfile\n",
    "copyfile(src, dst)\n",
    "path = \"C:\\\\Users\\\\Marcelo Queirós\\\\Documents\\MIEI\\\\Ano 2\\\\Tese\\\\dataset\\\\\"\n",
    "file_name = path + '20181019-sp-100.csv'\n",
    "\n",
    "dataset = pd.read_csv(file_name, sep = ',', header=0)\n",
    "dataset\n",
    "'''\n",
    "    df = pd.DataFrame(dataset)\n",
    "    df = df.drop(df.index[0])\n",
    "\n",
    "\n",
    "\n",
    "    df['data'], df['horas'] = df.iloc[:,0].str.split(' ').str\n",
    "\n",
    "\n",
    "    df['day'], df['month'], df['year'] = df.iloc[:,11].str.split('/').str\n",
    "\n",
    "    df['hour'], df['minute'] = df.iloc[:,12].str.split(':').str\n",
    "    #df['day'], df['month'], df['year'] = data\n",
    "\n",
    "    df.drop(df.columns[[0]], axis=1, inplace=True) #eliminar data original\n",
    "    df.drop(df.columns[[10]], axis=1, inplace=True) #eliminar data original\n",
    "    df.drop(df.columns[[10]], axis=1, inplace=True) #eliminar data original\n",
    "    df = df[['day', 'month', 'year', 'hour', 'minute', 'Tca', 'Tsupe', '   Tip', '   Te', 'SR', 'Tsupi', 'aberturas ventilação', 'persiana', 'HF', '     Ti']]\n",
    "    df.iloc[:,5] = pd.to_numeric(df.iloc[:,5].str.replace(',', '.'))\n",
    "    df.iloc[:,6] = pd.to_numeric(df.iloc[:,6].str.replace(',', '.'))\n",
    "    df.iloc[:,7] = pd.to_numeric(df.iloc[:,7].str.replace(',', '.'))\n",
    "    df.iloc[:,8] = pd.to_numeric(df.iloc[:,8].str.replace(',', '.'))\n",
    "    df.iloc[:,9] = pd.to_numeric(df.iloc[:,9].str.replace(',', '.'))\n",
    "    df.iloc[:,10] = pd.to_numeric(df.iloc[:,10].str.replace(',', '.'))\n",
    "    df.iloc[:,11] = pd.to_numeric(df.iloc[:,11].str.replace(',', '.'))\n",
    "    df.iloc[:,12] = pd.to_numeric(df.iloc[:,12].replace(',', '.'))\n",
    "    df.iloc[:,13] = pd.to_numeric(df.iloc[:,13].str.replace(',', '.'))\n",
    "    df.iloc[:,14] = pd.to_numeric(df.iloc[:,14].str.replace(',', '.'))\n",
    "    df\n",
    "\n",
    "        #df = df[:-1] #eliminar a ultima linha porque é uma frase informativa\n",
    "\n",
    "        #vamos passar ano e mes para para strings para não ser interpretado como valores\n",
    "\n",
    "        #look_up = {'1': 'First', '2': 'Second', '3': 'Third'}\n",
    "        #df['year'] = df['year'].apply(lambda x: look_up[x])\n",
    "\n",
    "        #look_up = {'01': 'Jan', '02': 'Feb', '03': 'Mar', '04': 'Apr', '05': 'May',\n",
    "                   # '06': 'Jun', '07': 'Jul', '08': 'Aug', '09': 'Sep', '10': 'Oct', '11': 'Nov', '12': 'Dec'}\n",
    "\n",
    "        #df['month'] = df['month'].apply(lambda x: look_up[x])\n",
    "\n",
    "        #df = df[['year', 'month', 'pub', 'sales']]\n",
    "    return df\n",
    "'''\n"
   ]
  }
 ],
 "metadata": {
  "kernelspec": {
   "display_name": "Python 3",
   "language": "python",
   "name": "python3"
  },
  "language_info": {
   "codemirror_mode": {
    "name": "ipython",
    "version": 3
   },
   "file_extension": ".py",
   "mimetype": "text/x-python",
   "name": "python",
   "nbconvert_exporter": "python",
   "pygments_lexer": "ipython3",
   "version": "3.6.2"
  }
 },
 "nbformat": 4,
 "nbformat_minor": 2
}
