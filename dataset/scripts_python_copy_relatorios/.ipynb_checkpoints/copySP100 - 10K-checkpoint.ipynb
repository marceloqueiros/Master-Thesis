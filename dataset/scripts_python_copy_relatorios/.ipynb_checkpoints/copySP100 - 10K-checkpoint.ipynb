{
 "cells": [
  {
   "cell_type": "code",
   "execution_count": 1,
   "metadata": {},
   "outputs": [
    {
     "ename": "FileNotFoundError",
     "evalue": "File b'20181019-sp-100.csv' does not exist",
     "output_type": "error",
     "traceback": [
      "\u001b[1;31m---------------------------------------------------------------------------\u001b[0m",
      "\u001b[1;31mFileNotFoundError\u001b[0m                         Traceback (most recent call last)",
      "\u001b[1;32m<ipython-input-1-d51bcf592f98>\u001b[0m in \u001b[0;36m<module>\u001b[1;34m()\u001b[0m\n\u001b[0;32m      5\u001b[0m \u001b[0mpath\u001b[0m \u001b[1;33m=\u001b[0m \u001b[1;34m\"C:\\\\Users\\\\Marcelo Queirós\\\\Documents\\\\MIEI\\\\Ano 2\\\\Tese\\dataset\"\u001b[0m\u001b[1;33m\u001b[0m\u001b[0m\n\u001b[0;32m      6\u001b[0m \u001b[0mfile_name\u001b[0m \u001b[1;33m=\u001b[0m\u001b[1;34m'20181019-sp-100.csv'\u001b[0m\u001b[1;33m\u001b[0m\u001b[0m\n\u001b[1;32m----> 7\u001b[1;33m \u001b[0mdataset\u001b[0m \u001b[1;33m=\u001b[0m \u001b[0mpd\u001b[0m\u001b[1;33m.\u001b[0m\u001b[0mread_csv\u001b[0m\u001b[1;33m(\u001b[0m\u001b[0mfile_name\u001b[0m\u001b[1;33m,\u001b[0m \u001b[0msep\u001b[0m \u001b[1;33m=\u001b[0m \u001b[1;34m';'\u001b[0m\u001b[1;33m,\u001b[0m \u001b[0mheader\u001b[0m\u001b[1;33m=\u001b[0m\u001b[1;36m0\u001b[0m\u001b[1;33m)\u001b[0m\u001b[1;33m\u001b[0m\u001b[0m\n\u001b[0m\u001b[0;32m      8\u001b[0m \u001b[1;31m#for i in range(len(dataset['CIK'])):\u001b[0m\u001b[1;33m\u001b[0m\u001b[1;33m\u001b[0m\u001b[0m\n\u001b[0;32m      9\u001b[0m     \u001b[1;31m#try:\u001b[0m\u001b[1;33m\u001b[0m\u001b[1;33m\u001b[0m\u001b[0m\n",
      "\u001b[1;32mC:\\Programas\\Anaconda3\\lib\\site-packages\\pandas\\io\\parsers.py\u001b[0m in \u001b[0;36mparser_f\u001b[1;34m(filepath_or_buffer, sep, delimiter, header, names, index_col, usecols, squeeze, prefix, mangle_dupe_cols, dtype, engine, converters, true_values, false_values, skipinitialspace, skiprows, nrows, na_values, keep_default_na, na_filter, verbose, skip_blank_lines, parse_dates, infer_datetime_format, keep_date_col, date_parser, dayfirst, iterator, chunksize, compression, thousands, decimal, lineterminator, quotechar, quoting, escapechar, comment, encoding, dialect, tupleize_cols, error_bad_lines, warn_bad_lines, skipfooter, skip_footer, doublequote, delim_whitespace, as_recarray, compact_ints, use_unsigned, low_memory, buffer_lines, memory_map, float_precision)\u001b[0m\n\u001b[0;32m    653\u001b[0m                     skip_blank_lines=skip_blank_lines)\n\u001b[0;32m    654\u001b[0m \u001b[1;33m\u001b[0m\u001b[0m\n\u001b[1;32m--> 655\u001b[1;33m         \u001b[1;32mreturn\u001b[0m \u001b[0m_read\u001b[0m\u001b[1;33m(\u001b[0m\u001b[0mfilepath_or_buffer\u001b[0m\u001b[1;33m,\u001b[0m \u001b[0mkwds\u001b[0m\u001b[1;33m)\u001b[0m\u001b[1;33m\u001b[0m\u001b[0m\n\u001b[0m\u001b[0;32m    656\u001b[0m \u001b[1;33m\u001b[0m\u001b[0m\n\u001b[0;32m    657\u001b[0m     \u001b[0mparser_f\u001b[0m\u001b[1;33m.\u001b[0m\u001b[0m__name__\u001b[0m \u001b[1;33m=\u001b[0m \u001b[0mname\u001b[0m\u001b[1;33m\u001b[0m\u001b[0m\n",
      "\u001b[1;32mC:\\Programas\\Anaconda3\\lib\\site-packages\\pandas\\io\\parsers.py\u001b[0m in \u001b[0;36m_read\u001b[1;34m(filepath_or_buffer, kwds)\u001b[0m\n\u001b[0;32m    403\u001b[0m \u001b[1;33m\u001b[0m\u001b[0m\n\u001b[0;32m    404\u001b[0m     \u001b[1;31m# Create the parser.\u001b[0m\u001b[1;33m\u001b[0m\u001b[1;33m\u001b[0m\u001b[0m\n\u001b[1;32m--> 405\u001b[1;33m     \u001b[0mparser\u001b[0m \u001b[1;33m=\u001b[0m \u001b[0mTextFileReader\u001b[0m\u001b[1;33m(\u001b[0m\u001b[0mfilepath_or_buffer\u001b[0m\u001b[1;33m,\u001b[0m \u001b[1;33m**\u001b[0m\u001b[0mkwds\u001b[0m\u001b[1;33m)\u001b[0m\u001b[1;33m\u001b[0m\u001b[0m\n\u001b[0m\u001b[0;32m    406\u001b[0m \u001b[1;33m\u001b[0m\u001b[0m\n\u001b[0;32m    407\u001b[0m     \u001b[1;32mif\u001b[0m \u001b[0mchunksize\u001b[0m \u001b[1;32mor\u001b[0m \u001b[0miterator\u001b[0m\u001b[1;33m:\u001b[0m\u001b[1;33m\u001b[0m\u001b[0m\n",
      "\u001b[1;32mC:\\Programas\\Anaconda3\\lib\\site-packages\\pandas\\io\\parsers.py\u001b[0m in \u001b[0;36m__init__\u001b[1;34m(self, f, engine, **kwds)\u001b[0m\n\u001b[0;32m    762\u001b[0m             \u001b[0mself\u001b[0m\u001b[1;33m.\u001b[0m\u001b[0moptions\u001b[0m\u001b[1;33m[\u001b[0m\u001b[1;34m'has_index_names'\u001b[0m\u001b[1;33m]\u001b[0m \u001b[1;33m=\u001b[0m \u001b[0mkwds\u001b[0m\u001b[1;33m[\u001b[0m\u001b[1;34m'has_index_names'\u001b[0m\u001b[1;33m]\u001b[0m\u001b[1;33m\u001b[0m\u001b[0m\n\u001b[0;32m    763\u001b[0m \u001b[1;33m\u001b[0m\u001b[0m\n\u001b[1;32m--> 764\u001b[1;33m         \u001b[0mself\u001b[0m\u001b[1;33m.\u001b[0m\u001b[0m_make_engine\u001b[0m\u001b[1;33m(\u001b[0m\u001b[0mself\u001b[0m\u001b[1;33m.\u001b[0m\u001b[0mengine\u001b[0m\u001b[1;33m)\u001b[0m\u001b[1;33m\u001b[0m\u001b[0m\n\u001b[0m\u001b[0;32m    765\u001b[0m \u001b[1;33m\u001b[0m\u001b[0m\n\u001b[0;32m    766\u001b[0m     \u001b[1;32mdef\u001b[0m \u001b[0mclose\u001b[0m\u001b[1;33m(\u001b[0m\u001b[0mself\u001b[0m\u001b[1;33m)\u001b[0m\u001b[1;33m:\u001b[0m\u001b[1;33m\u001b[0m\u001b[0m\n",
      "\u001b[1;32mC:\\Programas\\Anaconda3\\lib\\site-packages\\pandas\\io\\parsers.py\u001b[0m in \u001b[0;36m_make_engine\u001b[1;34m(self, engine)\u001b[0m\n\u001b[0;32m    983\u001b[0m     \u001b[1;32mdef\u001b[0m \u001b[0m_make_engine\u001b[0m\u001b[1;33m(\u001b[0m\u001b[0mself\u001b[0m\u001b[1;33m,\u001b[0m \u001b[0mengine\u001b[0m\u001b[1;33m=\u001b[0m\u001b[1;34m'c'\u001b[0m\u001b[1;33m)\u001b[0m\u001b[1;33m:\u001b[0m\u001b[1;33m\u001b[0m\u001b[0m\n\u001b[0;32m    984\u001b[0m         \u001b[1;32mif\u001b[0m \u001b[0mengine\u001b[0m \u001b[1;33m==\u001b[0m \u001b[1;34m'c'\u001b[0m\u001b[1;33m:\u001b[0m\u001b[1;33m\u001b[0m\u001b[0m\n\u001b[1;32m--> 985\u001b[1;33m             \u001b[0mself\u001b[0m\u001b[1;33m.\u001b[0m\u001b[0m_engine\u001b[0m \u001b[1;33m=\u001b[0m \u001b[0mCParserWrapper\u001b[0m\u001b[1;33m(\u001b[0m\u001b[0mself\u001b[0m\u001b[1;33m.\u001b[0m\u001b[0mf\u001b[0m\u001b[1;33m,\u001b[0m \u001b[1;33m**\u001b[0m\u001b[0mself\u001b[0m\u001b[1;33m.\u001b[0m\u001b[0moptions\u001b[0m\u001b[1;33m)\u001b[0m\u001b[1;33m\u001b[0m\u001b[0m\n\u001b[0m\u001b[0;32m    986\u001b[0m         \u001b[1;32melse\u001b[0m\u001b[1;33m:\u001b[0m\u001b[1;33m\u001b[0m\u001b[0m\n\u001b[0;32m    987\u001b[0m             \u001b[1;32mif\u001b[0m \u001b[0mengine\u001b[0m \u001b[1;33m==\u001b[0m \u001b[1;34m'python'\u001b[0m\u001b[1;33m:\u001b[0m\u001b[1;33m\u001b[0m\u001b[0m\n",
      "\u001b[1;32mC:\\Programas\\Anaconda3\\lib\\site-packages\\pandas\\io\\parsers.py\u001b[0m in \u001b[0;36m__init__\u001b[1;34m(self, src, **kwds)\u001b[0m\n\u001b[0;32m   1603\u001b[0m         \u001b[0mkwds\u001b[0m\u001b[1;33m[\u001b[0m\u001b[1;34m'allow_leading_cols'\u001b[0m\u001b[1;33m]\u001b[0m \u001b[1;33m=\u001b[0m \u001b[0mself\u001b[0m\u001b[1;33m.\u001b[0m\u001b[0mindex_col\u001b[0m \u001b[1;32mis\u001b[0m \u001b[1;32mnot\u001b[0m \u001b[1;32mFalse\u001b[0m\u001b[1;33m\u001b[0m\u001b[0m\n\u001b[0;32m   1604\u001b[0m \u001b[1;33m\u001b[0m\u001b[0m\n\u001b[1;32m-> 1605\u001b[1;33m         \u001b[0mself\u001b[0m\u001b[1;33m.\u001b[0m\u001b[0m_reader\u001b[0m \u001b[1;33m=\u001b[0m \u001b[0mparsers\u001b[0m\u001b[1;33m.\u001b[0m\u001b[0mTextReader\u001b[0m\u001b[1;33m(\u001b[0m\u001b[0msrc\u001b[0m\u001b[1;33m,\u001b[0m \u001b[1;33m**\u001b[0m\u001b[0mkwds\u001b[0m\u001b[1;33m)\u001b[0m\u001b[1;33m\u001b[0m\u001b[0m\n\u001b[0m\u001b[0;32m   1606\u001b[0m \u001b[1;33m\u001b[0m\u001b[0m\n\u001b[0;32m   1607\u001b[0m         \u001b[1;31m# XXX\u001b[0m\u001b[1;33m\u001b[0m\u001b[1;33m\u001b[0m\u001b[0m\n",
      "\u001b[1;32mpandas/_libs/parsers.pyx\u001b[0m in \u001b[0;36mpandas._libs.parsers.TextReader.__cinit__ (pandas\\_libs\\parsers.c:4209)\u001b[1;34m()\u001b[0m\n",
      "\u001b[1;32mpandas/_libs/parsers.pyx\u001b[0m in \u001b[0;36mpandas._libs.parsers.TextReader._setup_parser_source (pandas\\_libs\\parsers.c:8873)\u001b[1;34m()\u001b[0m\n",
      "\u001b[1;31mFileNotFoundError\u001b[0m: File b'20181019-sp-100.csv' does not exist"
     ]
    }
   ],
   "source": [
    "import pandas as pd\n",
    "from os import listdir\n",
    "from os.path import isfile, join\n",
    "from shutil import copyfile\n",
    "path = \"C:\\\\Users\\\\Marcelo Queirós\\\\Documents\\\\MIEI\\\\Ano 2\\\\Tese\\dataset\"\n",
    "file_name ='20181019-sp-100.csv'\n",
    "dataset = pd.read_csv(file_name, sep = ';', header=0)\n",
    "#for i in range(len(dataset['CIK'])):\n",
    "    #try:\n",
    "        #dataset['CIK'][i]= int(dataset['CIK'][i])\n",
    "    #except:\n",
    "    #    print(\"An exception occurred\")"
   ]
  },
  {
   "cell_type": "code",
   "execution_count": 42,
   "metadata": {
    "collapsed": true,
    "scrolled": false
   },
   "outputs": [],
   "source": [
    "a = []\n",
    "for ano in range(2009, 2019):\n",
    "    for qtr in range(1, 5):\n",
    "        #a.append(print('-----------------------------------------' + str(ano)))\n",
    "        mypath = \"10-X_C_2006-2018\\\\\" + str(ano) + \"\\\\QTR\" + str(qtr) + \"\\\\\" #nao é caminho completo\n",
    "        onlyfiles = [f for f in listdir(mypath) if isfile(join(mypath, f))]\n",
    "        for name_file in onlyfiles:\n",
    "            # 20060117_10QSB_edgar_data_1039757_0001169232-06-000143_1.txt\n",
    "            ten = name_file.split('_')[1]\n",
    "            if ten[0] == '1' and ten[1] == '0' and ten[2] == '-' and ten[3] == 'K':\n",
    "                cik_file = int(name_file.split('_')[4])\n",
    "                for i in range(len(dataset['CIK'])):\n",
    "                    if cik_file == dataset['CIK'][i]:\n",
    "                        #a.append(print(dataset['NAME'][i], dataset['CIK'][i], name_file))\n",
    "                        copyfile(mypath + name_file, \"SP100_10K_2009-18\\\\\" + str(ano) + \"\\\\QTR\" + str(qtr) +\"\\\\\" + dataset['NAME'][i] + \"--\" + name_file)\n",
    "                        \n",
    "            if ten[0] == '1' and ten[1] == '0' and ten[2] == 'K':\n",
    "                cik_file = int(name_file.split('_')[4])\n",
    "                for i in range(len(dataset['CIK'])):\n",
    "                    if cik_file == dataset['CIK'][i]:\n",
    "                        #a.append(print(dataset['NAME'][i], dataset['CIK'][i], name_file))\n",
    "                        if not os.path.exists(\"SP100_10K_2009-18\\\\\" + str(ano) + \"\\\\QTR\" + str(qtr) +\"\\\\\"):\n",
    "                            os.makedirs(\"SP100_10K_2009-18\\\\\" + str(ano) + \"\\\\QTR\" + str(qtr) +\"\\\\\")\n",
    "                        copyfile(mypath + name_file, \"SP100_10K_2009-18\\\\\" + str(ano) + \"\\\\QTR\" + str(qtr) +\"\\\\\" + \"SB\\\\\" + dataset['NAME'][i] + \"--\" + name_file)"
   ]
  },
  {
   "cell_type": "code",
   "execution_count": 102,
   "metadata": {
    "collapsed": true
   },
   "outputs": [],
   "source": [
    "contadorSB=0\n",
    "\n",
    "df = pd.DataFrame(dataset['CIK'])\n",
    "line = pd.DataFrame({\"CIK\": -1}, index=[-1])\n",
    "df = df.append(line, ignore_index=False)\n",
    "df = df.sort_index().reset_index(drop=True)\n",
    "\n",
    "\n",
    "for ano in range(2009, 2019):\n",
    "    df[str(ano)] = 0\n",
    "\n",
    "\n",
    "for ano in range(2009, 2019):\n",
    "    for qtr in range(1, 5):\n",
    "        mypath = \"10-X_C_2006-2018\\\\\" + str(ano) + \"\\\\QTR\" + str(qtr) + \"\\\\\" #nao é caminho completo\n",
    "        onlyfiles = [f for f in listdir(mypath) if isfile(join(mypath, f))]\n",
    "        for name_file in onlyfiles:\n",
    "            # 20060117_10QSB_edgar_data_1039757_0001169232-06-000143_1.txt\n",
    "            ten = name_file.split('_')[1]\n",
    "            if ten[0] == '1' and ten[1] == '0' and ten[2] == '-' and ten[3] == 'K':\n",
    "                cik_file = int(name_file.split('_')[4])\n",
    "                for i in range(len(dataset['CIK'])):\n",
    "                    if cik_file == dataset['CIK'][i]:\n",
    "                        df[str(ano)][0]+=1\n",
    "                        df[str(ano)][i+1]+=1\n",
    "                        \n",
    "                        \n",
    "            if ten[0] == '1' and ten[1] == '0' and ten[2] == 'K':\n",
    "                cik_file = int(name_file.split('_')[4])\n",
    "                for i in range(len(dataset['CIK'])):\n",
    "                    if cik_file == dataset['CIK'][i]:\n",
    "                        contadorSB+=1\n",
    "                        df[str(ano)][0]+=1\n",
    "                        df[str(ano)][i+1]+=1"
   ]
  },
  {
   "cell_type": "code",
   "execution_count": 101,
   "metadata": {},
   "outputs": [
    {
     "data": {
      "text/plain": [
       "0"
      ]
     },
     "execution_count": 101,
     "metadata": {},
     "output_type": "execute_result"
    }
   ],
   "source": [
    "contadorSB"
   ]
  },
  {
   "cell_type": "code",
   "execution_count": 108,
   "metadata": {
    "collapsed": true
   },
   "outputs": [],
   "source": [
    "df.to_csv('out.csv', sep = \";\")"
   ]
  },
  {
   "cell_type": "code",
   "execution_count": 20,
   "metadata": {},
   "outputs": [
    {
     "data": {
      "text/plain": [
       "1528930"
      ]
     },
     "execution_count": 20,
     "metadata": {},
     "output_type": "execute_result"
    }
   ],
   "source": [
    "import pandas as pd\n",
    "from shutil import copyfile\n",
    "copyfile(src, dst)\n",
    "path = \"C:\\\\Users\\\\Marcelo Queirós\\\\Documents\\MIEI\\\\Ano 2\\\\Tese\\\\dataset\\\\\"\n",
    "file_name = path + '20181019-sp-100.csv'\n",
    "\n",
    "dataset = pd.read_csv(file_name, sep = ',', header=0)\n",
    "dataset\n",
    "'''\n",
    "    df = pd.DataFrame(dataset)\n",
    "    df = df.drop(df.index[0])\n",
    "\n",
    "\n",
    "\n",
    "    df['data'], df['horas'] = df.iloc[:,0].str.split(' ').str\n",
    "\n",
    "\n",
    "    df['day'], df['month'], df['year'] = df.iloc[:,11].str.split('/').str\n",
    "\n",
    "    df['hour'], df['minute'] = df.iloc[:,12].str.split(':').str\n",
    "    #df['day'], df['month'], df['year'] = data\n",
    "\n",
    "    df.drop(df.columns[[0]], axis=1, inplace=True) #eliminar data original\n",
    "    df.drop(df.columns[[10]], axis=1, inplace=True) #eliminar data original\n",
    "    df.drop(df.columns[[10]], axis=1, inplace=True) #eliminar data original\n",
    "    df = df[['day', 'month', 'year', 'hour', 'minute', 'Tca', 'Tsupe', '   Tip', '   Te', 'SR', 'Tsupi', 'aberturas ventilação', 'persiana', 'HF', '     Ti']]\n",
    "    df.iloc[:,5] = pd.to_numeric(df.iloc[:,5].str.replace(',', '.'))\n",
    "    df.iloc[:,6] = pd.to_numeric(df.iloc[:,6].str.replace(',', '.'))\n",
    "    df.iloc[:,7] = pd.to_numeric(df.iloc[:,7].str.replace(',', '.'))\n",
    "    df.iloc[:,8] = pd.to_numeric(df.iloc[:,8].str.replace(',', '.'))\n",
    "    df.iloc[:,9] = pd.to_numeric(df.iloc[:,9].str.replace(',', '.'))\n",
    "    df.iloc[:,10] = pd.to_numeric(df.iloc[:,10].str.replace(',', '.'))\n",
    "    df.iloc[:,11] = pd.to_numeric(df.iloc[:,11].str.replace(',', '.'))\n",
    "    df.iloc[:,12] = pd.to_numeric(df.iloc[:,12].replace(',', '.'))\n",
    "    df.iloc[:,13] = pd.to_numeric(df.iloc[:,13].str.replace(',', '.'))\n",
    "    df.iloc[:,14] = pd.to_numeric(df.iloc[:,14].str.replace(',', '.'))\n",
    "    df\n",
    "\n",
    "        #df = df[:-1] #eliminar a ultima linha porque é uma frase informativa\n",
    "\n",
    "        #vamos passar ano e mes para para strings para não ser interpretado como valores\n",
    "\n",
    "        #look_up = {'1': 'First', '2': 'Second', '3': 'Third'}\n",
    "        #df['year'] = df['year'].apply(lambda x: look_up[x])\n",
    "\n",
    "        #look_up = {'01': 'Jan', '02': 'Feb', '03': 'Mar', '04': 'Apr', '05': 'May',\n",
    "                   # '06': 'Jun', '07': 'Jul', '08': 'Aug', '09': 'Sep', '10': 'Oct', '11': 'Nov', '12': 'Dec'}\n",
    "\n",
    "        #df['month'] = df['month'].apply(lambda x: look_up[x])\n",
    "\n",
    "        #df = df[['year', 'month', 'pub', 'sales']]\n",
    "    return df\n",
    "'''\n"
   ]
  }
 ],
 "metadata": {
  "kernelspec": {
   "display_name": "Python 3",
   "language": "python",
   "name": "python3"
  },
  "language_info": {
   "codemirror_mode": {
    "name": "ipython",
    "version": 3
   },
   "file_extension": ".py",
   "mimetype": "text/x-python",
   "name": "python",
   "nbconvert_exporter": "python",
   "pygments_lexer": "ipython3",
   "version": "3.6.2"
  }
 },
 "nbformat": 4,
 "nbformat_minor": 2
}
